{
 "cells": [
  {
   "cell_type": "code",
   "execution_count": 1,
   "id": "f7be3138-bc75-4bc1-a4f3-925a2877db2f",
   "metadata": {},
   "outputs": [],
   "source": [
    "# -------------------> DATE AND TIME FUNCTIONS & OPERATIONS IN SQL <-----------------------------------"
   ]
  },
  {
   "cell_type": "code",
   "execution_count": 1,
   "id": "784d86c4-f63c-4371-a663-ee0e2b1ce0e5",
   "metadata": {
    "tags": []
   },
   "outputs": [
    {
     "name": "stdout",
     "output_type": "stream",
     "text": [
      "Requirement already satisfied: mysql-connector-python in c:\\users\\admin\\anaconda3\\lib\\site-packages (8.3.0)\n",
      "Note: you may need to restart the kernel to use updated packages.\n"
     ]
    }
   ],
   "source": [
    "pip install mysql-connector-python"
   ]
  },
  {
   "cell_type": "code",
   "execution_count": 2,
   "id": "afd371d7-f4b8-410b-8b59-537f1dc08a6d",
   "metadata": {
    "tags": []
   },
   "outputs": [],
   "source": [
    "import mysql.connector as g\n",
    "from tabulate import tabulate\n",
    "import pandas as pd\n",
    "mydb = g.connect(host = 'localhost',user = 'root',passwd = 'Loveumom@123')\n",
    "cursor = mydb.cursor()"
   ]
  },
  {
   "cell_type": "code",
   "execution_count": 3,
   "id": "76eea508-1561-462a-8cdc-efdeeaa3d269",
   "metadata": {
    "tags": []
   },
   "outputs": [],
   "source": [
    "cursor.execute('SHOW DATABASES')"
   ]
  },
  {
   "cell_type": "code",
   "execution_count": 4,
   "id": "928b9f54-5a4a-4860-8f70-9020d8ab87e5",
   "metadata": {
    "tags": []
   },
   "outputs": [
    {
     "data": {
      "text/plain": [
       "[('cardataset',),\n",
       " ('information_schema',),\n",
       " ('mysql',),\n",
       " ('performance_schema',),\n",
       " ('sidfirst',),\n",
       " ('sqlpractice1',),\n",
       " ('sys',)]"
      ]
     },
     "execution_count": 4,
     "metadata": {},
     "output_type": "execute_result"
    }
   ],
   "source": [
    "cursor.fetchall()"
   ]
  },
  {
   "cell_type": "code",
   "execution_count": 9,
   "id": "fc3852b0-fd0e-4664-84ea-27604afeb6e8",
   "metadata": {
    "tags": []
   },
   "outputs": [],
   "source": [
    "cursor.execute('USE sqlpractice1')\n",
    "cursor.execute('SHOW TABLES')"
   ]
  },
  {
   "cell_type": "code",
   "execution_count": 10,
   "id": "f49d0383-baaf-448a-a835-a0ad1e3e0d13",
   "metadata": {
    "tags": []
   },
   "outputs": [
    {
     "name": "stdout",
     "output_type": "stream",
     "text": [
      "+------------------------+\n",
      "| TABLES IN sqlpractice1 |\n",
      "+------------------------+\n",
      "|       employees        |\n",
      "|   popular_databases    |\n",
      "|   popular_languages    |\n",
      "|        student         |\n",
      "+------------------------+\n"
     ]
    }
   ],
   "source": [
    "print(tabulate(cursor.fetchall(),headers = ['TABLES IN sqlpractice1'],tablefmt = 'pretty'))"
   ]
  },
  {
   "cell_type": "code",
   "execution_count": 7,
   "id": "b40bfbfb-4d73-4e21-a55f-15876a3da83e",
   "metadata": {
    "tags": []
   },
   "outputs": [],
   "source": [
    "cursor.execute(\"\"\"\n",
    "SELECT CURDATE(); \n",
    "\"\"\")\n",
    "# OR SELECT CURRENT_DATE;"
   ]
  },
  {
   "cell_type": "code",
   "execution_count": 8,
   "id": "d3362c8d-4efa-48bc-a590-660f3a58b0be",
   "metadata": {
    "tags": []
   },
   "outputs": [
    {
     "name": "stdout",
     "output_type": "stream",
     "text": [
      "+--------------+\n",
      "| CURRENT DATE |\n",
      "+--------------+\n",
      "|  2024-09-11  |\n",
      "+--------------+\n"
     ]
    }
   ],
   "source": [
    "print(tabulate(cursor.fetchall(),headers = ['CURRENT DATE'],tablefmt = 'pretty'))"
   ]
  },
  {
   "cell_type": "code",
   "execution_count": 14,
   "id": "385ca328-6a7b-4e1e-a315-2a5fe6334832",
   "metadata": {
    "tags": []
   },
   "outputs": [],
   "source": [
    "cursor.execute(\"\"\"\n",
    "SELECT CURTIME();\n",
    "\"\"\")"
   ]
  },
  {
   "cell_type": "code",
   "execution_count": 15,
   "id": "412d3fd0-d715-4406-90c6-d69b915b68fc",
   "metadata": {
    "tags": []
   },
   "outputs": [
    {
     "name": "stdout",
     "output_type": "stream",
     "text": [
      "+--------------+\n",
      "| CURRENT TIME |\n",
      "+--------------+\n",
      "|   9:23:21    |\n",
      "+--------------+\n"
     ]
    }
   ],
   "source": [
    "print(tabulate(cursor.fetchall(),headers = ['CURRENT TIME'],tablefmt = 'pretty'))"
   ]
  },
  {
   "cell_type": "code",
   "execution_count": 18,
   "id": "ba2cd70c-5fe5-4a01-97b4-6e0bda1c74d1",
   "metadata": {
    "tags": []
   },
   "outputs": [
    {
     "name": "stdout",
     "output_type": "stream",
     "text": [
      "+---------------------+\n",
      "| CURRENT DATE & TIME |\n",
      "+---------------------+\n",
      "| 2024-09-11 09:26:21 |\n",
      "+---------------------+\n"
     ]
    }
   ],
   "source": [
    "# -----> current time stamp means current date and time\n",
    "cursor.execute(\"\"\"\n",
    "SELECT NOW();\n",
    "\"\"\")\n",
    "print(tabulate(cursor.fetchall(),headers = ['CURRENT DATE & TIME'],tablefmt = 'pretty')) # OR SELECT CURRENT_TIMESTAMP();"
   ]
  },
  {
   "cell_type": "code",
   "execution_count": 20,
   "id": "f7d09fde-0132-4c59-a271-2f3cd97660d3",
   "metadata": {
    "tags": []
   },
   "outputs": [
    {
     "name": "stdout",
     "output_type": "stream",
     "text": [
      "+---------------------+\n",
      "|  CURRENT TIMESTAMP  |\n",
      "+---------------------+\n",
      "| 2024-09-11 09:27:16 |\n",
      "+---------------------+\n"
     ]
    }
   ],
   "source": [
    "cursor.execute(\"\"\"\n",
    "SELECT CURRENT_TIMESTAMP();\n",
    "\"\"\")\n",
    "print(tabulate(cursor.fetchall(),headers = ['CURRENT TIMESTAMP'],tablefmt = 'pretty'))"
   ]
  },
  {
   "cell_type": "code",
   "execution_count": 21,
   "id": "5db8a135-77e3-449d-ae2e-51c50a1aed8f",
   "metadata": {
    "tags": []
   },
   "outputs": [],
   "source": [
    "# Extract the date part from data or datetime expression\n",
    "cursor.execute(\"\"\"\n",
    "SELECT DATE('2024-09-10 12:34:56');\n",
    "\"\"\")"
   ]
  },
  {
   "cell_type": "code",
   "execution_count": 22,
   "id": "14fbffdc-7e77-44fe-9118-751f82300554",
   "metadata": {
    "tags": []
   },
   "outputs": [
    {
     "name": "stdout",
     "output_type": "stream",
     "text": [
      "+------------+\n",
      "|    DATE    |\n",
      "+------------+\n",
      "| 2024-09-10 |\n",
      "+------------+\n"
     ]
    }
   ],
   "source": [
    "print(tabulate(cursor.fetchall(),headers = ['DATE'],tablefmt = 'pretty'))"
   ]
  },
  {
   "cell_type": "code",
   "execution_count": 26,
   "id": "a91b0679-bd50-4e86-87c2-29cbfe6bba7c",
   "metadata": {
    "tags": []
   },
   "outputs": [],
   "source": [
    "# extract the part of the date such as date,month,year,hour,minutes,seconds etc.\n",
    "cursor.execute(\"\"\"\n",
    "SELECT EXTRACT(YEAR FROM '2024-06-15');\n",
    "\"\"\")"
   ]
  },
  {
   "cell_type": "code",
   "execution_count": 27,
   "id": "22e3a1d4-7c63-4a1d-a810-74fb9bb41462",
   "metadata": {
    "tags": []
   },
   "outputs": [
    {
     "name": "stdout",
     "output_type": "stream",
     "text": [
      "+------+\n",
      "| YEAR |\n",
      "+------+\n",
      "| 2024 |\n",
      "+------+\n"
     ]
    }
   ],
   "source": [
    "print(tabulate(cursor.fetchall(),headers = ['YEAR'],tablefmt = 'pretty'))"
   ]
  },
  {
   "cell_type": "code",
   "execution_count": 34,
   "id": "5dc711d4-6f2c-4257-8a8e-4689206fbeb7",
   "metadata": {
    "tags": []
   },
   "outputs": [],
   "source": [
    "# DATE_ADD() to add specific interval to date (like adding days,or months,or year)\n",
    "# Syntax : SELECT DATE_ADD(date_expression, INTERVAL value unit); value : 12,5,-7,-4 unit: day,month,year\n",
    "cursor.execute(\"\"\"\n",
    "SELECT DATE_ADD('2022-09-10',INTERVAL -5 DAY);\n",
    "\"\"\")"
   ]
  },
  {
   "cell_type": "code",
   "execution_count": 35,
   "id": "447fd226-3054-4a79-aaaa-725074c0b113",
   "metadata": {
    "tags": []
   },
   "outputs": [
    {
     "name": "stdout",
     "output_type": "stream",
     "text": [
      "+------------+\n",
      "|   RESULT   |\n",
      "+------------+\n",
      "| 2022-09-05 |\n",
      "+------------+\n"
     ]
    }
   ],
   "source": [
    "print(tabulate(cursor.fetchall(),headers = ['RESULT'],tablefmt = 'pretty'))"
   ]
  },
  {
   "cell_type": "code",
   "execution_count": 36,
   "id": "1d989b21-5a29-4099-a53d-2d4d31e644ff",
   "metadata": {
    "tags": []
   },
   "outputs": [],
   "source": [
    "# DATE_SUB() to subtract specific time interval from a Date.\n",
    "cursor.execute(\"\"\"\n",
    "SELECT DATE_SUB('2024-09-10', INTERVAL 5 MONTH);\n",
    "\"\"\")"
   ]
  },
  {
   "cell_type": "code",
   "execution_count": 37,
   "id": "d5083001-6562-4e4e-9caf-7ebe036fed51",
   "metadata": {
    "tags": []
   },
   "outputs": [
    {
     "name": "stdout",
     "output_type": "stream",
     "text": [
      "+------------+\n",
      "|   RESULT   |\n",
      "+------------+\n",
      "| 2024-04-10 |\n",
      "+------------+\n"
     ]
    }
   ],
   "source": [
    "print(tabulate(cursor.fetchall(),headers = ['RESULT'],tablefmt = 'pretty'))"
   ]
  },
  {
   "cell_type": "code",
   "execution_count": 5,
   "id": "a90f26d6-5ca7-4b80-a936-4c514eb1e91d",
   "metadata": {
    "tags": []
   },
   "outputs": [],
   "source": [
    "# DATEDIFF() : Returns the number of days between two dates.\n",
    "# syntax : DATEDIIF(date1,date2); .... counting from date2 to date1\n",
    "cursor.execute(\"\"\"\n",
    "SELECT DATEDIFF('2015-04-30','2015-01-30');\n",
    "\"\"\")"
   ]
  },
  {
   "cell_type": "code",
   "execution_count": 6,
   "id": "0c2a0511-f6d8-4534-aa03-cc781b1eae1b",
   "metadata": {
    "tags": []
   },
   "outputs": [
    {
     "name": "stdout",
     "output_type": "stream",
     "text": [
      "+--------+\n",
      "| RESULT |\n",
      "+--------+\n",
      "|   90   |\n",
      "+--------+\n"
     ]
    }
   ],
   "source": [
    "print(tabulate(cursor.fetchall(),headers = ['RESULT'],tablefmt = 'pretty'))"
   ]
  },
  {
   "cell_type": "code",
   "execution_count": 7,
   "id": "baacb6b2-0934-4fd7-be56-1a33325c4b88",
   "metadata": {
    "tags": []
   },
   "outputs": [],
   "source": [
    "# STR_TO_DATE() : Converts a string into a date according to the specified format.\n",
    "# syntax : SELECT STR_TO_DATE(string, format);\n",
    "cursor.execute(\"\"\"\n",
    "SELECT STR_TO_DATE('10/09/2024', '%d/%m/%Y');\n",
    "\"\"\")"
   ]
  },
  {
   "cell_type": "code",
   "execution_count": 8,
   "id": "6cb8d637-d217-46fa-9645-9e040727f7a4",
   "metadata": {
    "tags": []
   },
   "outputs": [
    {
     "name": "stdout",
     "output_type": "stream",
     "text": [
      "+------------+\n",
      "|   RESULT   |\n",
      "+------------+\n",
      "| 2024-09-10 |\n",
      "+------------+\n"
     ]
    }
   ],
   "source": [
    "print(tabulate(cursor.fetchall(),headers = ['RESULT'],tablefmt = 'pretty'))"
   ]
  },
  {
   "cell_type": "code",
   "execution_count": 11,
   "id": "d729581c-8241-443d-b24e-8d8e5c7d6e00",
   "metadata": {},
   "outputs": [],
   "source": [
    "# DATE_FORMAT() : Formats date according to specified format.\n",
    "# syntax : SELECT DATE_FORMAT(date,format);\n",
    "cursor.execute(\"\"\"\n",
    "SELECT DATE_FORMAT('2019-11-25','%d-%m-%Y');\n",
    "\"\"\")"
   ]
  },
  {
   "cell_type": "code",
   "execution_count": 12,
   "id": "515c2aa2-fed6-4b6e-b7ce-bf9413e2b472",
   "metadata": {
    "tags": []
   },
   "outputs": [
    {
     "name": "stdout",
     "output_type": "stream",
     "text": [
      "+------------+\n",
      "|   RESULT   |\n",
      "+------------+\n",
      "| 25-11-2019 |\n",
      "+------------+\n"
     ]
    }
   ],
   "source": [
    "print(tabulate(cursor.fetchall(),headers = ['RESULT'],tablefmt = 'pretty'))"
   ]
  },
  {
   "cell_type": "code",
   "execution_count": 13,
   "id": "5ef23f38-26de-48c1-aaf2-f38cd0e9bfcc",
   "metadata": {
    "tags": []
   },
   "outputs": [],
   "source": [
    "# DATE() : Extracts time from datetime expression\n",
    "# syntax : DATE(datetime);\n",
    "cursor.execute(\"\"\"\n",
    "SELECT TIME('2023-04-15 14:20:56')\n",
    "\"\"\")"
   ]
  },
  {
   "cell_type": "code",
   "execution_count": 14,
   "id": "10f604ab-f11e-4d72-8b27-88aa9b3e31f0",
   "metadata": {
    "tags": []
   },
   "outputs": [
    {
     "name": "stdout",
     "output_type": "stream",
     "text": [
      "+----------+\n",
      "|  RESULT  |\n",
      "+----------+\n",
      "| 14:20:56 |\n",
      "+----------+\n"
     ]
    }
   ],
   "source": [
    "print(tabulate(cursor.fetchall(),headers = ['RESULT'],tablefmt = 'pretty'))"
   ]
  },
  {
   "cell_type": "code",
   "execution_count": 26,
   "id": "21a4d95a-7a52-40e5-a4d6-44cdcf95e77a",
   "metadata": {
    "tags": []
   },
   "outputs": [],
   "source": [
    "#TIMESTAMPDIFF() : extracts timestamp difference between two time stamps in terms of hours,min,secs\n",
    "# syntax : TIMESTAMPDIFF(unit,timestamp1,timestamp2);\n",
    "cursor.execute(\"\"\"\n",
    "SELECT TIMESTAMPDIFF(HOUR,'2017-11-28 14:00:00','2017-11-30 22:00:00')\n",
    "\"\"\")"
   ]
  },
  {
   "cell_type": "code",
   "execution_count": 27,
   "id": "a440040c-0a9b-45cd-b107-7eb39d9c1a9f",
   "metadata": {
    "tags": []
   },
   "outputs": [
    {
     "name": "stdout",
     "output_type": "stream",
     "text": [
      "+--------+\n",
      "| RESULT |\n",
      "+--------+\n",
      "|   56   |\n",
      "+--------+\n"
     ]
    }
   ],
   "source": [
    "print(tabulate(cursor.fetchall(),headers = ['RESULT'],tablefmt = 'pretty'))"
   ]
  },
  {
   "cell_type": "code",
   "execution_count": 33,
   "id": "89fa494b-ad50-4f65-802b-980fa67b1314",
   "metadata": {
    "tags": []
   },
   "outputs": [],
   "source": [
    "# YEAR(),MONTH(),DAY() : Etracts specific part of date such as year,month,day\n",
    "# syntax: SELECT YEAR(DATE),MONTH(DATE),DAY(DATE)\n",
    "cursor.execute(\"\"\"\n",
    "SELECT YEAR('2024-02-13'),MONTH('2024-02-13'),DAY('2024-02-13')\n",
    "\"\"\")"
   ]
  },
  {
   "cell_type": "code",
   "execution_count": 34,
   "id": "8b5b6c48-f3fe-460a-a45c-02d378669256",
   "metadata": {
    "tags": []
   },
   "outputs": [
    {
     "name": "stdout",
     "output_type": "stream",
     "text": [
      "+------+-------+-----+\n",
      "| YEAR | MONTH | DAY |\n",
      "+------+-------+-----+\n",
      "| 2024 |   2   | 13  |\n",
      "+------+-------+-----+\n"
     ]
    }
   ],
   "source": [
    "print(tabulate(cursor.fetchall(),headers = ['YEAR','MONTH','DAY'],tablefmt = 'pretty')) #########################"
   ]
  },
  {
   "cell_type": "code",
   "execution_count": 35,
   "id": "01291e16-26e0-4243-a2a9-880b2a7de60f",
   "metadata": {
    "tags": []
   },
   "outputs": [],
   "source": [
    "# --------> CREATING TABLE AND DOING SOME PROBLEM SOLVING BASED ON ABOVE FUNCTIONS <--------------"
   ]
  },
  {
   "cell_type": "code",
   "execution_count": 5,
   "id": "35a077b1-4055-433a-95a9-42ff12a86b76",
   "metadata": {},
   "outputs": [],
   "source": [
    "cursor.execute(\"\"\"\n",
    "CREATE TABLE sqlpractice1.employees2 (\n",
    "emp_id INT PRIMARY KEY,\n",
    "name VARCHAR(50),\n",
    "birth_date DATE,\n",
    "hire_date DATE,\n",
    "last_promotion TIMESTAMP\n",
    ");\n",
    "\"\"\")"
   ]
  },
  {
   "cell_type": "code",
   "execution_count": 6,
   "id": "4c6f7f8d-6640-4c77-b3cd-eca0176398ac",
   "metadata": {
    "tags": []
   },
   "outputs": [],
   "source": [
    "cursor.execute(\"\"\"\n",
    "INSERT INTO sqlpractice1.employees2 (emp_id,name,birth_date,hire_date,last_promotion) VALUES\n",
    "(1, 'Alice', '1985-06-15', '2015-09-10', '2021-09-01 10:00:00'),\n",
    "(2, 'Bob', '1990-11-20', '2018-01-15', '2023-01-10 09:30:00'),\n",
    "(3, 'Charlie', '1982-03-22', '2010-07-11', '2022-06-15 11:45:00'),\n",
    "(4, 'David', '1995-07-30', '2020-12-01', '2023-06-30 14:15:00'),\n",
    "(5, 'Eva', '1987-09-12', '2012-03-25', '2022-12-22 16:50:00'),\n",
    "(6, 'Frank', '1988-04-18', '2016-06-22', '2023-05-10 12:00:00'),\n",
    "(7, 'Grace', '1983-12-25', '2009-05-03', '2021-10-01 15:20:00'),\n",
    "(8, 'Hannah', '1991-02-14', '2017-07-05', '2022-11-05 09:15:00'),\n",
    "(9, 'Ivy', '1989-08-22', '2019-09-09', '2023-03-25 17:30:00'),\n",
    "(10, 'Jake', '1992-05-10', '2020-02-02', '2023-07-07 10:45:00');\n",
    "\"\"\")"
   ]
  },
  {
   "cell_type": "code",
   "execution_count": 7,
   "id": "5b549e54-6bfb-40b3-b950-3b6f9cfd7298",
   "metadata": {
    "tags": []
   },
   "outputs": [],
   "source": [
    "mydb.commit()"
   ]
  },
  {
   "cell_type": "code",
   "execution_count": 68,
   "id": "10c552d7-16aa-451b-998c-2f54fbe35bef",
   "metadata": {
    "tags": []
   },
   "outputs": [],
   "source": [
    "cursor.execute(\"\"\"\n",
    "SELECT * FROM sqlpractice1.employees2 ;\n",
    "\"\"\")"
   ]
  },
  {
   "cell_type": "code",
   "execution_count": 69,
   "id": "33635480-41bb-4692-8ac6-d8c997fafef4",
   "metadata": {
    "tags": []
   },
   "outputs": [
    {
     "name": "stdout",
     "output_type": "stream",
     "text": [
      "╒══════════╤═════════╤══════════════╤═════════════╤═════════════════════╕\n",
      "│   emp_id │ name    │ birth_date   │ hire_date   │ last_promotion      │\n",
      "╞══════════╪═════════╪══════════════╪═════════════╪═════════════════════╡\n",
      "│        1 │ Alice   │ 1985-06-15   │ 2015-09-10  │ 2021-09-01 10:00:00 │\n",
      "├──────────┼─────────┼──────────────┼─────────────┼─────────────────────┤\n",
      "│        2 │ Bob     │ 1990-11-20   │ 2018-01-15  │ 2023-01-10 09:30:00 │\n",
      "├──────────┼─────────┼──────────────┼─────────────┼─────────────────────┤\n",
      "│        3 │ Charlie │ 1982-03-22   │ 2010-07-11  │ 2022-06-15 11:45:00 │\n",
      "├──────────┼─────────┼──────────────┼─────────────┼─────────────────────┤\n",
      "│        4 │ David   │ 1995-07-30   │ 2020-12-01  │ 2023-06-30 14:15:00 │\n",
      "├──────────┼─────────┼──────────────┼─────────────┼─────────────────────┤\n",
      "│        5 │ Eva     │ 1987-09-12   │ 2012-03-25  │ 2022-12-22 16:50:00 │\n",
      "├──────────┼─────────┼──────────────┼─────────────┼─────────────────────┤\n",
      "│        6 │ Frank   │ 1988-04-18   │ 2016-06-22  │ 2023-05-10 12:00:00 │\n",
      "├──────────┼─────────┼──────────────┼─────────────┼─────────────────────┤\n",
      "│        7 │ Grace   │ 1983-12-25   │ 2009-05-03  │ 2021-10-01 15:20:00 │\n",
      "├──────────┼─────────┼──────────────┼─────────────┼─────────────────────┤\n",
      "│        8 │ Hannah  │ 1991-02-14   │ 2017-07-05  │ 2022-11-05 09:15:00 │\n",
      "├──────────┼─────────┼──────────────┼─────────────┼─────────────────────┤\n",
      "│        9 │ Ivy     │ 1989-08-22   │ 2019-09-09  │ 2023-03-25 17:30:00 │\n",
      "├──────────┼─────────┼──────────────┼─────────────┼─────────────────────┤\n",
      "│       10 │ Jake    │ 1992-05-10   │ 2020-02-02  │ 2023-07-07 10:45:00 │\n",
      "├──────────┼─────────┼──────────────┼─────────────┼─────────────────────┤\n",
      "│       11 │ Sara    │ 1995-06-04   │ 2015-06-04  │ 2021-09-05 12:00:00 │\n",
      "├──────────┼─────────┼──────────────┼─────────────┼─────────────────────┤\n",
      "│       12 │ Kiara   │ 1995-07-10   │ 2018-07-10  │ 2023-01-16 11:30:00 │\n",
      "╘══════════╧═════════╧══════════════╧═════════════╧═════════════════════╛\n"
     ]
    }
   ],
   "source": [
    "print(tabulate(cursor.fetchall(),headers = [column[0] for column in cursor.description],tablefmt = 'fancy_grid'))"
   ]
  },
  {
   "cell_type": "code",
   "execution_count": 8,
   "id": "614e4f95-eb31-4994-a41e-cbc8ff59c6df",
   "metadata": {
    "tags": []
   },
   "outputs": [],
   "source": [
    "cursor.execute(\"\"\"\n",
    "INSERT INTO sqlpractice1.employees2 (emp_id,name,birth_date,hire_date,last_promotion) VALUES\n",
    "(11, 'Sara', '1995-06-04', '2015-06-04', '2021-09-05 12:00:00'),\n",
    "(12, 'Kiara', '1995-07-10', '2018-07-10', '2023-01-16 11:30:00');\n",
    "\"\"\")"
   ]
  },
  {
   "cell_type": "code",
   "execution_count": 9,
   "id": "1fefbc02-9e00-4b74-8f9f-0e6b832e3c69",
   "metadata": {
    "tags": []
   },
   "outputs": [],
   "source": [
    "mydb.commit()"
   ]
  },
  {
   "cell_type": "code",
   "execution_count": 34,
   "id": "95340357-1662-4801-af97-a5564c01d44b",
   "metadata": {},
   "outputs": [],
   "source": [
    "# Problem : 1 Calulate the Age of each Employee\n",
    "# Hint : here we have brithdate and to calculate age we will take difference between current date and birth date in terms of years\n",
    "# CURDATE = 2024-09-13\n",
    "cursor.execute(\"\"\"\n",
    "SELECT name, TIMESTAMPDIFF(YEAR,birth_date,CURDATE()) AS age FROM sqlpractice1.employees2 ;\n",
    "\"\"\")"
   ]
  },
  {
   "cell_type": "code",
   "execution_count": 35,
   "id": "bfd04527-b511-4948-97a4-d5338a6d017f",
   "metadata": {
    "tags": []
   },
   "outputs": [
    {
     "name": "stdout",
     "output_type": "stream",
     "text": [
      "+---------+-----+\n",
      "|  name   | age |\n",
      "+---------+-----+\n",
      "|  Alice  | 39  |\n",
      "|   Bob   | 33  |\n",
      "| Charlie | 42  |\n",
      "|  David  | 29  |\n",
      "|   Eva   | 37  |\n",
      "|  Frank  | 36  |\n",
      "|  Grace  | 40  |\n",
      "| Hannah  | 33  |\n",
      "|   Ivy   | 35  |\n",
      "|  Jake   | 32  |\n",
      "+---------+-----+\n"
     ]
    }
   ],
   "source": [
    "print(tabulate(cursor.fetchall(),headers = [column[0] for column in cursor.description],tablefmt = 'pretty'))"
   ]
  },
  {
   "cell_type": "code",
   "execution_count": 36,
   "id": "0208aaf4-2ce9-4308-b4f6-08ce1b931446",
   "metadata": {
    "tags": []
   },
   "outputs": [
    {
     "name": "stderr",
     "output_type": "stream",
     "text": [
      "C:\\Users\\admin\\AppData\\Local\\Temp\\ipykernel_12148\\2727185882.py:2: UserWarning: pandas only supports SQLAlchemy connectable (engine/connection) or database string URI or sqlite3 DBAPI2 connection. Other DBAPI2 objects are not tested. Please consider using SQLAlchemy.\n",
      "  pd.read_sql(query,mydb)\n"
     ]
    },
    {
     "data": {
      "text/html": [
       "<div>\n",
       "<style scoped>\n",
       "    .dataframe tbody tr th:only-of-type {\n",
       "        vertical-align: middle;\n",
       "    }\n",
       "\n",
       "    .dataframe tbody tr th {\n",
       "        vertical-align: top;\n",
       "    }\n",
       "\n",
       "    .dataframe thead th {\n",
       "        text-align: right;\n",
       "    }\n",
       "</style>\n",
       "<table border=\"1\" class=\"dataframe\">\n",
       "  <thead>\n",
       "    <tr style=\"text-align: right;\">\n",
       "      <th></th>\n",
       "      <th>name</th>\n",
       "      <th>age</th>\n",
       "    </tr>\n",
       "  </thead>\n",
       "  <tbody>\n",
       "    <tr>\n",
       "      <th>0</th>\n",
       "      <td>Alice</td>\n",
       "      <td>39</td>\n",
       "    </tr>\n",
       "    <tr>\n",
       "      <th>1</th>\n",
       "      <td>Bob</td>\n",
       "      <td>33</td>\n",
       "    </tr>\n",
       "    <tr>\n",
       "      <th>2</th>\n",
       "      <td>Charlie</td>\n",
       "      <td>42</td>\n",
       "    </tr>\n",
       "    <tr>\n",
       "      <th>3</th>\n",
       "      <td>David</td>\n",
       "      <td>29</td>\n",
       "    </tr>\n",
       "    <tr>\n",
       "      <th>4</th>\n",
       "      <td>Eva</td>\n",
       "      <td>37</td>\n",
       "    </tr>\n",
       "    <tr>\n",
       "      <th>5</th>\n",
       "      <td>Frank</td>\n",
       "      <td>36</td>\n",
       "    </tr>\n",
       "    <tr>\n",
       "      <th>6</th>\n",
       "      <td>Grace</td>\n",
       "      <td>40</td>\n",
       "    </tr>\n",
       "    <tr>\n",
       "      <th>7</th>\n",
       "      <td>Hannah</td>\n",
       "      <td>33</td>\n",
       "    </tr>\n",
       "    <tr>\n",
       "      <th>8</th>\n",
       "      <td>Ivy</td>\n",
       "      <td>35</td>\n",
       "    </tr>\n",
       "    <tr>\n",
       "      <th>9</th>\n",
       "      <td>Jake</td>\n",
       "      <td>32</td>\n",
       "    </tr>\n",
       "  </tbody>\n",
       "</table>\n",
       "</div>"
      ],
      "text/plain": [
       "      name  age\n",
       "0    Alice   39\n",
       "1      Bob   33\n",
       "2  Charlie   42\n",
       "3    David   29\n",
       "4      Eva   37\n",
       "5    Frank   36\n",
       "6    Grace   40\n",
       "7   Hannah   33\n",
       "8      Ivy   35\n",
       "9     Jake   32"
      ]
     },
     "execution_count": 36,
     "metadata": {},
     "output_type": "execute_result"
    }
   ],
   "source": [
    "query = 'SELECT name, TIMESTAMPDIFF(YEAR,birth_date,CURDATE()) AS age FROM sqlpractice1.employees2'\n",
    "pd.read_sql(query,mydb)"
   ]
  },
  {
   "cell_type": "code",
   "execution_count": 30,
   "id": "0d744189-5b2b-4a76-8d39-beca5c455905",
   "metadata": {
    "tags": []
   },
   "outputs": [],
   "source": [
    "# Problem : 2 calculate no.of days since each employee was hired.\n",
    "# hint : to calculate no.of days between two dates we will use DATEDDIFF() function.\n",
    "# CURDATE = 2024-09-13\n",
    "cursor.execute(\"\"\"\n",
    "SELECT name, DATEDIFF(CURDATE(),hire_date) AS days FROM sqlpractice1.employees2 ;\n",
    "\"\"\")"
   ]
  },
  {
   "cell_type": "code",
   "execution_count": 31,
   "id": "ba524317-cb5c-4726-81b4-bfe6dea39819",
   "metadata": {
    "tags": []
   },
   "outputs": [
    {
     "name": "stdout",
     "output_type": "stream",
     "text": [
      "+---------+------+\n",
      "|  name   | days |\n",
      "+---------+------+\n",
      "|  Alice  | 3291 |\n",
      "|   Bob   | 2433 |\n",
      "| Charlie | 5178 |\n",
      "|  David  | 1382 |\n",
      "|   Eva   | 4555 |\n",
      "|  Frank  | 3005 |\n",
      "|  Grace  | 5612 |\n",
      "| Hannah  | 2627 |\n",
      "|   Ivy   | 1831 |\n",
      "|  Jake   | 1685 |\n",
      "+---------+------+\n"
     ]
    }
   ],
   "source": [
    "print(tabulate(cursor.fetchall(),headers = [column[0] for column in cursor.description],tablefmt = 'pretty'))"
   ]
  },
  {
   "cell_type": "code",
   "execution_count": 32,
   "id": "3e9dded6-dbf0-4331-9ed4-824c29499ccc",
   "metadata": {
    "tags": []
   },
   "outputs": [],
   "source": [
    "# problem : 3.. List of employees who were hired in last 5 years\n",
    "# hint : first we will find date that is 5 years before from today. second we will find all employess hired after this date.\n",
    "# CURDATE = 2024-09-13\n",
    "cursor.execute(\"\"\"\n",
    "SELECT emp_id,name FROM sqlpractice1.employees2 WHERE hire_date >= DATE_SUB(CURDATE(),INTERVAL 5 YEAR);\n",
    "\"\"\")"
   ]
  },
  {
   "cell_type": "code",
   "execution_count": 33,
   "id": "f115a6f3-6e20-4f57-a3a4-ec5e514bc20f",
   "metadata": {
    "tags": []
   },
   "outputs": [
    {
     "name": "stdout",
     "output_type": "stream",
     "text": [
      "+--------+-------+\n",
      "| emp_id | name  |\n",
      "+--------+-------+\n",
      "|   4    | David |\n",
      "|   10   | Jake  |\n",
      "+--------+-------+\n"
     ]
    }
   ],
   "source": [
    "print(tabulate(cursor.fetchall(),headers = [column[0] for column in cursor.description],tablefmt = 'pretty'))"
   ]
  },
  {
   "cell_type": "code",
   "execution_count": 39,
   "id": "b4517e2f-1c27-4b97-9f99-011f64c76fcd",
   "metadata": {
    "tags": []
   },
   "outputs": [],
   "source": [
    "# problem-4: find employees born in 1980s\n",
    "# hint : take birth date and find employees born between 1980 - 1989\n",
    "\n",
    "cursor.execute(\"\"\"\n",
    "SELECT emp_id,name,birth_date FROM sqlpractice1.employees2 WHERE YEAR(birth_date) BETWEEN 1980 AND 1989 ;\n",
    "\"\"\")"
   ]
  },
  {
   "cell_type": "code",
   "execution_count": 40,
   "id": "6f31d22c-412e-46da-a7eb-f4b229b0325e",
   "metadata": {
    "tags": []
   },
   "outputs": [
    {
     "name": "stdout",
     "output_type": "stream",
     "text": [
      "+--------+---------+------------+\n",
      "| emp_id |  name   | birth_date |\n",
      "+--------+---------+------------+\n",
      "|   1    |  Alice  | 1985-06-15 |\n",
      "|   3    | Charlie | 1982-03-22 |\n",
      "|   5    |   Eva   | 1987-09-12 |\n",
      "|   6    |  Frank  | 1988-04-18 |\n",
      "|   7    |  Grace  | 1983-12-25 |\n",
      "|   9    |   Ivy   | 1989-08-22 |\n",
      "+--------+---------+------------+\n"
     ]
    }
   ],
   "source": [
    "print(tabulate(cursor.fetchall(),headers = [column[0] for column in cursor.description],tablefmt = 'pretty'))"
   ]
  },
  {
   "cell_type": "code",
   "execution_count": 54,
   "id": "6203c05f-aec8-4b69-bc71-54277769bee0",
   "metadata": {
    "tags": []
   },
   "outputs": [],
   "source": [
    "# problem-5 : Display hire date in dd-mm-yyyy format\n",
    "# DATE_FORMAT('date','%d-%m-%y')\n",
    "\n",
    "cursor.execute(\"\"\"\n",
    "SELECT emp_id,name, DATE_FORMAT(hire_date,'%d-%m-%Y') AS hiredate_in_dd_mm_yy FROM sqlpractice1.employees2\n",
    "\"\"\")"
   ]
  },
  {
   "cell_type": "code",
   "execution_count": 55,
   "id": "561eacbc-2ea4-4ae2-a299-81e54c101f13",
   "metadata": {
    "tags": []
   },
   "outputs": [
    {
     "name": "stdout",
     "output_type": "stream",
     "text": [
      "+--------+---------+----------------------+\n",
      "| emp_id |  name   | hiredate_in_dd_mm_yy |\n",
      "+--------+---------+----------------------+\n",
      "|   1    |  Alice  |      10-09-2015      |\n",
      "|   2    |   Bob   |      15-01-2018      |\n",
      "|   3    | Charlie |      11-07-2010      |\n",
      "|   4    |  David  |      01-12-2020      |\n",
      "|   5    |   Eva   |      25-03-2012      |\n",
      "|   6    |  Frank  |      22-06-2016      |\n",
      "|   7    |  Grace  |      03-05-2009      |\n",
      "|   8    | Hannah  |      05-07-2017      |\n",
      "|   9    |   Ivy   |      09-09-2019      |\n",
      "|   10   |  Jake   |      02-02-2020      |\n",
      "+--------+---------+----------------------+\n"
     ]
    }
   ],
   "source": [
    "print(tabulate(cursor.fetchall(),headers = [column[0] for column in cursor.description],tablefmt = 'pretty'))"
   ]
  },
  {
   "cell_type": "code",
   "execution_count": 73,
   "id": "dbb3ec64-0bdd-4783-84fd-a4ad11d25f4e",
   "metadata": {
    "tags": []
   },
   "outputs": [],
   "source": [
    "#problem-6 : find the most recently promoted employee.\n",
    "# hint : we will order last _promoted column in acending order and limit by 1\n",
    "\n",
    "cursor.execute(\"\"\"\n",
    "SELECT emp_id,name,last_promotion FROM sqlpractice1.employees2 ORDER BY last_promotion DESC LIMIT 1;\n",
    "\"\"\")"
   ]
  },
  {
   "cell_type": "code",
   "execution_count": 74,
   "id": "c9be0beb-9186-47fc-8c7a-bb8a2dc41a23",
   "metadata": {
    "tags": []
   },
   "outputs": [
    {
     "name": "stdout",
     "output_type": "stream",
     "text": [
      "+--------+------+---------------------+\n",
      "| emp_id | name |   last_promotion    |\n",
      "+--------+------+---------------------+\n",
      "|   10   | Jake | 2023-07-07 10:45:00 |\n",
      "+--------+------+---------------------+\n"
     ]
    }
   ],
   "source": [
    "print(tabulate(cursor.fetchall(),headers = [column[0] for column in cursor.description],tablefmt = 'pretty'))"
   ]
  },
  {
   "cell_type": "code",
   "execution_count": 76,
   "id": "16bccecd-77b9-44d0-b8b5-31c8ed78b165",
   "metadata": {
    "tags": []
   },
   "outputs": [],
   "source": [
    "# problem-7: calculate time difference in hour since last promotion.\n",
    "\n",
    "cursor.execute(\"\"\"\n",
    "SELECT name,last_promotion, TIMESTAMPDIFF(HOUR,last_promotion,CURDATE()) AS HOUR_sinncelastpromotion FROM sqlpractice1.employees2;\n",
    "\"\"\")"
   ]
  },
  {
   "cell_type": "code",
   "execution_count": 77,
   "id": "ad3df6fd-c3ad-4bed-8b78-c3991e5fbd0b",
   "metadata": {
    "tags": []
   },
   "outputs": [
    {
     "name": "stdout",
     "output_type": "stream",
     "text": [
      "+---------+---------------------+--------------------------+\n",
      "|  name   |   last_promotion    | HOUR_sinncelastpromotion |\n",
      "+---------+---------------------+--------------------------+\n",
      "|  Alice  | 2021-09-01 10:00:00 |          26582           |\n",
      "|   Bob   | 2023-01-10 09:30:00 |          14678           |\n",
      "| Charlie | 2022-06-15 11:45:00 |          19692           |\n",
      "|  David  | 2023-06-30 14:15:00 |          10569           |\n",
      "|   Eva   | 2022-12-22 16:50:00 |          15127           |\n",
      "|  Frank  | 2023-05-10 12:00:00 |          11796           |\n",
      "|  Grace  | 2021-10-01 15:20:00 |          25856           |\n",
      "| Hannah  | 2022-11-05 09:15:00 |          16262           |\n",
      "|   Ivy   | 2023-03-25 17:30:00 |          12894           |\n",
      "|  Jake   | 2023-07-07 10:45:00 |          10405           |\n",
      "+---------+---------------------+--------------------------+\n"
     ]
    }
   ],
   "source": [
    "print(tabulate(cursor.fetchall(),headers = [column[0] for column in cursor.description],tablefmt = 'pretty'))"
   ]
  },
  {
   "cell_type": "code",
   "execution_count": 80,
   "id": "1b8f9e4c-f0b3-48d9-95d6-869917c100ea",
   "metadata": {
    "tags": []
   },
   "outputs": [],
   "source": [
    "# problem-8: find an employee who had promotion this year --> WHERE YEAR(last_promotion) = YEAR(CURDATE()) but\n",
    "# there is no one who is promoted this year in 2024 so we will use 2023 \n",
    "\n",
    "cursor.execute(\"\"\"\n",
    "SELECT name,last_promotion FROM sqlpractice1.employees2 WHERE YEAR(last_promotion) = 2023;\n",
    "\"\"\")"
   ]
  },
  {
   "cell_type": "code",
   "execution_count": 81,
   "id": "f469ad59-fce6-4ee0-8786-201950119407",
   "metadata": {
    "tags": []
   },
   "outputs": [
    {
     "name": "stdout",
     "output_type": "stream",
     "text": [
      "+-------+---------------------+\n",
      "| name  |   last_promotion    |\n",
      "+-------+---------------------+\n",
      "|  Bob  | 2023-01-10 09:30:00 |\n",
      "| David | 2023-06-30 14:15:00 |\n",
      "| Frank | 2023-05-10 12:00:00 |\n",
      "|  Ivy  | 2023-03-25 17:30:00 |\n",
      "| Jake  | 2023-07-07 10:45:00 |\n",
      "+-------+---------------------+\n"
     ]
    }
   ],
   "source": [
    "print(tabulate(cursor.fetchall(),headers = [column[0] for column in cursor.description],tablefmt = 'pretty'))"
   ]
  },
  {
   "cell_type": "code",
   "execution_count": 96,
   "id": "775f6d5c-2253-40bb-83af-900831042f34",
   "metadata": {
    "tags": []
   },
   "outputs": [],
   "source": [
    "# problem-9: calculate next anniversy of hir date of each employee\n",
    "cursor.execute(\"\"\"\n",
    "SELECT name,hire_date, \n",
    "       DATE_ADD(hire_date, INTERVAL TIMESTAMPDIFF(YEAR, hire_date, CURDATE()) + 1 YEAR) AS next_anniversary\n",
    "FROM sqlpractice1.employees2;\n",
    "\"\"\")\n",
    "# explaination :\n",
    "# syntax of DAT_ADD('date' INTERVAL value unit)..for example DATE_ADD('2024-09-13' INTERVAL +5 YEAR)..output : 2029-09-13\n",
    "# here output of TIMESTAMPDIFF(YEAR,hire_date,CURDATE()) for hire_date (2015-09-10),CURDATE(2024-13-09) will be 9 years\n",
    "# so DATE_ADD(hire_date, INTERVAL 10 YEAR) so output for 2015-09-10 will be 2025-09-10"
   ]
  },
  {
   "cell_type": "code",
   "execution_count": 97,
   "id": "02ea876d-1891-4150-8939-ace304a66459",
   "metadata": {
    "tags": []
   },
   "outputs": [
    {
     "name": "stdout",
     "output_type": "stream",
     "text": [
      "+---------+------------+------------------+\n",
      "|  name   | hire_date  | next_anniversary |\n",
      "+---------+------------+------------------+\n",
      "|  Alice  | 2015-09-10 |    2025-09-10    |\n",
      "|   Bob   | 2018-01-15 |    2025-01-15    |\n",
      "| Charlie | 2010-07-11 |    2025-07-11    |\n",
      "|  David  | 2020-12-01 |    2024-12-01    |\n",
      "|   Eva   | 2012-03-25 |    2025-03-25    |\n",
      "|  Frank  | 2016-06-22 |    2025-06-22    |\n",
      "|  Grace  | 2009-05-03 |    2025-05-03    |\n",
      "| Hannah  | 2017-07-05 |    2025-07-05    |\n",
      "|   Ivy   | 2019-09-09 |    2025-09-09    |\n",
      "|  Jake   | 2020-02-02 |    2025-02-02    |\n",
      "+---------+------------+------------------+\n"
     ]
    }
   ],
   "source": [
    "print(tabulate(cursor.fetchall(),headers = [column[0] for column in cursor.description],tablefmt = 'pretty'))"
   ]
  },
  {
   "cell_type": "code",
   "execution_count": 100,
   "id": "789a91dd-d91a-4bf7-ae9a-23a4a17f4c15",
   "metadata": {
    "tags": []
   },
   "outputs": [],
   "source": [
    "\n",
    "# -----------------------------------> TOP BIG TECH COMPANY INTERVIEW QUESTIONS <------------------------------\n"
   ]
  },
  {
   "cell_type": "code",
   "execution_count": 8,
   "id": "ee43c671-ec5c-4daf-ad3d-ff74f7abfdf5",
   "metadata": {
    "tags": []
   },
   "outputs": [],
   "source": [
    "# problem -1 : Calculate the Median Hire Date of Employees (Uber, Amazon)\n",
    "cursor.execute(\"\"\"\n",
    "SELECT hire_date\n",
    "FROM sqlpractice1.employees2\n",
    "ORDER BY hire_date ;\n",
    "\"\"\")"
   ]
  },
  {
   "cell_type": "code",
   "execution_count": 9,
   "id": "9ef270b3-e75a-4494-8483-a8d99b533c6a",
   "metadata": {
    "tags": []
   },
   "outputs": [
    {
     "name": "stdout",
     "output_type": "stream",
     "text": [
      "+------------+\n",
      "| hire_date  |\n",
      "+------------+\n",
      "| 2009-05-03 |\n",
      "| 2010-07-11 |\n",
      "| 2012-03-25 |\n",
      "| 2015-09-10 |\n",
      "| 2016-06-22 |\n",
      "| 2017-07-05 |\n",
      "| 2018-01-15 |\n",
      "| 2019-09-09 |\n",
      "| 2020-02-02 |\n",
      "| 2020-12-01 |\n",
      "+------------+\n"
     ]
    }
   ],
   "source": [
    "print(tabulate(cursor.fetchall(),headers = [column[0] for column in cursor.description],tablefmt = 'pretty'))"
   ]
  },
  {
   "cell_type": "code",
   "execution_count": null,
   "id": "994bb229-9699-42df-8eb6-d752553c2f9f",
   "metadata": {},
   "outputs": [],
   "source": [
    "\"\"\"\n",
    "Manual Calculation:\n",
    "Convert the dates to Unix timestamps.\n",
    "Calculate the average of these timestamps.\n",
    "Convert the average timestamp back to a date format.\n",
    "For the given data:\n",
    "\n",
    "2016-06-22 is approximately 1466553600 (Unix timestamp).\n",
    "2017-07-05 is approximately 1499212800 (Unix timestamp).\n",
    "Average timestamp: \n",
    "Average\n",
    "=(1466553600+1499212800)/2=1482883200\n",
    "\n",
    "Convert the average timestamp back to a date:\n",
    "\n",
    "Average date: 2017-03-01\n",
    "\"\"\""
   ]
  },
  {
   "cell_type": "code",
   "execution_count": 6,
   "id": "3cc9c4b4-9fbe-417b-828e-752a695c63b1",
   "metadata": {
    "tags": []
   },
   "outputs": [],
   "source": [
    "# this is the solution to find median date from above last ouput of ordered dates \n",
    "cursor.execute(\"\"\"\n",
    "WITH ranked_employees AS (\n",
    "    SELECT hire_date,\n",
    "           ROW_NUMBER() OVER (ORDER BY hire_date) AS row_num,\n",
    "           COUNT(*) OVER () AS total_rows\n",
    "    FROM sqlpractice1.employees2\n",
    ")\n",
    "SELECT AVG(UNIX_TIMESTAMP(hire_date)) AS median_hire_date\n",
    "FROM ranked_employees\n",
    "WHERE row_num IN (FLOOR((total_rows + 1) / 2), CEIL((total_rows + 1) / 2));\n",
    "\"\"\")"
   ]
  },
  {
   "cell_type": "code",
   "execution_count": 7,
   "id": "c7f8bd24-cb3a-4a33-81e6-656283dcf5cf",
   "metadata": {
    "tags": []
   },
   "outputs": [
    {
     "data": {
      "text/plain": [
       "[(Decimal('1482876000.0000'),)]"
      ]
     },
     "execution_count": 7,
     "metadata": {},
     "output_type": "execute_result"
    }
   ],
   "source": [
    "cursor.fetchall()"
   ]
  },
  {
   "cell_type": "code",
   "execution_count": 18,
   "id": "4676c9ed-1d52-4d33-a268-765eb502cec1",
   "metadata": {
    "tags": []
   },
   "outputs": [],
   "source": [
    "cursor.execute(\"\"\"\n",
    "SELECT FROM_UNIXTIME(1482876000);\n",
    "\"\"\")"
   ]
  },
  {
   "cell_type": "code",
   "execution_count": 19,
   "id": "69806899-3552-47a0-a29a-ee23b3d7145d",
   "metadata": {
    "tags": []
   },
   "outputs": [
    {
     "name": "stdout",
     "output_type": "stream",
     "text": [
      "+---------------------+\n",
      "|     median_date     |\n",
      "+---------------------+\n",
      "| 2016-12-27 23:00:00 |\n",
      "+---------------------+\n"
     ]
    }
   ],
   "source": [
    "print(tabulate(cursor.fetchall(),headers = ['median_date'],tablefmt = 'pretty'))"
   ]
  },
  {
   "cell_type": "code",
   "execution_count": 31,
   "id": "78637726-c975-44a9-8d3e-3414edfa0a8e",
   "metadata": {},
   "outputs": [],
   "source": [
    "# problem : 2 Find the Average Time Between Promotions (Google, Facebook)\n",
    "cursor.execute(\"\"\"\n",
    "SELECT AVG(DATEDIFF(last_promotion, hire_date)) AS days_between_promotion\n",
    "FROM sqlpractice1.employees2;\n",
    "\"\"\")"
   ]
  },
  {
   "cell_type": "code",
   "execution_count": 32,
   "id": "0ce08590-65a0-41e3-b787-1abcb7e05fb4",
   "metadata": {
    "tags": []
   },
   "outputs": [
    {
     "name": "stdout",
     "output_type": "stream",
     "text": [
      "+------------------------+\n",
      "| days_between_promotion |\n",
      "+------------------------+\n",
      "|       2476.6000        |\n",
      "+------------------------+\n"
     ]
    }
   ],
   "source": [
    "print(tabulate(cursor.fetchall(),headers = [column[0] for column in cursor.description],tablefmt = 'pretty'))"
   ]
  },
  {
   "cell_type": "code",
   "execution_count": 29,
   "id": "ea2daa7b-78ed-4e0f-a2f0-fa1b0cc3fe7e",
   "metadata": {
    "tags": []
   },
   "outputs": [],
   "source": [
    "cursor.execute(\"\"\"\n",
    "SELECT \n",
    "    AVG(TIMESTAMPDIFF(DAY, hire_date, last_promotion)) AS avg_days_between_promotions,\n",
    "    AVG(TIMESTAMPDIFF(MONTH, hire_date, last_promotion)) AS avg_months_between_promotions,\n",
    "    AVG(TIMESTAMPDIFF(YEAR, hire_date, last_promotion)) AS avg_years_between_promotions\n",
    "FROM sqlpractice1.employees2;\n",
    "\"\"\")"
   ]
  },
  {
   "cell_type": "code",
   "execution_count": 30,
   "id": "f12db9e6-76cd-484d-a121-cbd0c7474c30",
   "metadata": {
    "tags": []
   },
   "outputs": [
    {
     "name": "stdout",
     "output_type": "stream",
     "text": [
      "+-----------------------------+-------------------------------+------------------------------+\n",
      "| avg_days_between_promotions | avg_months_between_promotions | avg_years_between_promotions |\n",
      "+-----------------------------+-------------------------------+------------------------------+\n",
      "|          2476.6000          |            80.8000            |            6.1000            |\n",
      "+-----------------------------+-------------------------------+------------------------------+\n"
     ]
    }
   ],
   "source": [
    "print(tabulate(cursor.fetchall(),headers = [column[0] for column in cursor.description],tablefmt = 'pretty'))"
   ]
  },
  {
   "cell_type": "code",
   "execution_count": 37,
   "id": "a3671e38-27bf-4e7d-b448-bc8a8d571ca7",
   "metadata": {
    "tags": []
   },
   "outputs": [],
   "source": [
    "# problem : 3.. find the one employee with longest Tenure(oldest or working longest).\n",
    "# Write a query to find the employee who has been working the longest (i.e., the one with the earliest hire date).\n",
    "cursor.execute(\"\"\"\n",
    "SELECT name,hire_date\n",
    "FROM sqlpractice1.employees2\n",
    "ORDER BY hire_date ASC \n",
    "LIMIT 1 ;\n",
    "\"\"\")"
   ]
  },
  {
   "cell_type": "code",
   "execution_count": 38,
   "id": "80e394b2-39e0-4a4a-ae23-65d51c171d68",
   "metadata": {
    "tags": []
   },
   "outputs": [
    {
     "name": "stdout",
     "output_type": "stream",
     "text": [
      "+-------+------------+\n",
      "| name  | hire_date  |\n",
      "+-------+------------+\n",
      "| Grace | 2009-05-03 |\n",
      "+-------+------------+\n"
     ]
    }
   ],
   "source": [
    "print(tabulate(cursor.fetchall(),headers = [column[0] for column in cursor.description],tablefmt = 'pretty'))"
   ]
  },
  {
   "cell_type": "code",
   "execution_count": 44,
   "id": "9c3eef29-f1b9-4d2e-bb65-0c247795bfc3",
   "metadata": {
    "tags": []
   },
   "outputs": [],
   "source": [
    "# problem : 4 Calculate the Percentage of Employees Hired Each Year (Facebook, Apple)\n",
    "cursor.execute(\"\"\"\n",
    "SELECT YEAR(hire_date) AS hire_year,\n",
    "       COUNT(*) * 100.0 / (SELECT COUNT(*) FROM sqlpractice1.employees2) AS percentage_hired\n",
    "FROM sqlpractice1.employees2\n",
    "GROUP BY hire_year;\n",
    "\"\"\")"
   ]
  },
  {
   "cell_type": "code",
   "execution_count": 45,
   "id": "52c1b3f2-fe3f-4ecc-9790-500933e834de",
   "metadata": {
    "tags": []
   },
   "outputs": [
    {
     "name": "stdout",
     "output_type": "stream",
     "text": [
      "+-----------+------------------+\n",
      "| hire_year | percentage_hired |\n",
      "+-----------+------------------+\n",
      "|   2015    |     10.00000     |\n",
      "|   2018    |     10.00000     |\n",
      "|   2010    |     10.00000     |\n",
      "|   2020    |     20.00000     |\n",
      "|   2012    |     10.00000     |\n",
      "|   2016    |     10.00000     |\n",
      "|   2009    |     10.00000     |\n",
      "|   2017    |     10.00000     |\n",
      "|   2019    |     10.00000     |\n",
      "+-----------+------------------+\n"
     ]
    }
   ],
   "source": [
    "print(tabulate(cursor.fetchall(),headers = [column[0] for column in cursor.description],tablefmt = 'pretty'))"
   ]
  },
  {
   "cell_type": "code",
   "execution_count": 66,
   "id": "e0df720c-e88e-430d-9ede-8b177377f68f",
   "metadata": {},
   "outputs": [],
   "source": [
    "# problem : 5 Identify Employees Who Were Hired on the Same Day as Their Birthdate (Netflix)\n",
    "\n",
    "cursor.execute(\"\"\"\n",
    "SELECT * FROM sqlpractice1.employees2 WHERE DATE_FORMAT(birth_date,'%m-%d') = DATE_FORMAT(hire_date,'%m-%d');\n",
    "\"\"\")"
   ]
  },
  {
   "cell_type": "code",
   "execution_count": 67,
   "id": "596c0427-3960-4d93-89e9-bbbee1876593",
   "metadata": {
    "tags": []
   },
   "outputs": [
    {
     "name": "stdout",
     "output_type": "stream",
     "text": [
      "╒══════════╤════════╤══════════════╤═════════════╤═════════════════════╕\n",
      "│   emp_id │ name   │ birth_date   │ hire_date   │ last_promotion      │\n",
      "╞══════════╪════════╪══════════════╪═════════════╪═════════════════════╡\n",
      "│       11 │ Sara   │ 1995-06-04   │ 2015-06-04  │ 2021-09-05 12:00:00 │\n",
      "├──────────┼────────┼──────────────┼─────────────┼─────────────────────┤\n",
      "│       12 │ Kiara  │ 1995-07-10   │ 2018-07-10  │ 2023-01-16 11:30:00 │\n",
      "╘══════════╧════════╧══════════════╧═════════════╧═════════════════════╛\n"
     ]
    }
   ],
   "source": [
    "print(tabulate(cursor.fetchall(),headers = [column[0] for column in cursor.description],tablefmt = 'fancy_grid'))"
   ]
  },
  {
   "cell_type": "code",
   "execution_count": 70,
   "id": "b5f57da1-eb38-4f4b-858b-d4e6090924b7",
   "metadata": {
    "tags": []
   },
   "outputs": [],
   "source": [
    "# problem: 6 Find Employees Who Were Hired on a Weekend (Google, Uber)\n",
    "cursor.execute(\"\"\"\n",
    "SELECT name, hire_date\n",
    "FROM sqlpractice1.employees2\n",
    "WHERE DAYOFWEEK(hire_date) IN (1, 7); \n",
    "\"\"\")"
   ]
  },
  {
   "cell_type": "code",
   "execution_count": 71,
   "id": "1a2915ac-f1bb-4118-a512-e718202eeda0",
   "metadata": {
    "tags": []
   },
   "outputs": [
    {
     "name": "stdout",
     "output_type": "stream",
     "text": [
      "+---------+------------+\n",
      "|  name   | hire_date  |\n",
      "+---------+------------+\n",
      "| Charlie | 2010-07-11 |\n",
      "|   Eva   | 2012-03-25 |\n",
      "|  Grace  | 2009-05-03 |\n",
      "|  Jake   | 2020-02-02 |\n",
      "+---------+------------+\n"
     ]
    }
   ],
   "source": [
    "print(tabulate(cursor.fetchall(),headers = [column[0] for column in cursor.description],tablefmt = 'pretty'))"
   ]
  },
  {
   "cell_type": "code",
   "execution_count": 72,
   "id": "04d1b04d-fb29-4638-b425-406aa7933d55",
   "metadata": {
    "tags": []
   },
   "outputs": [],
   "source": [
    "# problem : 7 Calculate the Average Age of Employees When Hired (Apple, Facebook)\n",
    "cursor.execute(\"\"\"\n",
    "SELECT AVG(TIMESTAMPDIFF(YEAR, birth_date, hire_date)) AS avg_age_at_hiring\n",
    "FROM sqlpractice1.employees2;\n",
    "\"\"\")"
   ]
  },
  {
   "cell_type": "code",
   "execution_count": 73,
   "id": "37454152-a6a4-4473-9681-c8c0625d9441",
   "metadata": {
    "tags": []
   },
   "outputs": [
    {
     "name": "stdout",
     "output_type": "stream",
     "text": [
      "+-------------------+\n",
      "| avg_age_at_hiring |\n",
      "+-------------------+\n",
      "|      26.0833      |\n",
      "+-------------------+\n"
     ]
    }
   ],
   "source": [
    "print(tabulate(cursor.fetchall(),headers = [column[0] for column in cursor.description],tablefmt = 'pretty'))"
   ]
  },
  {
   "cell_type": "code",
   "execution_count": 74,
   "id": "99900f7e-fce9-421a-9673-2498dad91570",
   "metadata": {
    "tags": []
   },
   "outputs": [],
   "source": [
    "# problem : 8 Identify Employees Who Were Hired Within the Last N Days (Amazon, Uber)\n",
    "# Find employees who were hired in the last 30 days (change the number as needed)\n",
    "cursor.execute(\"\"\"\n",
    "SELECT name, hire_date\n",
    "FROM sqlpractice1.employees2\n",
    "WHERE hire_date >= DATE_SUB(CURDATE(), INTERVAL 30 DAY);\n",
    "\"\"\")"
   ]
  },
  {
   "cell_type": "code",
   "execution_count": 75,
   "id": "719bf625-f3ae-43d6-acdc-52798c2338d0",
   "metadata": {
    "tags": []
   },
   "outputs": [
    {
     "name": "stdout",
     "output_type": "stream",
     "text": [
      "+------+-----------+\n",
      "| name | hire_date |\n",
      "+------+-----------+\n",
      "+------+-----------+\n"
     ]
    }
   ],
   "source": [
    "print(tabulate(cursor.fetchall(),headers = [column[0] for column in cursor.description],tablefmt = 'pretty'))"
   ]
  },
  {
   "cell_type": "code",
   "execution_count": 78,
   "id": "26cadf87-e105-4e33-9ebe-f478f0464b39",
   "metadata": {
    "tags": []
   },
   "outputs": [],
   "source": [
    "# problem : 9 Find Employees Who Were Hired Exactly 5 Years Ago from Today (Microsoft, Google)\n",
    "cursor.execute(\"\"\"\n",
    "SELECT name, hire_date\n",
    "FROM sqlpractice1.employees2\n",
    "WHERE hire_date = DATE_SUB(CURDATE(), INTERVAL 10 YEAR);\n",
    "\"\"\")"
   ]
  },
  {
   "cell_type": "code",
   "execution_count": 79,
   "id": "3348ce16-169a-49d0-9528-e0c098025a46",
   "metadata": {
    "tags": []
   },
   "outputs": [
    {
     "name": "stdout",
     "output_type": "stream",
     "text": [
      "+------+-----------+\n",
      "| name | hire_date |\n",
      "+------+-----------+\n",
      "+------+-----------+\n"
     ]
    }
   ],
   "source": [
    "print(tabulate(cursor.fetchall(),headers = [column[0] for column in cursor.description],tablefmt = 'pretty'))"
   ]
  },
  {
   "cell_type": "code",
   "execution_count": 80,
   "id": "4dc688df-3062-4a9f-aaac-2f0eafaa09a1",
   "metadata": {
    "tags": []
   },
   "outputs": [],
   "source": [
    "# problem : 10 Rank Employees by Time Since Last Promotion (Netflix, Uber)\n",
    "# Rank employees by the number of days since their last promotion, with the most recently promoted employees first.\n",
    "cursor.execute(\"\"\"\n",
    "SELECT name, last_promotion,\n",
    "       DATEDIFF(CURDATE(), last_promotion) AS days_since_promotion,\n",
    "       RANK() OVER (ORDER BY last_promotion DESC) AS promotion_rank\n",
    "FROM sqlpractice1.employees2;\n",
    "\"\"\")"
   ]
  },
  {
   "cell_type": "code",
   "execution_count": 81,
   "id": "d220cc2c-9720-4e34-9ff0-02a1a4883657",
   "metadata": {
    "tags": []
   },
   "outputs": [
    {
     "name": "stdout",
     "output_type": "stream",
     "text": [
      "+---------+---------------------+----------------------+----------------+\n",
      "|  name   |   last_promotion    | days_since_promotion | promotion_rank |\n",
      "+---------+---------------------+----------------------+----------------+\n",
      "|  Jake   | 2023-07-07 10:45:00 |         437          |       1        |\n",
      "|  David  | 2023-06-30 14:15:00 |         444          |       2        |\n",
      "|  Frank  | 2023-05-10 12:00:00 |         495          |       3        |\n",
      "|   Ivy   | 2023-03-25 17:30:00 |         541          |       4        |\n",
      "|  Kiara  | 2023-01-16 11:30:00 |         609          |       5        |\n",
      "|   Bob   | 2023-01-10 09:30:00 |         615          |       6        |\n",
      "|   Eva   | 2022-12-22 16:50:00 |         634          |       7        |\n",
      "| Hannah  | 2022-11-05 09:15:00 |         681          |       8        |\n",
      "| Charlie | 2022-06-15 11:45:00 |         824          |       9        |\n",
      "|  Grace  | 2021-10-01 15:20:00 |         1081         |       10       |\n",
      "|  Sara   | 2021-09-05 12:00:00 |         1107         |       11       |\n",
      "|  Alice  | 2021-09-01 10:00:00 |         1111         |       12       |\n",
      "+---------+---------------------+----------------------+----------------+\n"
     ]
    }
   ],
   "source": [
    "print(tabulate(cursor.fetchall(),headers = [column[0] for column in cursor.description],tablefmt = 'pretty'))"
   ]
  },
  {
   "cell_type": "code",
   "execution_count": null,
   "id": "325fbb1f-600c-4ed5-87b9-76900e911c7d",
   "metadata": {},
   "outputs": [],
   "source": [
    "\"\"\"\n",
    "Explanation of Importance in These Companies:\n",
    "\n",
    "Google: Companies like Google often test candidates on their ability to optimize SQL queries, \n",
    "        especially when dealing with large datasets involving dates and times.\n",
    "        \n",
    "Amazon: Operational efficiency and logistics often require employees to manage and analyze data with various time constraints.\n",
    "\n",
    "Microsoft: Candidates are expected to manage historical data effectively and manipulate date-based records.\n",
    "\n",
    "Uber: Handling time-sensitive events, such as ride pickups and drop-offs, makes date and time manipulation crucial.\n",
    "\n",
    "Netflix: Content release schedules and viewership analytics require precision in calculating intervals and deadlines.\n",
    "\n",
    "Apple: Apple emphasizes employee productivity and performance, \n",
    "       which makes tracking promotions, tenure, and work anniversaries a key focus.\n",
    "       \n",
    "Facebook: Handling massive datasets, such as user activities with timestamps, \n",
    "          makes efficient use of date and time functions necessary.\n",
    "\"\"\""
   ]
  }
 ],
 "metadata": {
  "kernelspec": {
   "display_name": "Python 3 (ipykernel)",
   "language": "python",
   "name": "python3"
  },
  "language_info": {
   "codemirror_mode": {
    "name": "ipython",
    "version": 3
   },
   "file_extension": ".py",
   "mimetype": "text/x-python",
   "name": "python",
   "nbconvert_exporter": "python",
   "pygments_lexer": "ipython3",
   "version": "3.11.5"
  }
 },
 "nbformat": 4,
 "nbformat_minor": 5
}
