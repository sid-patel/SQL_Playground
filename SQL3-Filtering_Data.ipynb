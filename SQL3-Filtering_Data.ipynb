{
 "cells": [
  {
   "cell_type": "code",
   "execution_count": null,
   "id": "adccef21-3227-4aec-856a-cef94515c09a",
   "metadata": {},
   "outputs": [],
   "source": [
    "# FILTERING DATA USING DIFFERENT CLAUSES\n",
    "\n",
    "#1. WHERE CLAUSE AND DIFFERENT USE CASES OF WHERE CLAUSE ONE BY ONE.."
   ]
  },
  {
   "cell_type": "code",
   "execution_count": null,
   "id": "f16e5fa6-fc62-4675-a5ef-84c1cda8b7df",
   "metadata": {},
   "outputs": [],
   "source": [
    "# pip package..module..connection variable..cursor"
   ]
  },
  {
   "cell_type": "code",
   "execution_count": 1,
   "id": "961fed60-7d95-4a57-af03-511039233350",
   "metadata": {
    "tags": []
   },
   "outputs": [
    {
     "name": "stdout",
     "output_type": "stream",
     "text": [
      "Requirement already satisfied: mysql-connector-python in c:\\users\\admin\\anaconda3\\lib\\site-packages (8.3.0)\n",
      "Note: you may need to restart the kernel to use updated packages.\n"
     ]
    }
   ],
   "source": [
    "pip install mysql-connector-python"
   ]
  },
  {
   "cell_type": "code",
   "execution_count": 2,
   "id": "1cf6a290-261a-4c26-aa72-e1b95614cf7f",
   "metadata": {
    "tags": []
   },
   "outputs": [],
   "source": [
    "import mysql.connector as d\n",
    "from tabulate import tabulate\n",
    "mydb = d.connect(host = 'localhost',user = 'root',passwd = 'Loveumom@123')\n",
    "cursor = mydb.cursor()"
   ]
  },
  {
   "cell_type": "code",
   "execution_count": 3,
   "id": "3d7dcb2d-61ca-40e1-a4f4-fb726d0efada",
   "metadata": {
    "tags": []
   },
   "outputs": [
    {
     "name": "stdout",
     "output_type": "stream",
     "text": [
      "+--------------------+\n",
      "|     DATABASES      |\n",
      "+--------------------+\n",
      "|     cardataset     |\n",
      "| information_schema |\n",
      "|       mysql        |\n",
      "| performance_schema |\n",
      "|      sidfirst      |\n",
      "|    sqlpractice1    |\n",
      "|        sys         |\n",
      "+--------------------+\n"
     ]
    }
   ],
   "source": [
    "cursor.execute(\"SHOW DATABASES\")    # TO SEE AVAILABLE DATABASES\n",
    "results = cursor.fetchall()\n",
    "#columns = [column[0] for column in cursor.description]\n",
    "print(tabulate(results,headers = ['DATABASES'],tablefmt = 'pretty'))"
   ]
  },
  {
   "cell_type": "code",
   "execution_count": 4,
   "id": "aff1af91-ead1-43f9-8677-365837e78b0a",
   "metadata": {
    "tags": []
   },
   "outputs": [
    {
     "name": "stdout",
     "output_type": "stream",
     "text": [
      "+--------------------+\n",
      "| Tables in sidfirst |\n",
      "+--------------------+\n",
      "|     glassdata      |\n",
      "|      ineuron       |\n",
      "|      mysales       |\n",
      "|       sales        |\n",
      "|        sid1        |\n",
      "|      workers       |\n",
      "+--------------------+\n"
     ]
    }
   ],
   "source": [
    "cursor.execute('USE sidfirst')     # TO SEE AVAILABLE TABLES IN PERTICULAR DATABASE\n",
    "cursor.execute('SHOW TABLES')\n",
    "results = cursor.fetchall()\n",
    "#columns = [column[0] for column in cursor.description]\n",
    "print(tabulate(results,headers = ['Tables in sidfirst'] ,tablefmt = 'pretty'))"
   ]
  },
  {
   "cell_type": "code",
   "execution_count": 16,
   "id": "7880c3c4-d6c6-4619-b8d2-1346db6e573f",
   "metadata": {},
   "outputs": [],
   "source": [
    "cursor.execute(\"CREATE TABLE sidfirst.mysales (sale_id INT,product_id INT,product_name VARCHAR(255),customer_id INT,customer_name VARCHAR(255),sale_date DATE,quantity INT,price DECIMAL(10, 2),total_amount DECIMAL(10, 2));\")"
   ]
  },
  {
   "cell_type": "code",
   "execution_count": 19,
   "id": "154fda30-2f91-47c8-8e47-8ba1c25c42a9",
   "metadata": {
    "tags": []
   },
   "outputs": [],
   "source": [
    "cursor.execute(\"\"\"\n",
    "INSERT INTO sidfirst.mysales VALUES\n",
    "(1, 101, 'Laptop', 201, 'Alice', '2023-01-15', 1, 1200.00, 1200.00),\n",
    "(2, 102, 'Smartphone', 202, 'Bob', '2023-01-16', 2, 800.00, 1600.00),\n",
    "(3, 103, 'Tablet', 203, 'Charlie', '2023-01-17', 1, 500.00, 500.00),\n",
    "(4, 101, 'Laptop', 204, 'David', '2023-01-18', 1, 1200.00, 1200.00),\n",
    "(5, 104, 'Headphones', 205, 'Eve', '2023-01-19', 3, 150.00, 450.00),\n",
    "(6, 105, 'Monitor', 206, 'Frank', '2023-01-20', 2, 300.00, 600.00),\n",
    "(7, 102, 'Smartphone', 207, 'Grace', '2023-01-21', 1, 800.00, 800.00),\n",
    "(8, 106, 'Keyboard', 208, 'Heidi', '2023-01-22', 4, 100.00, 400.00),\n",
    "(9, 107, 'Mouse', 209, 'Ivan', '2023-01-23', 2, 50.00, 100.00),\n",
    "(10, 108, 'Printer', 210, 'Judy', '2023-01-24', 1, 200.00, 200.00),\n",
    "(11, 109, 'Laptop', 201, 'Alice', '2023-01-25', 1, 1200.00, 1200.00),\n",
    "(12, 110, 'Smartphone', 202, 'Bob', '2023-01-26', 2, 800.00, 1600.00),\n",
    "(13, 111, 'Camera', 211, 'Kevin', '2023-01-27', 1, 700.00, 700.00),\n",
    "(14, 112, 'Speaker', 212, 'Laura', '2023-01-28', 2, 250.00, 500.00),\n",
    "(15, 113, 'Router', 213, 'Mallory', '2023-01-29', 1, 100.00, 100.00)\n",
    "\"\"\")"
   ]
  },
  {
   "cell_type": "code",
   "execution_count": 20,
   "id": "4db7fe0a-3a88-43fe-bf5a-103664cc51ba",
   "metadata": {
    "tags": []
   },
   "outputs": [],
   "source": [
    "mydb.commit()"
   ]
  },
  {
   "cell_type": "code",
   "execution_count": 43,
   "id": "248d3a02-0622-4f39-b358-b39caa89723a",
   "metadata": {
    "tags": []
   },
   "outputs": [],
   "source": [
    "cursor.execute(\"SELECT * FROM sidfirst.mysales\")"
   ]
  },
  {
   "cell_type": "code",
   "execution_count": 44,
   "id": "89a12f4e-613a-4ea9-b9d5-b6240f3afb31",
   "metadata": {
    "tags": []
   },
   "outputs": [
    {
     "name": "stdout",
     "output_type": "stream",
     "text": [
      "+---------+------------+--------------+-------------+---------------+------------+----------+---------+--------------+\n",
      "| sale_id | product_id | product_name | customer_id | customer_name | sale_date  | quantity |  price  | total_amount |\n",
      "+---------+------------+--------------+-------------+---------------+------------+----------+---------+--------------+\n",
      "|    1    |    101     |    Laptop    |     201     |     Alice     | 2023-01-15 |    1     | 1200.00 |   1200.00    |\n",
      "|    2    |    102     |  Smartphone  |     202     |      Bob      | 2023-01-16 |    2     | 800.00  |   1600.00    |\n",
      "|    3    |    103     |    Tablet    |     203     |    Charlie    | 2023-01-17 |    1     | 500.00  |    500.00    |\n",
      "|    4    |    101     |    Laptop    |     204     |     David     | 2023-01-18 |    1     | 1200.00 |   1200.00    |\n",
      "|    5    |    104     |  Headphones  |     205     |      Eve      | 2023-01-19 |    3     | 150.00  |    450.00    |\n",
      "|    6    |    105     |   Monitor    |     206     |     Frank     | 2023-01-20 |    2     | 300.00  |    600.00    |\n",
      "|    7    |    102     |  Smartphone  |     207     |     Grace     | 2023-01-21 |    1     | 800.00  |    800.00    |\n",
      "|    8    |    106     |   Keyboard   |     208     |     Heidi     | 2023-01-22 |    4     | 100.00  |    400.00    |\n",
      "|    9    |    107     |    Mouse     |     209     |     Ivan      | 2023-01-23 |    2     |  50.00  |    100.00    |\n",
      "|   10    |    108     |   Printer    |     210     |     Judy      | 2023-01-24 |    1     | 200.00  |    200.00    |\n",
      "|   11    |    109     |    Laptop    |     201     |     Alice     | 2023-01-25 |    1     | 1200.00 |   1200.00    |\n",
      "|   12    |    110     |  Smartphone  |     202     |      Bob      | 2023-01-26 |    2     | 800.00  |   1600.00    |\n",
      "|   13    |    111     |    Camera    |     211     |     Kevin     | 2023-01-27 |    1     | 700.00  |    700.00    |\n",
      "|   14    |    112     |   Speaker    |     212     |     Laura     | 2023-01-28 |    2     | 250.00  |    500.00    |\n",
      "|   15    |    113     |    Router    |     213     |    Mallory    | 2023-01-29 |    1     | 100.00  |    100.00    |\n",
      "+---------+------------+--------------+-------------+---------------+------------+----------+---------+--------------+\n"
     ]
    }
   ],
   "source": [
    "results = cursor.fetchall()\n",
    "columns = [column[0] for column in cursor.description]\n",
    "print(tabulate(results,headers = columns,tablefmt = 'pretty'))"
   ]
  },
  {
   "cell_type": "code",
   "execution_count": null,
   "id": "18daabab-a936-40df-abb2-2e005cf68342",
   "metadata": {},
   "outputs": [],
   "source": [
    "# 1. Filtering rows based on single condition.. i.e Retrieve all the records with total_amount >= 1000"
   ]
  },
  {
   "cell_type": "code",
   "execution_count": 28,
   "id": "1d979be7-2023-4e30-ae59-2ed4075478ad",
   "metadata": {
    "tags": []
   },
   "outputs": [],
   "source": [
    "cursor.execute(\"SELECT sale_id,customer_name,total_amount FROM sidfirst.mysales WHERE total_amount >= 1000\")"
   ]
  },
  {
   "cell_type": "code",
   "execution_count": 29,
   "id": "89133c8e-d321-43d9-a968-ad96c428cc7f",
   "metadata": {
    "tags": []
   },
   "outputs": [
    {
     "name": "stdout",
     "output_type": "stream",
     "text": [
      "+---------+---------------+--------------+\n",
      "| sale_id | customer_name | total_amount |\n",
      "+---------+---------------+--------------+\n",
      "|    1    |     Alice     |   1200.00    |\n",
      "|    2    |      Bob      |   1600.00    |\n",
      "|    4    |     David     |   1200.00    |\n",
      "|   11    |     Alice     |   1200.00    |\n",
      "|   12    |      Bob      |   1600.00    |\n",
      "+---------+---------------+--------------+\n"
     ]
    }
   ],
   "source": [
    "results = cursor.fetchall()\n",
    "columns = [column[0] for column in cursor.description]\n",
    "print(tabulate(results,headers = columns,tablefmt = 'pretty'))"
   ]
  },
  {
   "cell_type": "code",
   "execution_count": 30,
   "id": "f9e459f2-6573-436a-90c9-03342d8f8e76",
   "metadata": {
    "tags": []
   },
   "outputs": [],
   "source": [
    "# ANOTHER QUE. SELECT ALL CUSTOMER WHO BOUGHT SMARTPHONE"
   ]
  },
  {
   "cell_type": "code",
   "execution_count": 32,
   "id": "34f82474-73c0-406d-a573-6afaa7c7acfd",
   "metadata": {
    "tags": []
   },
   "outputs": [],
   "source": [
    "cursor.execute(\"SELECT sale_id,product_name,customer_name FROM sidfirst.mysales WHERE product_name = 'smartphone'\")"
   ]
  },
  {
   "cell_type": "code",
   "execution_count": 33,
   "id": "95cba9cb-32c8-4306-b6cd-d73da272f295",
   "metadata": {
    "tags": []
   },
   "outputs": [
    {
     "name": "stdout",
     "output_type": "stream",
     "text": [
      "+---------+--------------+---------------+\n",
      "| sale_id | product_name | customer_name |\n",
      "+---------+--------------+---------------+\n",
      "|    2    |  Smartphone  |      Bob      |\n",
      "|    7    |  Smartphone  |     Grace     |\n",
      "|   12    |  Smartphone  |      Bob      |\n",
      "+---------+--------------+---------------+\n"
     ]
    }
   ],
   "source": [
    "results = cursor.fetchall()\n",
    "columns = [column[0] for column in cursor.description]\n",
    "print(tabulate(results,headers = columns,tablefmt = 'pretty'))"
   ]
  },
  {
   "cell_type": "code",
   "execution_count": 38,
   "id": "d9117506-27d2-4039-88f7-f5c8c39d0760",
   "metadata": {
    "tags": []
   },
   "outputs": [],
   "source": [
    "# 2.filtering rows using multiple conditions..\n",
    "# 2.1 retrieve customers who bought more than one smartphone.. here condition 1 is smartphone another is >1\n",
    "cursor.execute(\"SELECT sale_id,product_name,customer_name,quantity FROM sidfirst.mysales WHERE product_name = 'smartphone' AND quantity > 1\")"
   ]
  },
  {
   "cell_type": "code",
   "execution_count": 39,
   "id": "f2bb6395-191d-4d3a-b2cf-d21bfc427792",
   "metadata": {
    "tags": []
   },
   "outputs": [
    {
     "name": "stdout",
     "output_type": "stream",
     "text": [
      "+---------+--------------+---------------+----------+\n",
      "| sale_id | product_name | customer_name | quantity |\n",
      "+---------+--------------+---------------+----------+\n",
      "|    2    |  Smartphone  |      Bob      |    2     |\n",
      "|   12    |  Smartphone  |      Bob      |    2     |\n",
      "+---------+--------------+---------------+----------+\n"
     ]
    }
   ],
   "source": [
    "results = cursor.fetchall()\n",
    "columns = [column[0] for column in cursor.description]\n",
    "print(tabulate(results,headers = columns,tablefmt = 'pretty'))"
   ]
  },
  {
   "cell_type": "code",
   "execution_count": 46,
   "id": "34d10c6c-ea9c-4030-9f81-eee866a945f1",
   "metadata": {
    "tags": []
   },
   "outputs": [],
   "source": [
    "#3. using pattern matching with LIKE OPERATOR\n",
    "# 3.1 retrieve all customers whose name starts with A\n",
    "\n",
    "cursor.execute(\"SELECT * FROM sidfirst.mysales WHERE customer_name LIKE 'A%'\")"
   ]
  },
  {
   "cell_type": "code",
   "execution_count": 47,
   "id": "d8642c09-7b40-4f09-8062-452825d41735",
   "metadata": {
    "tags": []
   },
   "outputs": [
    {
     "name": "stdout",
     "output_type": "stream",
     "text": [
      "+---------+------------+--------------+-------------+---------------+------------+----------+---------+--------------+\n",
      "| sale_id | product_id | product_name | customer_id | customer_name | sale_date  | quantity |  price  | total_amount |\n",
      "+---------+------------+--------------+-------------+---------------+------------+----------+---------+--------------+\n",
      "|    1    |    101     |    Laptop    |     201     |     Alice     | 2023-01-15 |    1     | 1200.00 |   1200.00    |\n",
      "|   11    |    109     |    Laptop    |     201     |     Alice     | 2023-01-25 |    1     | 1200.00 |   1200.00    |\n",
      "+---------+------------+--------------+-------------+---------------+------------+----------+---------+--------------+\n"
     ]
    }
   ],
   "source": [
    "results = cursor.fetchall()\n",
    "columns = [column[0] for column in cursor.description]\n",
    "print(tabulate(results,headers = columns,tablefmt = 'pretty'))"
   ]
  },
  {
   "cell_type": "code",
   "execution_count": 53,
   "id": "9e63c8f6-1d38-4a17-b46f-68facef8bd73",
   "metadata": {
    "tags": []
   },
   "outputs": [
    {
     "name": "stdout",
     "output_type": "stream",
     "text": [
      "+---------+------------+--------------+-------------+---------------+------------+----------+---------+--------------+\n",
      "| sale_id | product_id | product_name | customer_id | customer_name | sale_date  | quantity |  price  | total_amount |\n",
      "+---------+------------+--------------+-------------+---------------+------------+----------+---------+--------------+\n",
      "|    1    |    101     |    Laptop    |     201     |     Alice     | 2023-01-15 |    1     | 1200.00 |   1200.00    |\n",
      "|    3    |    103     |    Tablet    |     203     |    Charlie    | 2023-01-17 |    1     | 500.00  |    500.00    |\n",
      "|    5    |    104     |  Headphones  |     205     |      Eve      | 2023-01-19 |    3     | 150.00  |    450.00    |\n",
      "|    7    |    102     |  Smartphone  |     207     |     Grace     | 2023-01-21 |    1     | 800.00  |    800.00    |\n",
      "|   11    |    109     |    Laptop    |     201     |     Alice     | 2023-01-25 |    1     | 1200.00 |   1200.00    |\n",
      "+---------+------------+--------------+-------------+---------------+------------+----------+---------+--------------+\n"
     ]
    }
   ],
   "source": [
    "# 3.2 retrieve all customers whose name starts with 'e'\n",
    "cursor.execute(\"SELECT * FROM sidfirst.mysales WHERE customer_name LIKE '%e'\")\n",
    "print(tabulate(cursor.fetchall(), headers = [column[0] for column in cursor.description], tablefmt = 'pretty'))"
   ]
  },
  {
   "cell_type": "code",
   "execution_count": 54,
   "id": "07ead1c6-2e27-4ab6-bd44-e51ed3da609b",
   "metadata": {
    "tags": []
   },
   "outputs": [],
   "source": [
    "# 3.3 retrieve all the customers whose name contains letter 'i'\n",
    "cursor.execute(\"SELECT * FROM sidfirst.mysales WHERE customer_name LIKE '%i%'\")"
   ]
  },
  {
   "cell_type": "code",
   "execution_count": 55,
   "id": "0c16eca1-0488-4322-89a9-b551a548f741",
   "metadata": {
    "tags": []
   },
   "outputs": [
    {
     "name": "stdout",
     "output_type": "stream",
     "text": [
      "+---------+------------+--------------+-------------+---------------+------------+----------+---------+--------------+\n",
      "| sale_id | product_id | product_name | customer_id | customer_name | sale_date  | quantity |  price  | total_amount |\n",
      "+---------+------------+--------------+-------------+---------------+------------+----------+---------+--------------+\n",
      "|    1    |    101     |    Laptop    |     201     |     Alice     | 2023-01-15 |    1     | 1200.00 |   1200.00    |\n",
      "|    3    |    103     |    Tablet    |     203     |    Charlie    | 2023-01-17 |    1     | 500.00  |    500.00    |\n",
      "|    4    |    101     |    Laptop    |     204     |     David     | 2023-01-18 |    1     | 1200.00 |   1200.00    |\n",
      "|    8    |    106     |   Keyboard   |     208     |     Heidi     | 2023-01-22 |    4     | 100.00  |    400.00    |\n",
      "|    9    |    107     |    Mouse     |     209     |     Ivan      | 2023-01-23 |    2     |  50.00  |    100.00    |\n",
      "|   11    |    109     |    Laptop    |     201     |     Alice     | 2023-01-25 |    1     | 1200.00 |   1200.00    |\n",
      "|   13    |    111     |    Camera    |     211     |     Kevin     | 2023-01-27 |    1     | 700.00  |    700.00    |\n",
      "+---------+------------+--------------+-------------+---------------+------------+----------+---------+--------------+\n"
     ]
    }
   ],
   "source": [
    "print(tabulate(cursor.fetchall(), headers = [column[0] for column in cursor.description], tablefmt = 'pretty'))"
   ]
  },
  {
   "cell_type": "code",
   "execution_count": 56,
   "id": "5d87eacd-59cb-4c0a-9ddf-baa0ea515b63",
   "metadata": {
    "tags": []
   },
   "outputs": [],
   "source": [
    "# 4. USING IN OPERATOR : retrieve the sales for specific products..retrieve the sales for laptop and smartphone\n",
    "cursor.execute(\"SELECT * FROM sidfirst.mysales WHERE product_name IN ('laptop','smartphone')\")"
   ]
  },
  {
   "cell_type": "code",
   "execution_count": 57,
   "id": "90a0d69c-613d-4d19-babc-fae98521c748",
   "metadata": {
    "tags": []
   },
   "outputs": [
    {
     "name": "stdout",
     "output_type": "stream",
     "text": [
      "+---------+------------+--------------+-------------+---------------+------------+----------+---------+--------------+\n",
      "| sale_id | product_id | product_name | customer_id | customer_name | sale_date  | quantity |  price  | total_amount |\n",
      "+---------+------------+--------------+-------------+---------------+------------+----------+---------+--------------+\n",
      "|    1    |    101     |    Laptop    |     201     |     Alice     | 2023-01-15 |    1     | 1200.00 |   1200.00    |\n",
      "|    2    |    102     |  Smartphone  |     202     |      Bob      | 2023-01-16 |    2     | 800.00  |   1600.00    |\n",
      "|    4    |    101     |    Laptop    |     204     |     David     | 2023-01-18 |    1     | 1200.00 |   1200.00    |\n",
      "|    7    |    102     |  Smartphone  |     207     |     Grace     | 2023-01-21 |    1     | 800.00  |    800.00    |\n",
      "|   11    |    109     |    Laptop    |     201     |     Alice     | 2023-01-25 |    1     | 1200.00 |   1200.00    |\n",
      "|   12    |    110     |  Smartphone  |     202     |      Bob      | 2023-01-26 |    2     | 800.00  |   1600.00    |\n",
      "+---------+------------+--------------+-------------+---------------+------------+----------+---------+--------------+\n"
     ]
    }
   ],
   "source": [
    "print(tabulate(cursor.fetchall(),headers = [column[0] for column in cursor.description],tablefmt = 'pretty'))"
   ]
  },
  {
   "cell_type": "code",
   "execution_count": 58,
   "id": "c8f06cde-2e85-4d6f-b865-53fa215cf5a9",
   "metadata": {
    "tags": []
   },
   "outputs": [],
   "source": [
    "#4.1 with multiple columns\n",
    "cursor.execute(\"SELECT product_name,quantity,total_amount FROM sidfirst.mysales WHERE product_name IN ('laptop','smartphone')\")"
   ]
  },
  {
   "cell_type": "code",
   "execution_count": 59,
   "id": "b99fa6c4-d751-4d8f-aba8-88ccb63fe43f",
   "metadata": {
    "tags": []
   },
   "outputs": [
    {
     "name": "stdout",
     "output_type": "stream",
     "text": [
      "+--------------+----------+--------------+\n",
      "| product_name | quantity | total_amount |\n",
      "+--------------+----------+--------------+\n",
      "|    Laptop    |    1     |   1200.00    |\n",
      "|  Smartphone  |    2     |   1600.00    |\n",
      "|    Laptop    |    1     |   1200.00    |\n",
      "|  Smartphone  |    1     |    800.00    |\n",
      "|    Laptop    |    1     |   1200.00    |\n",
      "|  Smartphone  |    2     |   1600.00    |\n",
      "+--------------+----------+--------------+\n"
     ]
    }
   ],
   "source": [
    "print(tabulate(cursor.fetchall(),headers = [column[0] for column in cursor.description],tablefmt = 'pretty'))"
   ]
  },
  {
   "cell_type": "code",
   "execution_count": 6,
   "id": "69f2c94f-fd66-48ab-a725-ba22585bd5a9",
   "metadata": {},
   "outputs": [],
   "source": [
    "# 5. BETWEEN OPERATOR : between the range : start value - end value\n",
    "# 5.1 retrieve all columns using between operator of total amount 100 to 1000\n",
    "cursor.execute(\"SELECT * FROM sidfirst.mysales WHERE total_amount BETWEEN 100 AND 1000 \")"
   ]
  },
  {
   "cell_type": "code",
   "execution_count": 7,
   "id": "116042a4-a50d-45fe-8e98-9b3421202cbc",
   "metadata": {
    "tags": []
   },
   "outputs": [
    {
     "name": "stdout",
     "output_type": "stream",
     "text": [
      "+---------+------------+--------------+-------------+---------------+------------+----------+--------+--------------+\n",
      "| sale_id | product_id | product_name | customer_id | customer_name | sale_date  | quantity | price  | total_amount |\n",
      "+---------+------------+--------------+-------------+---------------+------------+----------+--------+--------------+\n",
      "|    3    |    103     |    Tablet    |     203     |    Charlie    | 2023-01-17 |    1     | 500.00 |    500.00    |\n",
      "|    5    |    104     |  Headphones  |     205     |      Eve      | 2023-01-19 |    3     | 150.00 |    450.00    |\n",
      "|    6    |    105     |   Monitor    |     206     |     Frank     | 2023-01-20 |    2     | 300.00 |    600.00    |\n",
      "|    7    |    102     |  Smartphone  |     207     |     Grace     | 2023-01-21 |    1     | 800.00 |    800.00    |\n",
      "|    8    |    106     |   Keyboard   |     208     |     Heidi     | 2023-01-22 |    4     | 100.00 |    400.00    |\n",
      "|    9    |    107     |    Mouse     |     209     |     Ivan      | 2023-01-23 |    2     | 50.00  |    100.00    |\n",
      "|   10    |    108     |   Printer    |     210     |     Judy      | 2023-01-24 |    1     | 200.00 |    200.00    |\n",
      "|   13    |    111     |    Camera    |     211     |     Kevin     | 2023-01-27 |    1     | 700.00 |    700.00    |\n",
      "|   14    |    112     |   Speaker    |     212     |     Laura     | 2023-01-28 |    2     | 250.00 |    500.00    |\n",
      "|   15    |    113     |    Router    |     213     |    Mallory    | 2023-01-29 |    1     | 100.00 |    100.00    |\n",
      "+---------+------------+--------------+-------------+---------------+------------+----------+--------+--------------+\n"
     ]
    }
   ],
   "source": [
    "print(tabulate(cursor.fetchall(),headers = [column[0] for column in cursor.description],tablefmt = 'pretty'))"
   ]
  },
  {
   "cell_type": "code",
   "execution_count": 10,
   "id": "a70a6588-475a-454a-8bd6-299549684613",
   "metadata": {},
   "outputs": [],
   "source": [
    "#6.combination of AND -- OR -- multiple conditions\n",
    "# 6.1 retrieve all the sales of laptop made by 'Alice' or 'bob'\n",
    "cursor.execute(\"SELECT * FROM sidfirst.mysales WHERE product_name = 'Laptop' AND (customer_name = 'Bob' OR customer_name = 'Alice' OR customer_name = 'David')\")"
   ]
  },
  {
   "cell_type": "code",
   "execution_count": 11,
   "id": "b97f457e-4312-474b-80bf-27f938edbf8c",
   "metadata": {
    "tags": []
   },
   "outputs": [
    {
     "name": "stdout",
     "output_type": "stream",
     "text": [
      "+---------+------------+--------------+-------------+---------------+------------+----------+---------+--------------+\n",
      "| sale_id | product_id | product_name | customer_id | customer_name | sale_date  | quantity |  price  | total_amount |\n",
      "+---------+------------+--------------+-------------+---------------+------------+----------+---------+--------------+\n",
      "|    1    |    101     |    Laptop    |     201     |     Alice     | 2023-01-15 |    1     | 1200.00 |   1200.00    |\n",
      "|    4    |    101     |    Laptop    |     204     |     David     | 2023-01-18 |    1     | 1200.00 |   1200.00    |\n",
      "|   11    |    109     |    Laptop    |     201     |     Alice     | 2023-01-25 |    1     | 1200.00 |   1200.00    |\n",
      "+---------+------------+--------------+-------------+---------------+------------+----------+---------+--------------+\n"
     ]
    }
   ],
   "source": [
    "print(tabulate(cursor.fetchall(),headers = [column[0] for column in cursor.description],tablefmt = 'pretty'))"
   ]
  },
  {
   "cell_type": "code",
   "execution_count": 12,
   "id": "4d446a8f-d906-4664-ab5c-f9d280081721",
   "metadata": {
    "tags": []
   },
   "outputs": [],
   "source": [
    "#6.2 combination of BETWEEN and NOT ..\n",
    "\n",
    "cursor.execute(\"SELECT * FROM sidfirst.mysales WHERE price NOT BETWEEN 1000 AND 2000\")"
   ]
  },
  {
   "cell_type": "code",
   "execution_count": 13,
   "id": "999eb810-98c1-421c-a039-aca35a7ad43e",
   "metadata": {
    "tags": []
   },
   "outputs": [
    {
     "name": "stdout",
     "output_type": "stream",
     "text": [
      "+---------+------------+--------------+-------------+---------------+------------+----------+--------+--------------+\n",
      "| sale_id | product_id | product_name | customer_id | customer_name | sale_date  | quantity | price  | total_amount |\n",
      "+---------+------------+--------------+-------------+---------------+------------+----------+--------+--------------+\n",
      "|    2    |    102     |  Smartphone  |     202     |      Bob      | 2023-01-16 |    2     | 800.00 |   1600.00    |\n",
      "|    3    |    103     |    Tablet    |     203     |    Charlie    | 2023-01-17 |    1     | 500.00 |    500.00    |\n",
      "|    5    |    104     |  Headphones  |     205     |      Eve      | 2023-01-19 |    3     | 150.00 |    450.00    |\n",
      "|    6    |    105     |   Monitor    |     206     |     Frank     | 2023-01-20 |    2     | 300.00 |    600.00    |\n",
      "|    7    |    102     |  Smartphone  |     207     |     Grace     | 2023-01-21 |    1     | 800.00 |    800.00    |\n",
      "|    8    |    106     |   Keyboard   |     208     |     Heidi     | 2023-01-22 |    4     | 100.00 |    400.00    |\n",
      "|    9    |    107     |    Mouse     |     209     |     Ivan      | 2023-01-23 |    2     | 50.00  |    100.00    |\n",
      "|   10    |    108     |   Printer    |     210     |     Judy      | 2023-01-24 |    1     | 200.00 |    200.00    |\n",
      "|   12    |    110     |  Smartphone  |     202     |      Bob      | 2023-01-26 |    2     | 800.00 |   1600.00    |\n",
      "|   13    |    111     |    Camera    |     211     |     Kevin     | 2023-01-27 |    1     | 700.00 |    700.00    |\n",
      "|   14    |    112     |   Speaker    |     212     |     Laura     | 2023-01-28 |    2     | 250.00 |    500.00    |\n",
      "|   15    |    113     |    Router    |     213     |    Mallory    | 2023-01-29 |    1     | 100.00 |    100.00    |\n",
      "+---------+------------+--------------+-------------+---------------+------------+----------+--------+--------------+\n"
     ]
    }
   ],
   "source": [
    "print(tabulate(cursor.fetchall(),headers = [column[0] for column in cursor.description],tablefmt = 'pretty'))"
   ]
  },
  {
   "cell_type": "code",
   "execution_count": null,
   "id": "96e693a2-0299-43d2-a2bf-7d53846a2042",
   "metadata": {},
   "outputs": [],
   "source": []
  }
 ],
 "metadata": {
  "kernelspec": {
   "display_name": "Python 3 (ipykernel)",
   "language": "python",
   "name": "python3"
  },
  "language_info": {
   "codemirror_mode": {
    "name": "ipython",
    "version": 3
   },
   "file_extension": ".py",
   "mimetype": "text/x-python",
   "name": "python",
   "nbconvert_exporter": "python",
   "pygments_lexer": "ipython3",
   "version": "3.11.5"
  }
 },
 "nbformat": 4,
 "nbformat_minor": 5
}
