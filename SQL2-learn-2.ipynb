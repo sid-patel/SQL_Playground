{
 "cells": [
  {
   "cell_type": "code",
   "execution_count": null,
   "id": "99951a81-0fdf-43f5-ad6c-0ca11f7339d9",
   "metadata": {},
   "outputs": [],
   "source": [
    "# TOPIC : Quering DATA \n",
    "# Different use-cases of SELECT command statement for Quering data"
   ]
  },
  {
   "cell_type": "code",
   "execution_count": 22,
   "id": "d4071589-0847-4f7e-81da-391002428985",
   "metadata": {
    "tags": []
   },
   "outputs": [
    {
     "name": "stdout",
     "output_type": "stream",
     "text": [
      "Requirement already satisfied: mysql-connector-python in c:\\users\\admin\\anaconda3\\lib\\site-packages (8.3.0)Note: you may need to restart the kernel to use updated packages.\n",
      "\n"
     ]
    }
   ],
   "source": [
    "pip install mysql-connector-python"
   ]
  },
  {
   "cell_type": "code",
   "execution_count": 23,
   "id": "6ccb40d8-205a-4089-8dda-3f9d02a829af",
   "metadata": {
    "tags": []
   },
   "outputs": [],
   "source": [
    "import mysql.connector as d"
   ]
  },
  {
   "cell_type": "code",
   "execution_count": 24,
   "id": "11a0f585-029e-4959-8e3a-b55169939414",
   "metadata": {
    "tags": []
   },
   "outputs": [],
   "source": [
    "from tabulate import tabulate"
   ]
  },
  {
   "cell_type": "code",
   "execution_count": 25,
   "id": "8c986d10-d1a3-48ce-ab55-ac11a9309d1a",
   "metadata": {
    "tags": []
   },
   "outputs": [],
   "source": [
    "mydb = d.connect(host = 'localhost',user = 'root',passwd = 'Loveumom@123')"
   ]
  },
  {
   "cell_type": "code",
   "execution_count": 26,
   "id": "dc42c6c9-dbe0-4459-ab02-25d7472cfcd4",
   "metadata": {
    "tags": []
   },
   "outputs": [],
   "source": [
    "cursor = mydb.cursor()"
   ]
  },
  {
   "cell_type": "code",
   "execution_count": 27,
   "id": "8a8c7848-8b93-46e8-86c7-3d6ca7a83419",
   "metadata": {
    "tags": []
   },
   "outputs": [
    {
     "data": {
      "text/plain": [
       "[('cardataset',),\n",
       " ('information_schema',),\n",
       " ('mysql',),\n",
       " ('performance_schema',),\n",
       " ('sidfirst',),\n",
       " ('sqlpractice1',),\n",
       " ('sys',)]"
      ]
     },
     "execution_count": 27,
     "metadata": {},
     "output_type": "execute_result"
    }
   ],
   "source": [
    "cursor.execute(\"SHOW DATABASES\")    # TO SEE AVAILABLE DATABASES\n",
    "cursor.fetchall()"
   ]
  },
  {
   "cell_type": "code",
   "execution_count": 28,
   "id": "a3fc9409-1c9f-47ca-a054-5632f4f0c0c3",
   "metadata": {
    "tags": []
   },
   "outputs": [
    {
     "data": {
      "text/plain": [
       "[('glassdata',), ('ineuron',), ('sid1',), ('workers',)]"
      ]
     },
     "execution_count": 28,
     "metadata": {},
     "output_type": "execute_result"
    }
   ],
   "source": [
    "cursor.execute('USE sidfirst')     # TO SEE AVAILABLE TABLES IN PERTICULAR DATABASE\n",
    "cursor.execute('SHOW TABLES')\n",
    "cursor.fetchall()"
   ]
  },
  {
   "cell_type": "code",
   "execution_count": 11,
   "id": "fef5b25e-f27d-4486-b191-2ee75ac98c7b",
   "metadata": {
    "tags": []
   },
   "outputs": [],
   "source": [
    "# CREATING A NEW TABLE CALLED WORKERS\n",
    "cursor.execute(\"CREATE TABLE sidfirst.workers(Id TINYINT PRIMARY KEY, Name VARCHAR(150), Position VARCHAR(50), Salary SMALLINT, Hire_Date DATE)\")"
   ]
  },
  {
   "cell_type": "code",
   "execution_count": 12,
   "id": "30c4bf76-3d77-46b1-9ccc-65b9e651bbd2",
   "metadata": {
    "tags": []
   },
   "outputs": [
    {
     "data": {
      "text/plain": [
       "[('glassdata',), ('ineuron',), ('sid1',), ('workers',)]"
      ]
     },
     "execution_count": 12,
     "metadata": {},
     "output_type": "execute_result"
    }
   ],
   "source": [
    "# NOW CHECK IF ABOVE TABLE IS CREATED : YES IT IS :)#\n",
    "\n",
    "cursor.execute('USE sidfirst')     \n",
    "cursor.execute('SHOW TABLES')\n",
    "cursor.fetchall()"
   ]
  },
  {
   "cell_type": "code",
   "execution_count": 17,
   "id": "9e3367a2-a241-427c-8444-244bb4ea3e9b",
   "metadata": {
    "tags": []
   },
   "outputs": [],
   "source": [
    "# INSERTING DATA INTO WORKERS TABLE # BY JUST ADDING VALUES AS WE KNOW COLUMNS #\n",
    "\n",
    "query = \"INSERT INTO sidfirst.workers VALUES (1,'Alice','Junior',2000,'2020-04-23'),(2,'bob','Junior',3000,'2019-05-19'),(3,'charlie','Senior',6000,'2000-01-12'),(4,'diana','Senior',7000,'2000-02-14'),(5,'Harvey','Manager',16000,'1995-05-20')\"\n",
    "cursor.execute(query)"
   ]
  },
  {
   "cell_type": "code",
   "execution_count": 18,
   "id": "23bf1424-dd3e-4e9b-93f4-cbfb95716338",
   "metadata": {
    "tags": []
   },
   "outputs": [],
   "source": [
    "mydb.commit()"
   ]
  },
  {
   "cell_type": "code",
   "execution_count": 29,
   "id": "b9805454-94cc-4798-b480-69a0dbba5dc8",
   "metadata": {
    "tags": []
   },
   "outputs": [
    {
     "name": "stdout",
     "output_type": "stream",
     "text": [
      "+----+---------+----------+--------+------------+\n",
      "| Id |  Name   | Position | Salary | Hire_Date  |\n",
      "+----+---------+----------+--------+------------+\n",
      "| 1  |  Alice  |  Junior  |  2000  | 2020-04-23 |\n",
      "| 2  |   bob   |  Junior  |  3000  | 2019-05-19 |\n",
      "| 3  | charlie |  Senior  |  6000  | 2000-01-12 |\n",
      "| 4  |  diana  |  Senior  |  7000  | 2000-02-14 |\n",
      "| 5  | Harvey  | Manager  | 16000  | 1995-05-20 |\n",
      "+----+---------+----------+--------+------------+\n"
     ]
    }
   ],
   "source": [
    "cursor.execute(\"SELECT * FROM sidfirst.workers\")\n",
    "results = cursor.fetchall()\n",
    "columns = [column[0] for column in cursor.description]\n",
    "print(tabulate(results, headers=columns, tablefmt = 'pretty'))"
   ]
  },
  {
   "cell_type": "code",
   "execution_count": null,
   "id": "a475d732-e418-4382-9476-6b112a1ab39d",
   "metadata": {},
   "outputs": [],
   "source": [
    "# 1. LITERAL VALUE.. any string or number"
   ]
  },
  {
   "cell_type": "code",
   "execution_count": 30,
   "id": "c9b71752-6b41-4857-a65c-6d88b2c7240b",
   "metadata": {
    "tags": []
   },
   "outputs": [],
   "source": [
    "cursor.execute(\"SELECT Name, 'worker' AS role FROM sidfirst.workers\")"
   ]
  },
  {
   "cell_type": "code",
   "execution_count": 31,
   "id": "687c0fc8-9708-4e57-8131-0b46fa2d3e5c",
   "metadata": {
    "tags": []
   },
   "outputs": [
    {
     "name": "stdout",
     "output_type": "stream",
     "text": [
      "+---------+--------+\n",
      "|  Name   |  role  |\n",
      "+---------+--------+\n",
      "|  Alice  | worker |\n",
      "|   bob   | worker |\n",
      "| charlie | worker |\n",
      "|  diana  | worker |\n",
      "| Harvey  | worker |\n",
      "+---------+--------+\n"
     ]
    }
   ],
   "source": [
    " # note: even here we say fetchall but it will give ouput of only 2 rows because in select statement we selected only 2 columns\n",
    "results = cursor.fetchall()\n",
    "columns = [column[0] for column in cursor.description]\n",
    "print(tabulate(results,headers = columns,tablefmt = 'pretty'))"
   ]
  },
  {
   "cell_type": "code",
   "execution_count": 38,
   "id": "d002f200-97e9-4a74-8108-ebcd200c2cca",
   "metadata": {
    "tags": []
   },
   "outputs": [],
   "source": [
    "# 2. EXPRESSION : INCREASING EACH WORKER'S SALARY BY 10%\n",
    "cursor.execute(\"SELECT Name,Salary,Salary*1.10 AS Increased_Salary FROM sidfirst.workers\")"
   ]
  },
  {
   "cell_type": "code",
   "execution_count": 39,
   "id": "8bdcd03e-82ae-4033-830a-a0e8e50bf85a",
   "metadata": {
    "tags": []
   },
   "outputs": [
    {
     "name": "stdout",
     "output_type": "stream",
     "text": [
      "+---------+--------+------------------+\n",
      "|  Name   | Salary | Increased_Salary |\n",
      "+---------+--------+------------------+\n",
      "|  Alice  |  2000  |     2200.00      |\n",
      "|   bob   |  3000  |     3300.00      |\n",
      "| charlie |  6000  |     6600.00      |\n",
      "|  diana  |  7000  |     7700.00      |\n",
      "| Harvey  | 16000  |     17600.00     |\n",
      "+---------+--------+------------------+\n"
     ]
    }
   ],
   "source": [
    "results = cursor.fetchall()\n",
    "columns = [column[0] for column in cursor.description]\n",
    "print(tabulate(results,headers = columns,tablefmt = 'pretty'))"
   ]
  },
  {
   "cell_type": "code",
   "execution_count": 40,
   "id": "399ab35b-56fe-4079-9497-acf90e3fc77c",
   "metadata": {
    "tags": []
   },
   "outputs": [],
   "source": [
    "# 3. FUNCTION : EXTRACTING YEAR FROM HIRE_DATE\n",
    "cursor.execute(\"SELECT Name,Hire_Date,YEAR(Hire_Date) AS Hire_Year FROM sidfirst.workers\")"
   ]
  },
  {
   "cell_type": "code",
   "execution_count": 41,
   "id": "5ce39b5c-e3bf-4d8b-8c3a-cae6d2ed7b5e",
   "metadata": {
    "tags": []
   },
   "outputs": [
    {
     "name": "stdout",
     "output_type": "stream",
     "text": [
      "+---------+------------+-----------+\n",
      "|  Name   | Hire_Date  | Hire_Year |\n",
      "+---------+------------+-----------+\n",
      "|  Alice  | 2020-04-23 |   2020    |\n",
      "|   bob   | 2019-05-19 |   2019    |\n",
      "| charlie | 2000-01-12 |   2000    |\n",
      "|  diana  | 2000-02-14 |   2000    |\n",
      "| Harvey  | 1995-05-20 |   1995    |\n",
      "+---------+------------+-----------+\n"
     ]
    }
   ],
   "source": [
    "results = cursor.fetchall()\n",
    "columns = [column[0] for column in cursor.description]\n",
    "print(tabulate(results,headers = columns,tablefmt = 'pretty'))"
   ]
  },
  {
   "cell_type": "code",
   "execution_count": null,
   "id": "47764720-9d5e-4657-af9b-f5f381d295bf",
   "metadata": {},
   "outputs": [],
   "source": [
    "# 4. FUNCTION : COUNTING NUMBER OF WORKERS"
   ]
  },
  {
   "cell_type": "code",
   "execution_count": 42,
   "id": "0b448417-5397-4fb9-b85b-f8fa55e1ca5b",
   "metadata": {
    "tags": []
   },
   "outputs": [],
   "source": [
    "cursor.execute(\"SELECT COUNT(*) AS Total_Workers FROM sidfirst.workers\")"
   ]
  },
  {
   "cell_type": "code",
   "execution_count": 43,
   "id": "60119454-6c1d-46bf-9c44-2c3649958e66",
   "metadata": {
    "tags": []
   },
   "outputs": [
    {
     "name": "stdout",
     "output_type": "stream",
     "text": [
      "+---------------+\n",
      "| Total_Workers |\n",
      "+---------------+\n",
      "|       5       |\n",
      "+---------------+\n"
     ]
    }
   ],
   "source": [
    "results=cursor.fetchall()\n",
    "columns = [column[0] for column in cursor.description]\n",
    "print(tabulate(results,headers = columns,tablefmt = 'pretty'))"
   ]
  },
  {
   "cell_type": "code",
   "execution_count": null,
   "id": "59edb1e7-7f40-4162-bf6d-5a012de52641",
   "metadata": {},
   "outputs": [],
   "source": [
    "#5. ORDER BY .... USING SELECT with single column hire_date"
   ]
  },
  {
   "cell_type": "code",
   "execution_count": 45,
   "id": "e4cd8882-f9b1-4cdc-89dd-86d1fa4c87f9",
   "metadata": {
    "tags": []
   },
   "outputs": [],
   "source": [
    "cursor.execute(\"SELECT * FROM sidfirst.workers ORDER BY Hire_Date \")"
   ]
  },
  {
   "cell_type": "code",
   "execution_count": 46,
   "id": "0682ac36-82c0-406f-95a3-8a378f0c42df",
   "metadata": {
    "tags": []
   },
   "outputs": [
    {
     "name": "stdout",
     "output_type": "stream",
     "text": [
      "+----+---------+----------+--------+------------+\n",
      "| Id |  Name   | Position | Salary | Hire_Date  |\n",
      "+----+---------+----------+--------+------------+\n",
      "| 5  | Harvey  | Manager  | 16000  | 1995-05-20 |\n",
      "| 3  | charlie |  Senior  |  6000  | 2000-01-12 |\n",
      "| 4  |  diana  |  Senior  |  7000  | 2000-02-14 |\n",
      "| 2  |   bob   |  Junior  |  3000  | 2019-05-19 |\n",
      "| 1  |  Alice  |  Junior  |  2000  | 2020-04-23 |\n",
      "+----+---------+----------+--------+------------+\n"
     ]
    }
   ],
   "source": [
    "results=cursor.fetchall()\n",
    "columns = [column[0] for column in cursor.description]\n",
    "print(tabulate(results,headers = columns,tablefmt = 'pretty'))"
   ]
  },
  {
   "cell_type": "code",
   "execution_count": 47,
   "id": "780ec244-2743-4334-893e-3826c0b69f4e",
   "metadata": {
    "tags": []
   },
   "outputs": [],
   "source": [
    "cursor.execute(\"SELECT * FROM sidfirst.workers ORDER BY Position,Salary \") # sorting by 2 columns"
   ]
  },
  {
   "cell_type": "code",
   "execution_count": 48,
   "id": "649adb0f-a5c6-4e82-afda-ddcf83b5b7f8",
   "metadata": {
    "tags": []
   },
   "outputs": [
    {
     "name": "stdout",
     "output_type": "stream",
     "text": [
      "+----+---------+----------+--------+------------+\n",
      "| Id |  Name   | Position | Salary | Hire_Date  |\n",
      "+----+---------+----------+--------+------------+\n",
      "| 1  |  Alice  |  Junior  |  2000  | 2020-04-23 |\n",
      "| 2  |   bob   |  Junior  |  3000  | 2019-05-19 |\n",
      "| 5  | Harvey  | Manager  | 16000  | 1995-05-20 |\n",
      "| 3  | charlie |  Senior  |  6000  | 2000-01-12 |\n",
      "| 4  |  diana  |  Senior  |  7000  | 2000-02-14 |\n",
      "+----+---------+----------+--------+------------+\n"
     ]
    }
   ],
   "source": [
    "results=cursor.fetchall()\n",
    "columns = [column[0] for column in cursor.description]\n",
    "print(tabulate(results,headers = columns,tablefmt = 'pretty'))"
   ]
  },
  {
   "cell_type": "code",
   "execution_count": 53,
   "id": "cc93222c-1ac5-4fa8-8422-8569ccdf91d7",
   "metadata": {
    "tags": []
   },
   "outputs": [],
   "source": [
    "cursor.execute(\"SELECT Name,Position,Hire_Date FROM sidfirst.workers ORDER BY Hire_Date, Position Desc \")"
   ]
  },
  {
   "cell_type": "code",
   "execution_count": 54,
   "id": "8c0da63a-43b2-4a3e-8623-9defbdaebfe3",
   "metadata": {
    "tags": []
   },
   "outputs": [
    {
     "name": "stdout",
     "output_type": "stream",
     "text": [
      "+---------+----------+------------+\n",
      "|  Name   | Position | Hire_Date  |\n",
      "+---------+----------+------------+\n",
      "| Harvey  | Manager  | 1995-05-20 |\n",
      "| charlie |  Senior  | 2000-01-12 |\n",
      "|  diana  |  Senior  | 2000-02-14 |\n",
      "|   bob   |  Junior  | 2019-05-19 |\n",
      "|  Alice  |  Junior  | 2020-04-23 |\n",
      "+---------+----------+------------+\n"
     ]
    }
   ],
   "source": [
    "results = cursor.fetchall()\n",
    "columns = [column[0] for column in cursor.description]\n",
    "print(tabulate(results,headers=columns,tablefmt='pretty'))"
   ]
  },
  {
   "cell_type": "code",
   "execution_count": 55,
   "id": "6bef147b-84fc-42f3-8bfa-5506a1c47710",
   "metadata": {
    "tags": []
   },
   "outputs": [],
   "source": [
    "# 6. LIMIT CLAUSE # gives specific number of records required from result set"
   ]
  },
  {
   "cell_type": "code",
   "execution_count": 56,
   "id": "c1b4f799-2642-43f5-a9a0-899b83023163",
   "metadata": {
    "tags": []
   },
   "outputs": [],
   "source": [
    "cursor.execute(\"SELECT * FROM sidfirst.workers LIMIT 3 \")"
   ]
  },
  {
   "cell_type": "code",
   "execution_count": 57,
   "id": "c097f15f-be87-4e5f-acf4-edb193c6d71e",
   "metadata": {
    "tags": []
   },
   "outputs": [
    {
     "name": "stdout",
     "output_type": "stream",
     "text": [
      "+----+---------+----------+--------+------------+\n",
      "| Id |  Name   | Position | Salary | Hire_Date  |\n",
      "+----+---------+----------+--------+------------+\n",
      "| 1  |  Alice  |  Junior  |  2000  | 2020-04-23 |\n",
      "| 2  |   bob   |  Junior  |  3000  | 2019-05-19 |\n",
      "| 3  | charlie |  Senior  |  6000  | 2000-01-12 |\n",
      "+----+---------+----------+--------+------------+\n"
     ]
    }
   ],
   "source": [
    "results = cursor.fetchall()\n",
    "columns = [column[0] for column in cursor.description]\n",
    "print(tabulate(results,headers=columns,tablefmt='pretty'))"
   ]
  },
  {
   "cell_type": "code",
   "execution_count": 58,
   "id": "a5af9eed-0629-4473-a504-081bff6653ad",
   "metadata": {
    "tags": []
   },
   "outputs": [],
   "source": [
    "cursor.execute(\"SELECT * FROM sidfirst.workers ORDER BY Salary DESC LIMIT 3\") # top 3 salary record from highest(descending)"
   ]
  },
  {
   "cell_type": "code",
   "execution_count": 59,
   "id": "2deba525-8cc8-4b3f-9574-091e7c0e2b20",
   "metadata": {
    "tags": []
   },
   "outputs": [
    {
     "name": "stdout",
     "output_type": "stream",
     "text": [
      "+----+---------+----------+--------+------------+\n",
      "| Id |  Name   | Position | Salary | Hire_Date  |\n",
      "+----+---------+----------+--------+------------+\n",
      "| 5  | Harvey  | Manager  | 16000  | 1995-05-20 |\n",
      "| 4  |  diana  |  Senior  |  7000  | 2000-02-14 |\n",
      "| 3  | charlie |  Senior  |  6000  | 2000-01-12 |\n",
      "+----+---------+----------+--------+------------+\n"
     ]
    }
   ],
   "source": [
    "results = cursor.fetchall()\n",
    "columns = [column[0] for column in cursor.description]\n",
    "print(tabulate(results,headers=columns,tablefmt='pretty'))"
   ]
  },
  {
   "cell_type": "code",
   "execution_count": 62,
   "id": "ff530a33-2cb0-43b6-86d8-ef0639add831",
   "metadata": {
    "tags": []
   },
   "outputs": [],
   "source": [
    "cursor.execute(\"SELECT * FROM sidfirst.workers ORDER BY id LIMIT 2 OFFSET 2 ;\")"
   ]
  },
  {
   "cell_type": "code",
   "execution_count": 63,
   "id": "e0be2d30-704d-4c92-9de7-420abfbeded8",
   "metadata": {
    "tags": []
   },
   "outputs": [
    {
     "name": "stdout",
     "output_type": "stream",
     "text": [
      "+----+---------+----------+--------+------------+\n",
      "| Id |  Name   | Position | Salary | Hire_Date  |\n",
      "+----+---------+----------+--------+------------+\n",
      "| 3  | charlie |  Senior  |  6000  | 2000-01-12 |\n",
      "| 4  |  diana  |  Senior  |  7000  | 2000-02-14 |\n",
      "+----+---------+----------+--------+------------+\n"
     ]
    }
   ],
   "source": [
    "results = cursor.fetchall()\n",
    "columns = [column[0] for column in cursor.description]\n",
    "print(tabulate(results,headers=columns,tablefmt='pretty'))"
   ]
  },
  {
   "cell_type": "code",
   "execution_count": null,
   "id": "74fdccf2-b652-407d-8153-b75d39cdab59",
   "metadata": {},
   "outputs": [],
   "source": []
  }
 ],
 "metadata": {
  "kernelspec": {
   "display_name": "Python 3 (ipykernel)",
   "language": "python",
   "name": "python3"
  },
  "language_info": {
   "codemirror_mode": {
    "name": "ipython",
    "version": 3
   },
   "file_extension": ".py",
   "mimetype": "text/x-python",
   "name": "python",
   "nbconvert_exporter": "python",
   "pygments_lexer": "ipython3",
   "version": "3.11.5"
  }
 },
 "nbformat": 4,
 "nbformat_minor": 5
}
