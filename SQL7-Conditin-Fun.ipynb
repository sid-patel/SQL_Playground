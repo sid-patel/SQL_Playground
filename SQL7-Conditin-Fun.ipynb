{
 "cells": [
  {
   "cell_type": "code",
   "execution_count": null,
   "id": "4e147162-ba3a-4d1e-bea0-002dbcfbbb7d",
   "metadata": {},
   "outputs": [],
   "source": [
    "# SQL-7 --> CINDITIONAL FUNCTIONNS IN SQL.\n",
    "# ---> IF,CASE,COALESCE,NULLIF,IFNULL,"
   ]
  },
  {
   "cell_type": "code",
   "execution_count": 2,
   "id": "8a89b34b-0c71-4177-b883-c5c634270efe",
   "metadata": {},
   "outputs": [
    {
     "name": "stdout",
     "output_type": "stream",
     "text": [
      "Requirement already satisfied: mysql-connector-python in c:\\users\\admin\\anaconda3\\lib\\site-packages (8.3.0)\n",
      "Note: you may need to restart the kernel to use updated packages.\n"
     ]
    }
   ],
   "source": [
    "pip install mysql-connector-python"
   ]
  },
  {
   "cell_type": "code",
   "execution_count": 3,
   "id": "07fb9500-5f9c-4442-9d3c-99437fbb68d0",
   "metadata": {
    "tags": []
   },
   "outputs": [],
   "source": [
    "import mysql.connector as m\n",
    "from tabulate import tabulate\n",
    "import pandas as pd\n",
    "mydb = m.connect(host = 'localhost',user = 'root',passwd = 'Loveumom@123')\n",
    "cursor = mydb.cursor()"
   ]
  },
  {
   "cell_type": "code",
   "execution_count": 4,
   "id": "425f3e96-d779-4236-a42b-f2a658dec6cf",
   "metadata": {
    "tags": []
   },
   "outputs": [
    {
     "name": "stdout",
     "output_type": "stream",
     "text": [
      "+--------------------+\n",
      "|     DATABASES      |\n",
      "+--------------------+\n",
      "|     cardataset     |\n",
      "| information_schema |\n",
      "|       mysql        |\n",
      "| performance_schema |\n",
      "|      sidfirst      |\n",
      "|    sqlpractice1    |\n",
      "|        sys         |\n",
      "+--------------------+\n"
     ]
    }
   ],
   "source": [
    "cursor.execute('SHOW DATABASES')\n",
    "print(tabulate(cursor.fetchall(),headers = ['DATABASES'],tablefmt = 'pretty'))"
   ]
  },
  {
   "cell_type": "code",
   "execution_count": 5,
   "id": "78d41a03-aa62-4b8b-ab65-6d2983a37f15",
   "metadata": {
    "tags": []
   },
   "outputs": [
    {
     "name": "stdout",
     "output_type": "stream",
     "text": [
      "+------------------------+\n",
      "| TABLES IN sqlpractice1 |\n",
      "+------------------------+\n",
      "|       employees        |\n",
      "|        student         |\n",
      "+------------------------+\n"
     ]
    }
   ],
   "source": [
    "cursor.execute('USE sqlpractice1')\n",
    "cursor.execute('SHOW TABLES')\n",
    "print(tabulate(cursor.fetchall(),headers = ['TABLES IN sqlpractice1'],tablefmt = 'pretty'))"
   ]
  },
  {
   "cell_type": "code",
   "execution_count": null,
   "id": "2fc2ba62-9616-42fa-ae19-e70243e40b08",
   "metadata": {},
   "outputs": [],
   "source": [
    "cursor.execute(\"\"\"\n",
    "CREATE TABLE employees (\n",
    "    id INT PRIMARY KEY,\n",
    "    name VARCHAR(50),\n",
    "    age INT,\n",
    "    salary DECIMAL(10, 2),\n",
    "    department VARCHAR(50),\n",
    "    phone_number VARCHAR(20),\n",
    "    email VARCHAR(50),\n",
    "    bonus DECIMAL(10, 2)\n",
    ");\n",
    "\"\"\") # it will create a new table employees in sqlpractice1 database as above we used USE sqlpractice1 as database"
   ]
  },
  {
   "cell_type": "code",
   "execution_count": 8,
   "id": "652b6487-251d-4296-b80a-55084e421619",
   "metadata": {
    "tags": []
   },
   "outputs": [
    {
     "name": "stdout",
     "output_type": "stream",
     "text": [
      "+------------------------+\n",
      "| TABLES IN sqlpractice1 |\n",
      "+------------------------+\n",
      "|       employees        |\n",
      "|        student         |\n",
      "+------------------------+\n"
     ]
    }
   ],
   "source": [
    "cursor.execute('USE sqlpractice1')\n",
    "cursor.execute('SHOW TABLES')\n",
    "print(tabulate(cursor.fetchall(),headers = ['TABLES IN sqlpractice1'],tablefmt = 'pretty'))"
   ]
  },
  {
   "cell_type": "code",
   "execution_count": 9,
   "id": "6135a1c7-27f4-4495-94e8-c10e93001e9f",
   "metadata": {
    "tags": []
   },
   "outputs": [],
   "source": [
    "cursor.execute(\"\"\"\n",
    "INSERT INTO employees (id, name, age, salary, department, phone_number, email, bonus)\n",
    "VALUES\n",
    "(1, 'John Doe', 25, 55000, 'Engineering', '1234567890', 'john@example.com', 5000),\n",
    "(2, 'Jane Smith', 45, 48000, 'Marketing', NULL, 'jane@example.com', NULL),\n",
    "(3, 'Sam Brown', 62, 70000, 'HR', '0987654321', NULL, 0),\n",
    "(4, 'Lucy Green', 30, NULL, NULL, NULL, 'lucy@example.com', 2000);\n",
    "\"\"\")"
   ]
  },
  {
   "cell_type": "code",
   "execution_count": 10,
   "id": "1432c90e-7da0-4df9-bcde-b1cc813e3f74",
   "metadata": {
    "tags": []
   },
   "outputs": [],
   "source": [
    "mydb.commit()"
   ]
  },
  {
   "cell_type": "code",
   "execution_count": 5,
   "id": "0ff9b0fc-cb1d-4d83-b9f6-3284cbcaa147",
   "metadata": {
    "tags": []
   },
   "outputs": [],
   "source": [
    "cursor.execute(\"\"\"\n",
    "SELECT * FROM sqlpractice1.employees\n",
    "\"\"\")"
   ]
  },
  {
   "cell_type": "code",
   "execution_count": 6,
   "id": "fef3f27b-699a-42a6-9c7c-66c8bcdcca8b",
   "metadata": {
    "tags": []
   },
   "outputs": [
    {
     "name": "stdout",
     "output_type": "stream",
     "text": [
      "+----+------------+-----+----------+-------------+--------------+------------------+---------+\n",
      "| id |    name    | age |  salary  | department  | phone_number |      email       |  bonus  |\n",
      "+----+------------+-----+----------+-------------+--------------+------------------+---------+\n",
      "| 1  |  John Doe  | 25  | 55000.00 | Engineering |  1234567890  | john@example.com | 5000.00 |\n",
      "| 2  | Jane Smith | 45  | 48000.00 |  Marketing  |              | jane@example.com |         |\n",
      "| 3  | Sam Brown  | 62  | 70000.00 |     HR      |  0987654321  |                  |  0.00   |\n",
      "| 4  | Lucy Green | 30  |          |             |              | lucy@example.com | 2000.00 |\n",
      "+----+------------+-----+----------+-------------+--------------+------------------+---------+\n"
     ]
    }
   ],
   "source": [
    "print(tabulate(cursor.fetchall(),headers=[column [0] for column in cursor.description],tablefmt = 'pretty'))"
   ]
  },
  {
   "cell_type": "code",
   "execution_count": null,
   "id": "846cfa3c-902c-4de3-b0f7-5425efd72e83",
   "metadata": {},
   "outputs": [],
   "source": [
    "# 7.1--> IF FUNCTION :\n",
    "# Purpose: The IF function is used to return one value if a condition is true and another value if the condition is false.\n",
    "# Syntax: IF(condition, value_if_true, value_if_false) "
   ]
  },
  {
   "cell_type": "code",
   "execution_count": 27,
   "id": "521e3c0d-d462-46d1-978a-0e70445a5653",
   "metadata": {
    "tags": []
   },
   "outputs": [],
   "source": [
    "# IF Function # \n",
    "#Problem-1 : Write a SQL query to categorize employees based on their salary into TWO categories: \"Low\" and \"High\". \n",
    "# Consider salaries below 50,000 as \"Low\" and above 50,000 as \"High\".\n",
    "\n",
    "cursor.execute(\"\"\"\n",
    "SELECT name,\n",
    "IF (salary > 50000,'High','Low') AS salary_level\n",
    "FROM sqlpractice1.employees;\n",
    "\"\"\")"
   ]
  },
  {
   "cell_type": "code",
   "execution_count": 28,
   "id": "0ced85af-7d76-4e1e-8b42-8163b870082d",
   "metadata": {
    "tags": []
   },
   "outputs": [
    {
     "name": "stdout",
     "output_type": "stream",
     "text": [
      "+------------+--------------+\n",
      "|    name    | salary_level |\n",
      "+------------+--------------+\n",
      "|  John Doe  |     High     |\n",
      "| Jane Smith |     Low      |\n",
      "| Sam Brown  |     High     |\n",
      "| Lucy Green |     Low      |\n",
      "+------------+--------------+\n"
     ]
    }
   ],
   "source": [
    "print(tabulate(cursor.fetchall(),headers=[column [0] for column in cursor.description],tablefmt = 'pretty'))"
   ]
  },
  {
   "cell_type": "code",
   "execution_count": 29,
   "id": "df793274-4643-424c-b4af-15b5114d1b66",
   "metadata": {
    "tags": []
   },
   "outputs": [],
   "source": [
    "# Issue in above result : Lucy Green has empty salary value still in result it shows \"Low\".\n",
    "# now how to get \"No salary Data\" for salaries that has NULL value like lucy green, using IF function.\n",
    "cursor.execute(\"\"\"\n",
    "SELECT name,salary,\n",
    "       IF(salary IS NULL, 'No Salary Data', IF(salary > 50000, 'High', 'Low')) AS salary_level\n",
    "FROM sqlpractice1.employees;\n",
    "\"\"\")"
   ]
  },
  {
   "cell_type": "code",
   "execution_count": 30,
   "id": "002ebc2d-a8ce-4a73-8c4f-a0c2fc3a7146",
   "metadata": {
    "tags": []
   },
   "outputs": [
    {
     "name": "stdout",
     "output_type": "stream",
     "text": [
      "+------------+----------+----------------+\n",
      "|    name    |  salary  |  salary_level  |\n",
      "+------------+----------+----------------+\n",
      "|  John Doe  | 55000.00 |      High      |\n",
      "| Jane Smith | 48000.00 |      Low       |\n",
      "| Sam Brown  | 70000.00 |      High      |\n",
      "| Lucy Green |          | No Salary Data |\n",
      "+------------+----------+----------------+\n"
     ]
    }
   ],
   "source": [
    "print(tabulate(cursor.fetchall(),headers=[column [0] for column in cursor.description],tablefmt = 'pretty'))"
   ]
  },
  {
   "cell_type": "code",
   "execution_count": 31,
   "id": "666de18d-22b9-4759-8f14-db16b6ab319d",
   "metadata": {
    "tags": []
   },
   "outputs": [
    {
     "data": {
      "text/plain": [
       "'\\nCASE \\n    WHEN condition1 THEN result1\\n    WHEN condition2 THEN result2\\n    ...\\n    ELSE result\\nEND\\n'"
      ]
     },
     "execution_count": 31,
     "metadata": {},
     "output_type": "execute_result"
    }
   ],
   "source": [
    "# 7.2--> CASE FUNCTION :\n",
    "# Purpose: The CASE function allows you to perform complex conditional queries. It returns values based on multiple conditions.\n",
    "# Syntax:\n",
    "\"\"\"\n",
    "CASE \n",
    "    WHEN condition1 THEN result1\n",
    "    WHEN condition2 THEN result2\n",
    "    ...\n",
    "    ELSE result\n",
    "END\n",
    "\"\"\""
   ]
  },
  {
   "cell_type": "code",
   "execution_count": 32,
   "id": "24d6b16e-f081-4a78-a896-c7ded2b7c584",
   "metadata": {
    "tags": []
   },
   "outputs": [],
   "source": [
    "# CASE FUNCTION\n",
    "# problem-1: dividing employees into three categories according to their age_group. age >= 18 < 60 as adult,\n",
    "# age < 18 as minor and otherwise senior\n",
    "\n",
    "cursor.execute(\"\"\"\n",
    "SELECT name,age,\n",
    "        CASE\n",
    "            WHEN age < 18 THEN 'Minor'\n",
    "            WHEN age >= 18 AND age < 60 THEN 'Adult'\n",
    "            ELSE 'Senior'\n",
    "        END AS Age_Group\n",
    "FROM sqlpractice1.employees;\n",
    "\"\"\")"
   ]
  },
  {
   "cell_type": "code",
   "execution_count": 33,
   "id": "48908d22-c5ae-4846-9e46-7e744207b29c",
   "metadata": {
    "tags": []
   },
   "outputs": [
    {
     "name": "stdout",
     "output_type": "stream",
     "text": [
      "+------------+-----+-----------+\n",
      "|    name    | age | Age_Group |\n",
      "+------------+-----+-----------+\n",
      "|  John Doe  | 25  |   Adult   |\n",
      "| Jane Smith | 45  |   Adult   |\n",
      "| Sam Brown  | 62  |  Senior   |\n",
      "| Lucy Green | 30  |   Adult   |\n",
      "+------------+-----+-----------+\n"
     ]
    }
   ],
   "source": [
    "print(tabulate(cursor.fetchall(),headers=[column [0] for column in cursor.description],tablefmt = 'pretty'))"
   ]
  },
  {
   "cell_type": "code",
   "execution_count": 21,
   "id": "06d79bab-5299-42b1-ae28-e7dd8a486759",
   "metadata": {},
   "outputs": [],
   "source": [
    "# 7.3 COALESCE FUNCTION : \n",
    "# Purpose: The COALESCE function returns the first non-null value in the list of expressions.\n",
    "# Syntax: COALESCE(expression1, expression2, ..., expression_n)\n",
    "cursor.execute(\"\"\"\n",
    "SELECT *, COALESCE(phone_number, email, 'No Contact Info') AS contact_info\n",
    "FROM sqlpractice1.employees;\n",
    "\"\"\")\n",
    "# This returns the first non-null contact information available (phone number, email, or 'No Contact Info')."
   ]
  },
  {
   "cell_type": "code",
   "execution_count": 22,
   "id": "efcc23d6-45ff-4944-b9d6-3d4af77c2c63",
   "metadata": {
    "tags": []
   },
   "outputs": [
    {
     "name": "stdout",
     "output_type": "stream",
     "text": [
      "+----+------------+-----+----------+-------------+--------------+------------------+---------+------------------+\n",
      "| id |    name    | age |  salary  | department  | phone_number |      email       |  bonus  |   contact_info   |\n",
      "+----+------------+-----+----------+-------------+--------------+------------------+---------+------------------+\n",
      "| 1  |  John Doe  | 25  | 55000.00 | Engineering |  1234567890  | john@example.com | 5000.00 |    1234567890    |\n",
      "| 2  | Jane Smith | 45  | 48000.00 |  Marketing  |              | jane@example.com |         | jane@example.com |\n",
      "| 3  | Sam Brown  | 62  | 70000.00 |     HR      |  0987654321  |                  |  0.00   |    0987654321    |\n",
      "| 4  | Lucy Green | 30  |          |             |              | lucy@example.com | 2000.00 | lucy@example.com |\n",
      "+----+------------+-----+----------+-------------+--------------+------------------+---------+------------------+\n"
     ]
    }
   ],
   "source": [
    "print(tabulate(cursor.fetchall(),headers=[column [0] for column in cursor.description],tablefmt = 'pretty'))"
   ]
  },
  {
   "cell_type": "code",
   "execution_count": 19,
   "id": "cd47ac85-61a7-4f2b-9dda-d4da0f18971d",
   "metadata": {
    "tags": []
   },
   "outputs": [],
   "source": [
    "# 7.4 NULLIF :\n",
    "# Purpose: The NULLIF function returns NULL if two expressions are equal; otherwise, it returns the first expression.\n",
    "# Syntax: NULLIF(expression1, expression2)\n",
    "cursor.execute(\"\"\"\n",
    "SELECT *, NULLIF(bonus, 0) AS final_bonus\n",
    "FROM sqlpractice1.employees;\n",
    "\"\"\")\n",
    "# it returns NULL if two expression are equal,otherwise it returns first value.\n",
    "# (5000,0)--->5000\n",
    "# (NULL,0)--->NULL\n",
    "# (0,0) ----->NULL\n",
    "# (2000,0)--->2000"
   ]
  },
  {
   "cell_type": "code",
   "execution_count": 20,
   "id": "9f38f53c-7827-4aaf-9cf9-08a50a8f6240",
   "metadata": {
    "tags": []
   },
   "outputs": [
    {
     "name": "stdout",
     "output_type": "stream",
     "text": [
      "+----+------------+-----+----------+-------------+--------------+------------------+---------+-------------+\n",
      "| id |    name    | age |  salary  | department  | phone_number |      email       |  bonus  | final_bonus |\n",
      "+----+------------+-----+----------+-------------+--------------+------------------+---------+-------------+\n",
      "| 1  |  John Doe  | 25  | 55000.00 | Engineering |  1234567890  | john@example.com | 5000.00 |   5000.00   |\n",
      "| 2  | Jane Smith | 45  | 48000.00 |  Marketing  |              | jane@example.com |         |             |\n",
      "| 3  | Sam Brown  | 62  | 70000.00 |     HR      |  0987654321  |                  |  0.00   |             |\n",
      "| 4  | Lucy Green | 30  |          |             |              | lucy@example.com | 2000.00 |   2000.00   |\n",
      "+----+------------+-----+----------+-------------+--------------+------------------+---------+-------------+\n"
     ]
    }
   ],
   "source": [
    "print(tabulate(cursor.fetchall(),headers=[column [0] for column in cursor.description],tablefmt = 'pretty'))"
   ]
  },
  {
   "cell_type": "code",
   "execution_count": 25,
   "id": "ac4cd069-ec29-47d9-a241-173086ec8b15",
   "metadata": {
    "tags": []
   },
   "outputs": [],
   "source": [
    "# 7.5 IFNULL FUNCTION:\n",
    "# Purpose: The IFNULL function returns the first expression if it's not null; otherwise, it returns the second expression.\n",
    "# Syntax: IFNULL(expression1, expression2)\n",
    "\n",
    "cursor.execute(\"\"\"\n",
    "SELECT *,IFNULL(department, 'No Department') AS department_info\n",
    "FROM sqlpractice1.employees;\n",
    "\"\"\")\n",
    "# This will return 'No Department' if the department is NULL."
   ]
  },
  {
   "cell_type": "code",
   "execution_count": 26,
   "id": "4eaa81f2-0c69-47cf-80cd-4f2cdf1f10a6",
   "metadata": {
    "tags": []
   },
   "outputs": [
    {
     "name": "stdout",
     "output_type": "stream",
     "text": [
      "+----+------------+-----+----------+-------------+--------------+------------------+---------+-----------------+\n",
      "| id |    name    | age |  salary  | department  | phone_number |      email       |  bonus  | department_info |\n",
      "+----+------------+-----+----------+-------------+--------------+------------------+---------+-----------------+\n",
      "| 1  |  John Doe  | 25  | 55000.00 | Engineering |  1234567890  | john@example.com | 5000.00 |   Engineering   |\n",
      "| 2  | Jane Smith | 45  | 48000.00 |  Marketing  |              | jane@example.com |         |    Marketing    |\n",
      "| 3  | Sam Brown  | 62  | 70000.00 |     HR      |  0987654321  |                  |  0.00   |       HR        |\n",
      "| 4  | Lucy Green | 30  |          |             |              | lucy@example.com | 2000.00 |  No Department  |\n",
      "+----+------------+-----+----------+-------------+--------------+------------------+---------+-----------------+\n"
     ]
    }
   ],
   "source": [
    "print(tabulate(cursor.fetchall(),headers=[column [0] for column in cursor.description],tablefmt = 'pretty'))"
   ]
  },
  {
   "cell_type": "code",
   "execution_count": 40,
   "id": "1498ac9a-beee-4469-9ef5-40a27d38f711",
   "metadata": {
    "tags": []
   },
   "outputs": [],
   "source": [
    "# problem : NULLIF \n",
    "# Write a SQL query to calculate the bonus percentage for each employee. If the bonus is 0, the percentage should be NULL.\n",
    "cursor.execute(\"\"\"\n",
    "SELECT salary,bonus, \n",
    "       (bonus / NULLIF(salary, 0)) * 100 AS bonus_percentage\n",
    "FROM sqlpractice1.employees;\n",
    "\"\"\")"
   ]
  },
  {
   "cell_type": "code",
   "execution_count": 41,
   "id": "b7e0221a-c6fa-443b-a667-70bbd7e50cb6",
   "metadata": {
    "tags": []
   },
   "outputs": [
    {
     "name": "stdout",
     "output_type": "stream",
     "text": [
      "+----------+---------+------------------+\n",
      "|  salary  |  bonus  | bonus_percentage |\n",
      "+----------+---------+------------------+\n",
      "| 55000.00 | 5000.00 |     9.090909     |\n",
      "| 48000.00 |         |                  |\n",
      "| 70000.00 |  0.00   |     0.000000     |\n",
      "|          | 2000.00 |                  |\n",
      "+----------+---------+------------------+\n"
     ]
    }
   ],
   "source": [
    "print(tabulate(cursor.fetchall(),headers=[column [0] for column in cursor.description],tablefmt = 'pretty'))"
   ]
  },
  {
   "cell_type": "code",
   "execution_count": 44,
   "id": "177ec356-64ce-4daf-a706-fcb6cc80080b",
   "metadata": {
    "tags": []
   },
   "outputs": [],
   "source": [
    "# another approach to solve above problem. and this is more accurate as we needed.\n",
    "cursor.execute(\"\"\"\n",
    "SELECT name,salary,bonus, \n",
    "       CASE \n",
    "           WHEN salary IS NULL OR bonus = 0 THEN NULL\n",
    "           ELSE (bonus / salary) * 100\n",
    "       END AS bonus_percentage\n",
    "FROM sqlpractice1.employees;\n",
    "\"\"\")"
   ]
  },
  {
   "cell_type": "code",
   "execution_count": 45,
   "id": "37a2e4da-be73-4113-bc04-d25988719861",
   "metadata": {
    "tags": []
   },
   "outputs": [
    {
     "name": "stdout",
     "output_type": "stream",
     "text": [
      "+------------+----------+---------+------------------+\n",
      "|    name    |  salary  |  bonus  | bonus_percentage |\n",
      "+------------+----------+---------+------------------+\n",
      "|  John Doe  | 55000.00 | 5000.00 |     9.090909     |\n",
      "| Jane Smith | 48000.00 |         |                  |\n",
      "| Sam Brown  | 70000.00 |  0.00   |                  |\n",
      "| Lucy Green |          | 2000.00 |                  |\n",
      "+------------+----------+---------+------------------+\n"
     ]
    }
   ],
   "source": [
    "print(tabulate(cursor.fetchall(),headers=[column [0] for column in cursor.description],tablefmt = 'pretty'))"
   ]
  },
  {
   "cell_type": "code",
   "execution_count": 49,
   "id": "d5734b88-4f8e-44ff-8db4-ce5e6b24360f",
   "metadata": {
    "tags": []
   },
   "outputs": [],
   "source": [
    "# one another solution for above using IF function\n",
    "cursor.execute(\"\"\"\n",
    "SELECT name,salary,bonus, IF(salary IS NULL OR bonus=0,NULL,(bonus/salary)*100) AS bonus_percentage\n",
    "FROM sqlpractice1.employees\n",
    "\"\"\")"
   ]
  },
  {
   "cell_type": "code",
   "execution_count": 50,
   "id": "5b71d7b1-d014-4068-9667-ca9b4a0ef83d",
   "metadata": {
    "tags": []
   },
   "outputs": [
    {
     "name": "stdout",
     "output_type": "stream",
     "text": [
      "+------------+----------+---------+------------------+\n",
      "|    name    |  salary  |  bonus  | bonus_percentage |\n",
      "+------------+----------+---------+------------------+\n",
      "|  John Doe  | 55000.00 | 5000.00 |     9.090909     |\n",
      "| Jane Smith | 48000.00 |         |                  |\n",
      "| Sam Brown  | 70000.00 |  0.00   |                  |\n",
      "| Lucy Green |          | 2000.00 |                  |\n",
      "+------------+----------+---------+------------------+\n"
     ]
    }
   ],
   "source": [
    "print(tabulate(cursor.fetchall(),headers=[column [0] for column in cursor.description],tablefmt = 'pretty'))"
   ]
  },
  {
   "cell_type": "code",
   "execution_count": 58,
   "id": "44f580a6-b611-44eb-ae9a-56bd991d6030",
   "metadata": {
    "tags": []
   },
   "outputs": [],
   "source": [
    "# problem : Combine Multiple Conditions:\n",
    "# Question: Write a SQL query to find employees who either do not have a phone number or have a salary less than 50,000.\n",
    "\n",
    "cursor.execute(\"\"\"\n",
    "SELECT * FROM sqlpractice1.employees \n",
    "WHERE phone_number IS NULL OR salary < 50000;\n",
    "\"\"\")"
   ]
  },
  {
   "cell_type": "code",
   "execution_count": 59,
   "id": "163171ea-3b71-451d-8fcf-8de476acc5c1",
   "metadata": {
    "tags": []
   },
   "outputs": [
    {
     "name": "stdout",
     "output_type": "stream",
     "text": [
      "+----+------------+-----+----------+------------+--------------+------------------+---------+\n",
      "| id |    name    | age |  salary  | department | phone_number |      email       |  bonus  |\n",
      "+----+------------+-----+----------+------------+--------------+------------------+---------+\n",
      "| 2  | Jane Smith | 45  | 48000.00 | Marketing  |              | jane@example.com |         |\n",
      "| 4  | Lucy Green | 30  |          |            |              | lucy@example.com | 2000.00 |\n",
      "+----+------------+-----+----------+------------+--------------+------------------+---------+\n"
     ]
    }
   ],
   "source": [
    "print(tabulate(cursor.fetchall(),headers=[column [0] for column in cursor.description],tablefmt = 'pretty'))"
   ]
  },
  {
   "cell_type": "code",
   "execution_count": 1,
   "id": "0631b292-f20d-418b-a2ae-c91ecf463926",
   "metadata": {},
   "outputs": [],
   "source": [
    "# ------------------------> CHALLENGES UDEMY  : CONDITIONAL FUNCTIONS <-------------------------------------------"
   ]
  },
  {
   "cell_type": "code",
   "execution_count": null,
   "id": "887da84b-a79e-4a9f-843b-b90c7bd69b83",
   "metadata": {},
   "outputs": [],
   "source": [
    "# CHALLENGE :1 \n",
    "# StackOverflow publishes the results of the survey about popular databases amongst developers every year.  \n",
    "# I have used the information to create a table called popular_databases with 4 columns \n",
    "# database_name, vote_percentage_2023, vote_percentage_2022, vote_percentage_2021.\n",
    "\n",
    "# Please write a SELECT statement to query the table popular_databases and output the following columns\n",
    "\n",
    "# 1. database_name\n",
    "\n",
    "# 2. vote_year - This column is populated with the latest year for which the data is available for. \n",
    "# If the data is available for none of the years, please output the value 'N/A'\n",
    "\n",
    "# 3.vote_percentage - This column should have the vote percentage for the latest year for which the data is available. \n",
    "# If the data is available for none of the years, please output the value 'N/A'."
   ]
  },
  {
   "cell_type": "code",
   "execution_count": 8,
   "id": "39616770-141a-4d33-a5ad-027b4ed2146f",
   "metadata": {
    "tags": []
   },
   "outputs": [],
   "source": [
    "cursor.execute(\"\"\"\n",
    "CREATE TABLE sqlpractice1.popular_databases(\n",
    "database_name VARCHAR(50),\n",
    "vote_percent_23 INT,\n",
    "vote_percent_22 INT,\n",
    "vote_percent_21 INT)\n",
    "\"\"\")"
   ]
  },
  {
   "cell_type": "code",
   "execution_count": 9,
   "id": "8ba3a395-56e1-4a7c-bb56-28efbe0913a0",
   "metadata": {
    "tags": []
   },
   "outputs": [],
   "source": [
    "cursor.execute(\"\"\"\n",
    "ALTER TABLE sqlpractice1.popular_databases\n",
    "MODIFY COLUMN vote_percent_23 DECIMAL(4,2),\n",
    "MODIFY COLUMN vote_percent_22 DECIMAL(4,2),\n",
    "MODIFY COLUMN vote_percent_21 DECIMAL(4,2);\n",
    "\"\"\")"
   ]
  },
  {
   "cell_type": "code",
   "execution_count": 19,
   "id": "1e1c76a9-2131-43f6-ae01-65e79c949dc3",
   "metadata": {
    "tags": []
   },
   "outputs": [],
   "source": [
    "cursor.execute(\"\"\"\n",
    "DESCRIBE sqlpractice1.popular_databases\n",
    "\"\"\")"
   ]
  },
  {
   "cell_type": "code",
   "execution_count": 20,
   "id": "2ba8062d-14b3-4ed2-b847-cef98cad87ae",
   "metadata": {
    "tags": []
   },
   "outputs": [
    {
     "data": {
      "text/plain": [
       "[('database_name', 'varchar(50)', 'YES', '', None, ''),\n",
       " ('vote_percent_23', 'decimal(4,2)', 'YES', '', None, ''),\n",
       " ('vote_percent_22', 'decimal(4,2)', 'YES', '', None, ''),\n",
       " ('vote_percent_21', 'decimal(4,2)', 'YES', '', None, '')]"
      ]
     },
     "execution_count": 20,
     "metadata": {},
     "output_type": "execute_result"
    }
   ],
   "source": [
    "cursor.fetchall()"
   ]
  },
  {
   "cell_type": "code",
   "execution_count": 15,
   "id": "8f29b623-b392-470f-96a4-c4e6fde63f4b",
   "metadata": {
    "tags": []
   },
   "outputs": [],
   "source": [
    "cursor.execute(\"\"\"\n",
    "INSERT INTO sqlpractice1.popular_databases(database_name,vote_percent_23,vote_percent_22,vote_percent_21)\n",
    "VALUES \n",
    "('PostgreSQL',45.55,NULL,40.42),\n",
    "('MYSQL',41.09,46.85,NULL),\n",
    "('SQLite',NULL,32.01,32.18),\n",
    "('MongoDB',NULL,NULL,27.7),\n",
    "('MYSQLserver',NULL,NULL,NULL);\n",
    "\"\"\")"
   ]
  },
  {
   "cell_type": "code",
   "execution_count": 16,
   "id": "798a7c14-1d79-488b-b8e7-664abd9e324b",
   "metadata": {
    "tags": []
   },
   "outputs": [],
   "source": [
    "mydb.commit()"
   ]
  },
  {
   "cell_type": "code",
   "execution_count": 17,
   "id": "0e10d70b-0285-4d6e-b3fb-63585e819de5",
   "metadata": {
    "tags": []
   },
   "outputs": [],
   "source": [
    "cursor.execute(\"\"\"\n",
    "SELECT * FROM sqlpractice1.popular_databases\n",
    "\"\"\")"
   ]
  },
  {
   "cell_type": "code",
   "execution_count": 18,
   "id": "4e39aa54-5919-4258-9efa-db0552764a88",
   "metadata": {
    "tags": []
   },
   "outputs": [
    {
     "name": "stdout",
     "output_type": "stream",
     "text": [
      "+---------------+-----------------+-----------------+-----------------+\n",
      "| database_name | vote_percent_23 | vote_percent_22 | vote_percent_21 |\n",
      "+---------------+-----------------+-----------------+-----------------+\n",
      "|  PostgreSQL   |      45.55      |                 |      40.42      |\n",
      "|     MYSQL     |      41.09      |      46.85      |                 |\n",
      "|    SQLite     |                 |      32.01      |      32.18      |\n",
      "|    MongoDB    |                 |                 |      27.70      |\n",
      "|  MYSQLserver  |                 |                 |                 |\n",
      "+---------------+-----------------+-----------------+-----------------+\n"
     ]
    }
   ],
   "source": [
    "print(tabulate(cursor.fetchall(),headers=[column [0] for column in cursor.description],tablefmt = 'pretty'))"
   ]
  },
  {
   "cell_type": "code",
   "execution_count": 30,
   "id": "bb76048b-30f1-467c-ad77-7a83b3dddd12",
   "metadata": {
    "tags": []
   },
   "outputs": [],
   "source": [
    "# solution :1.1\n",
    "cursor.execute(\"\"\"\n",
    "SELECT \n",
    "    database_name,\n",
    "    CASE \n",
    "        WHEN vote_percent_23 IS NOT NULL THEN '2023'\n",
    "        WHEN vote_percent_22 IS NOT NULL THEN '2022'\n",
    "        WHEN vote_percent_21 IS NOT NULL THEN '2021'\n",
    "        ELSE 'N/A'\n",
    "    END AS vote_year,\n",
    "    CASE \n",
    "        WHEN vote_percent_23 IS NOT NULL THEN vote_percent_23\n",
    "        WHEN vote_percent_22 IS NOT NULL THEN vote_percent_22\n",
    "        WHEN vote_percent_21 IS NOT NULL THEN vote_percent_21\n",
    "        ELSE 'N/A'\n",
    "    END AS vote_percentage\n",
    "FROM sqlpractice1.popular_databases;\n",
    "\"\"\")\n",
    "# Explanation:\n",
    "# 1.vote_year: This column checks for the availability of data in descending order (starting from 2023) and outputs \n",
    "# the corresponding year if data is available; otherwise, it outputs 'N/A'.\n",
    "# 2.vote_percentage: This column retrieves the vote percentage from the latest year available. \n",
    "# If no data is available for any year, it returns 'N/A'."
   ]
  },
  {
   "cell_type": "code",
   "execution_count": 31,
   "id": "7be98a95-3870-4bdd-b9dd-02bd7de13c26",
   "metadata": {
    "tags": []
   },
   "outputs": [
    {
     "name": "stdout",
     "output_type": "stream",
     "text": [
      "+---------------+-----------+-----------------+\n",
      "| database_name | vote_year | vote_percentage |\n",
      "+---------------+-----------+-----------------+\n",
      "|  PostgreSQL   |   2023    |      45.55      |\n",
      "|     MYSQL     |   2023    |      41.09      |\n",
      "|    SQLite     |   2022    |      32.01      |\n",
      "|    MongoDB    |   2021    |      27.70      |\n",
      "|  MYSQLserver  |    N/A    |       N/A       |\n",
      "+---------------+-----------+-----------------+\n"
     ]
    }
   ],
   "source": [
    "print(tabulate(cursor.fetchall(),headers=[column [0] for column in cursor.description],tablefmt = 'pretty'))"
   ]
  },
  {
   "cell_type": "code",
   "execution_count": 28,
   "id": "428bb8f8-50a7-4e35-ae89-134a55a326a4",
   "metadata": {
    "tags": []
   },
   "outputs": [],
   "source": [
    "# solution : 1.2 using COLEASCE function\n",
    "cursor.execute(\"\"\"\n",
    "SELECT \n",
    "    database_name,\n",
    "    COALESCE(\n",
    "        CASE WHEN vote_percent_23 IS NOT NULL THEN '2023' END,\n",
    "        CASE WHEN vote_percent_22 IS NOT NULL THEN '2022' END,\n",
    "        CASE WHEN vote_percent_21 IS NOT NULL THEN '2021' END,\n",
    "        'N/A'\n",
    "    ) AS vote_year,\n",
    "    COALESCE(vote_percent_23, vote_percent_22, vote_percent_21, 'N/A') AS vote_percentage\n",
    "FROM sqlpractice1.popular_databases;\n",
    "\"\"\")\n",
    "# COALESCE works by returning the first non-NULL value from a list of expressions. In this case:\n",
    "# For vote_year, we use CASE statements inside COALESCE to return the latest available year where the vote percentage is not NULL. \n",
    "# If no year has data, it returns 'N/A'.\n",
    "# For vote_percentage, it picks the first non-NULL vote percentage from 2023, 2022, or 2021. \n",
    "# If none are available, it returns 'N/A'."
   ]
  },
  {
   "cell_type": "code",
   "execution_count": 29,
   "id": "c20ef6a4-9f3c-41d3-aa68-b4465a9b0d6a",
   "metadata": {
    "tags": []
   },
   "outputs": [
    {
     "name": "stdout",
     "output_type": "stream",
     "text": [
      "+---------------+-----------+-----------------+\n",
      "| database_name | vote_year | vote_percentage |\n",
      "+---------------+-----------+-----------------+\n",
      "|  PostgreSQL   |   2023    |      45.55      |\n",
      "|     MYSQL     |   2023    |      41.09      |\n",
      "|    SQLite     |   2022    |      32.01      |\n",
      "|    MongoDB    |   2021    |      27.70      |\n",
      "|  MYSQLserver  |    N/A    |       N/A       |\n",
      "+---------------+-----------+-----------------+\n"
     ]
    }
   ],
   "source": [
    "print(tabulate(cursor.fetchall(),headers=[column [0] for column in cursor.description],tablefmt = 'pretty'))"
   ]
  },
  {
   "cell_type": "code",
   "execution_count": 38,
   "id": "b7a9db39-1728-470f-900f-93523aee34bb",
   "metadata": {
    "tags": []
   },
   "outputs": [],
   "source": [
    "# solution : 1.3 using IFNULL\n",
    "cursor.execute(\"\"\"\n",
    "SELECT \n",
    "    *,\n",
    "    IFNULL(\n",
    "        IF(vote_percent_23 IS NOT NULL, '2023', NULL),\n",
    "        IF(vote_percent_22 IS NOT NULL, '2022', IF(vote_percent_21 IS NOT NULL, '2021', 'N/A'))\n",
    "    ) AS vote_year,\n",
    "    IFNULL(vote_percent_23, \n",
    "    IFNULL(vote_percent_22, IFNULL(vote_percent_21, 'N/A'))) AS vote_percentage\n",
    "FROM popular_databases;\n",
    "\"\"\")\n",
    "# Explanation:\n",
    "# IFNULL checks each condition and if a NULL is encountered, it moves to the next value.\n",
    "# The inner IF conditions are used to check for the latest year where the vote percentage is not NULL, \n",
    "# and then IFNULL returns the first non-NULL value."
   ]
  },
  {
   "cell_type": "code",
   "execution_count": 39,
   "id": "1e6bd0bc-4a17-49bc-b83f-b44b2b4f1c6b",
   "metadata": {
    "tags": []
   },
   "outputs": [
    {
     "name": "stdout",
     "output_type": "stream",
     "text": [
      "+---------------+-----------------+-----------------+-----------------+-----------+-----------------+\n",
      "| database_name | vote_percent_23 | vote_percent_22 | vote_percent_21 | vote_year | vote_percentage |\n",
      "+---------------+-----------------+-----------------+-----------------+-----------+-----------------+\n",
      "|  PostgreSQL   |      45.55      |                 |      40.42      |   2023    |      45.55      |\n",
      "|     MYSQL     |      41.09      |      46.85      |                 |   2023    |      41.09      |\n",
      "|    SQLite     |                 |      32.01      |      32.18      |   2022    |      32.01      |\n",
      "|    MongoDB    |                 |                 |      27.70      |   2021    |      27.70      |\n",
      "|  MYSQLserver  |                 |                 |                 |    N/A    |       N/A       |\n",
      "+---------------+-----------------+-----------------+-----------------+-----------+-----------------+\n"
     ]
    }
   ],
   "source": [
    "print(tabulate(cursor.fetchall(),headers=[column [0] for column in cursor.description],tablefmt = 'pretty'))"
   ]
  },
  {
   "cell_type": "code",
   "execution_count": null,
   "id": "4bb355ed-700c-4463-8e0c-8bcf96eaf4e8",
   "metadata": {},
   "outputs": [],
   "source": [
    "# challenge : 2 \n",
    "# StackOverflow publishes the results of the survey about popular programming languages amongst developers every year.  \n",
    "# I have used the information to create a table called popular_languages with \n",
    "# 4 columns language, vote_percentage_2023, vote_percentage_2022, vote_percentage_2021\n",
    "# Please write a SELECT statement to query the table popular_languages and output the following columns\n",
    "\n",
    "# 1.language\n",
    "\n",
    "# 2.vote_year -  This column is populated with the latest year for which the data is available for. \n",
    "# If the data is available for none of the years, please output the value 'N/A'\n",
    "\n",
    "# 3.vote_percentage - This column should have the vote percentage for the latest year for which the data is available. \n",
    "# If the data is available for none of the years, please output the value 'N/A'"
   ]
  },
  {
   "cell_type": "code",
   "execution_count": 40,
   "id": "6a8c0bc0-3f54-4e2a-ae44-822f61670bd0",
   "metadata": {
    "tags": []
   },
   "outputs": [],
   "source": [
    "cursor.execute(\"\"\"\n",
    "CREATE TABLE sqlpractice1.popular_languages (\n",
    "    language VARCHAR(50),\n",
    "    vote_percentage_2023 DECIMAL(5, 2),\n",
    "    vote_percentage_2022 DECIMAL(5, 2),\n",
    "    vote_percentage_2021 DECIMAL(5, 2)\n",
    ");\n",
    "\"\"\")"
   ]
  },
  {
   "cell_type": "code",
   "execution_count": 41,
   "id": "97dd3b7e-4283-4bfa-b9ad-d6810e38607b",
   "metadata": {
    "tags": []
   },
   "outputs": [],
   "source": [
    "cursor.execute(\"\"\"\n",
    "INSERT INTO popular_languages (language, vote_percentage_2023, vote_percentage_2022, vote_percentage_2021)\n",
    "VALUES\n",
    "('JavaScript', 63.61, 0, 64.96),\n",
    "('HTML', 52.97, 55.08, 0),\n",
    "('Python', 0, 48.07, 48.24),\n",
    "('SQL', 48.66, 0, 47.08),\n",
    "('TypeScript', 0, 0, 0);\n",
    "\"\"\")"
   ]
  },
  {
   "cell_type": "code",
   "execution_count": 42,
   "id": "f0d2bd98-153b-446c-9bc3-f1818c343229",
   "metadata": {
    "tags": []
   },
   "outputs": [],
   "source": [
    "mydb.commit()"
   ]
  },
  {
   "cell_type": "code",
   "execution_count": 45,
   "id": "5dc821dd-d76e-4cc4-9dc6-f2e3620a6c2d",
   "metadata": {
    "tags": []
   },
   "outputs": [],
   "source": [
    "cursor.execute(\"\"\"\n",
    "SELECT * FROM sqlpractice1.popular_languages\n",
    "\"\"\")"
   ]
  },
  {
   "cell_type": "code",
   "execution_count": 46,
   "id": "497842aa-6592-4d7d-98e0-9cc19f474d33",
   "metadata": {
    "tags": []
   },
   "outputs": [
    {
     "name": "stdout",
     "output_type": "stream",
     "text": [
      "+------------+----------------------+----------------------+----------------------+\n",
      "|  language  | vote_percentage_2023 | vote_percentage_2022 | vote_percentage_2021 |\n",
      "+------------+----------------------+----------------------+----------------------+\n",
      "| JavaScript |        63.61         |         0.00         |        64.96         |\n",
      "|    HTML    |        52.97         |        55.08         |         0.00         |\n",
      "|   Python   |         0.00         |        48.07         |        48.24         |\n",
      "|    SQL     |        48.66         |         0.00         |        47.08         |\n",
      "| TypeScript |         0.00         |         0.00         |         0.00         |\n",
      "+------------+----------------------+----------------------+----------------------+\n"
     ]
    }
   ],
   "source": [
    "print(tabulate(cursor.fetchall(),headers=[column [0] for column in cursor.description],tablefmt = 'pretty'))"
   ]
  },
  {
   "cell_type": "code",
   "execution_count": 49,
   "id": "52d43e39-54bf-4e83-ba2d-143be3033a32",
   "metadata": {
    "tags": []
   },
   "outputs": [],
   "source": [
    "# Solution : 2.1 using case when\n",
    "\n",
    "cursor.execute(\"\"\"\n",
    "SELECT \n",
    "    language,\n",
    "    CASE\n",
    "        WHEN vote_percentage_2023 > 0 THEN '2023'\n",
    "        WHEN vote_percentage_2022 > 0 THEN '2022'\n",
    "        WHEN vote_percentage_2021 > 0 THEN '2021'\n",
    "        ELSE 'N/A'\n",
    "    END AS vote_year,\n",
    "    CASE\n",
    "        WHEN vote_percentage_2023 > 0 THEN vote_percentage_2023\n",
    "        WHEN vote_percentage_2022 > 0 THEN vote_percentage_2022\n",
    "        WHEN vote_percentage_2021 > 0 THEN vote_percentage_2021\n",
    "        ELSE 'N/A'\n",
    "    END AS vote_percentage\n",
    "FROM popular_languages;\n",
    "\"\"\")\n",
    "\n",
    "#The CASE statement for vote_year checks the columns in reverse order (starting from the most recent year, 2023). \n",
    "#It selects the latest year where the vote percentage is greater than 0.\n",
    "#The second CASE statement for vote_percentage similarly selects the vote percentage for the latest year where data is available.\n",
    "#If no vote percentage data is available for a language, both vote_year and vote_percentage will be set to 'N/A'"
   ]
  },
  {
   "cell_type": "code",
   "execution_count": 50,
   "id": "7090e99b-26e9-4b2a-8d13-d2582ecd4596",
   "metadata": {
    "tags": []
   },
   "outputs": [
    {
     "name": "stdout",
     "output_type": "stream",
     "text": [
      "+------------+-----------+-----------------+\n",
      "|  language  | vote_year | vote_percentage |\n",
      "+------------+-----------+-----------------+\n",
      "| JavaScript |   2023    |      63.61      |\n",
      "|    HTML    |   2023    |      52.97      |\n",
      "|   Python   |   2022    |      48.07      |\n",
      "|    SQL     |   2023    |      48.66      |\n",
      "| TypeScript |    N/A    |       N/A       |\n",
      "+------------+-----------+-----------------+\n"
     ]
    }
   ],
   "source": [
    "print(tabulate(cursor.fetchall(),headers=[column [0] for column in cursor.description],tablefmt = 'pretty'))"
   ]
  },
  {
   "cell_type": "code",
   "execution_count": 53,
   "id": "008164e3-ee91-493a-9d0e-50643c7e3dcb",
   "metadata": {
    "tags": []
   },
   "outputs": [],
   "source": [
    "# solution:2.2\n",
    "cursor.execute(\"\"\"\n",
    "SELECT \n",
    "    language,\n",
    "    COALESCE(\n",
    "        NULLIF(vote_percentage_2023, 0), \n",
    "        NULLIF(vote_percentage_2022, 0), \n",
    "        NULLIF(vote_percentage_2021, 0),\n",
    "        'N/A'\n",
    "    ) AS vote_percentage,\n",
    "    CASE \n",
    "        WHEN vote_percentage_2023 > 0 THEN '2023'\n",
    "        WHEN vote_percentage_2022 > 0 THEN '2022'\n",
    "        WHEN vote_percentage_2021 > 0 THEN '2021'\n",
    "        ELSE 'N/A'\n",
    "    END AS vote_year\n",
    "FROM popular_languages;\n",
    "\"\"\")\n",
    "\n",
    "# The COALESCE function is used to find the first non-zero vote percentage. \n",
    "# We use NULLIF(column, 0) to convert 0s to NULL since COALESCE skips NULL values.\n",
    "# The CASE statement for vote_year remains unchanged but still selects the latest year based on the same logic."
   ]
  },
  {
   "cell_type": "code",
   "execution_count": 54,
   "id": "b7fb8fd2-159a-4ef3-82b9-a5e292e3a554",
   "metadata": {
    "tags": []
   },
   "outputs": [
    {
     "name": "stdout",
     "output_type": "stream",
     "text": [
      "+------------+-----------------+-----------+\n",
      "|  language  | vote_percentage | vote_year |\n",
      "+------------+-----------------+-----------+\n",
      "| JavaScript |      63.61      |   2023    |\n",
      "|    HTML    |      52.97      |   2023    |\n",
      "|   Python   |      48.07      |   2022    |\n",
      "|    SQL     |      48.66      |   2023    |\n",
      "| TypeScript |       N/A       |    N/A    |\n",
      "+------------+-----------------+-----------+\n"
     ]
    }
   ],
   "source": [
    "print(tabulate(cursor.fetchall(),headers=[column [0] for column in cursor.description],tablefmt = 'pretty'))"
   ]
  },
  {
   "cell_type": "code",
   "execution_count": null,
   "id": "d7ea7c30-8b23-489c-ac27-b3edf24dfb79",
   "metadata": {},
   "outputs": [],
   "source": []
  }
 ],
 "metadata": {
  "kernelspec": {
   "display_name": "Python 3 (ipykernel)",
   "language": "python",
   "name": "python3"
  },
  "language_info": {
   "codemirror_mode": {
    "name": "ipython",
    "version": 3
   },
   "file_extension": ".py",
   "mimetype": "text/x-python",
   "name": "python",
   "nbconvert_exporter": "python",
   "pygments_lexer": "ipython3",
   "version": "3.11.5"
  }
 },
 "nbformat": 4,
 "nbformat_minor": 5
}
