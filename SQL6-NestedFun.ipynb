{
 "cells": [
  {
   "cell_type": "code",
   "execution_count": null,
   "id": "e4cbef07-7f09-4ef1-a724-f000c950ed0b",
   "metadata": {},
   "outputs": [],
   "source": [
    "#-----> NESTED FUNCTIONS IN SQL <-------"
   ]
  },
  {
   "cell_type": "code",
   "execution_count": 1,
   "id": "f9c47b4c-a508-471c-b8a8-bcff1fe72a31",
   "metadata": {},
   "outputs": [
    {
     "name": "stdout",
     "output_type": "stream",
     "text": [
      "Requirement already satisfied: mysql-connector-python in c:\\users\\admin\\anaconda3\\lib\\site-packages (8.3.0)\n",
      "Note: you may need to restart the kernel to use updated packages.\n"
     ]
    }
   ],
   "source": [
    "pip install mysql-connector-python"
   ]
  },
  {
   "cell_type": "code",
   "execution_count": 2,
   "id": "58a37535-b6f2-4906-90a3-016972b68205",
   "metadata": {
    "tags": []
   },
   "outputs": [],
   "source": [
    "import mysql.connector as g\n",
    "from tabulate import tabulate\n",
    "import pandas as pd\n",
    "mydb = g.connect (host = 'localhost',user = 'root',passwd = 'Loveumom@123')\n",
    "cursor = mydb.cursor()"
   ]
  },
  {
   "cell_type": "code",
   "execution_count": 3,
   "id": "2bf82dcc-3d90-4191-bba6-286cdc517268",
   "metadata": {
    "tags": []
   },
   "outputs": [
    {
     "name": "stdout",
     "output_type": "stream",
     "text": [
      "+--------------------+\n",
      "|     DATABASES      |\n",
      "+--------------------+\n",
      "|     cardataset     |\n",
      "| information_schema |\n",
      "|       mysql        |\n",
      "| performance_schema |\n",
      "|      sidfirst      |\n",
      "|    sqlpractice1    |\n",
      "|        sys         |\n",
      "+--------------------+\n"
     ]
    }
   ],
   "source": [
    "cursor.execute('SHOW DATABASES')\n",
    "print(tabulate(cursor.fetchall(),headers = ['DATABASES'],tablefmt = 'pretty'))"
   ]
  },
  {
   "cell_type": "code",
   "execution_count": 4,
   "id": "d76b6750-1685-4fe3-9f5c-fb3e5d2a4c95",
   "metadata": {
    "tags": []
   },
   "outputs": [
    {
     "name": "stdout",
     "output_type": "stream",
     "text": [
      "+--------------------+\n",
      "| TABLES IN sidfirst |\n",
      "+--------------------+\n",
      "|      customer      |\n",
      "|      employee      |\n",
      "|     glassdata      |\n",
      "|   healthcaredata   |\n",
      "|      ineuron       |\n",
      "|      mysales       |\n",
      "|       orders       |\n",
      "|       sales        |\n",
      "|        sid1        |\n",
      "|      workers       |\n",
      "+--------------------+\n"
     ]
    }
   ],
   "source": [
    "cursor.execute('USE sidfirst')\n",
    "cursor.execute('SHOW TABLES')\n",
    "print(tabulate(cursor.fetchall(),headers = ['TABLES IN sidfirst'],tablefmt = 'pretty'))"
   ]
  },
  {
   "cell_type": "code",
   "execution_count": 14,
   "id": "a0aa74fd-e803-43bf-a3ef-72e67373adc3",
   "metadata": {},
   "outputs": [],
   "source": [
    "# Example : supoose we want to count the length of upper cased string \"sql fundamentals\"\n",
    "cursor.execute(\"SELECT LENGTH(UPPER('sql fundamentals'))\")"
   ]
  },
  {
   "cell_type": "code",
   "execution_count": 15,
   "id": "7631b9bf-fe5c-4b47-9935-373f032927f6",
   "metadata": {
    "tags": []
   },
   "outputs": [
    {
     "name": "stdout",
     "output_type": "stream",
     "text": [
      "+-----------------------------------+\n",
      "| LENGTH(UPPER('sql fundamentals')) |\n",
      "+-----------------------------------+\n",
      "|                16                 |\n",
      "+-----------------------------------+\n"
     ]
    }
   ],
   "source": [
    "print(tabulate(cursor.fetchall(),headers = [column[0] for column in cursor.description],tablefmt = 'pretty'))"
   ]
  },
  {
   "cell_type": "code",
   "execution_count": 11,
   "id": "10eaad97-cc6d-4601-8b4c-4666de3d9291",
   "metadata": {
    "tags": []
   },
   "outputs": [],
   "source": [
    "# Example : suppose we want to calculate length of string after concatination of two small strings 'siddhant' and 'patel'\n",
    "#           and check if the length is greater than 10 or not. if yes display too long otherwise under 10."
   ]
  },
  {
   "cell_type": "code",
   "execution_count": 7,
   "id": "5d43863a-9cd5-47de-b057-04b279d9eee6",
   "metadata": {
    "tags": []
   },
   "outputs": [],
   "source": [
    "cursor.execute(\"\"\"\n",
    "SELECT CASE\n",
    "           WHEN LENGTH (CONCAT ('Siddhant','Patel')) > 10 THEN 'Too Long'\n",
    "           ELSE 'L is under 10'\n",
    "        END AS Length_of_FullName ;\n",
    "\"\"\")"
   ]
  },
  {
   "cell_type": "code",
   "execution_count": 23,
   "id": "2ea8c65f-fd85-4b1d-a3c1-4feb56a3e62a",
   "metadata": {
    "tags": []
   },
   "outputs": [
    {
     "name": "stdout",
     "output_type": "stream",
     "text": [
      "+--------------------+\n",
      "| Length_of_FullName |\n",
      "+--------------------+\n",
      "|      Too Long      |\n",
      "+--------------------+\n"
     ]
    }
   ],
   "source": [
    "print(tabulate(cursor.fetchall(),headers = [column[0] for column in cursor.description],tablefmt = 'pretty'))"
   ]
  },
  {
   "cell_type": "code",
   "execution_count": 24,
   "id": "fe40e014-bc38-4eea-9382-f993be2c33ab",
   "metadata": {
    "tags": []
   },
   "outputs": [],
   "source": [
    "cursor.execute(\"\"\"\n",
    "SELECT DAYNAME(DATE_FORMAT(CURDATE(), '%Y-%m-01')) AS first_day_of_month;\n",
    "\"\"\")"
   ]
  },
  {
   "cell_type": "code",
   "execution_count": 25,
   "id": "2d610470-26b4-4771-8697-e52b0f252270",
   "metadata": {
    "tags": []
   },
   "outputs": [
    {
     "name": "stdout",
     "output_type": "stream",
     "text": [
      "+--------------------+\n",
      "| first_day_of_month |\n",
      "+--------------------+\n",
      "|      Thursday      |\n",
      "+--------------------+\n"
     ]
    }
   ],
   "source": [
    "print(tabulate(cursor.fetchall(),headers = [column[0] for column in cursor.description],tablefmt = 'pretty'))"
   ]
  },
  {
   "cell_type": "code",
   "execution_count": 5,
   "id": "465d2387-19a9-46f7-98fb-181ed703c0df",
   "metadata": {},
   "outputs": [],
   "source": [
    "cursor.execute(\"\"\"\n",
    "CREATE TABLE sidfirst.employee (\n",
    "    employee_id INT,\n",
    "    first_name VARCHAR(50),\n",
    "    last_name VARCHAR(50),\n",
    "    department_id INT,\n",
    "    manager_id INT,\n",
    "    salary DECIMAL(10, 2),\n",
    "    product_id INT,\n",
    "    price DECIMAL(10, 2),\n",
    "    user_id INT,\n",
    "    login_date DATE,\n",
    "    activity_date DATE,\n",
    "    activity_type VARCHAR(50),\n",
    "    email VARCHAR(100)\n",
    ");\n",
    "\n",
    "\"\"\")"
   ]
  },
  {
   "cell_type": "code",
   "execution_count": 33,
   "id": "1f24bb84-7d37-48bc-a160-227fd0df0c86",
   "metadata": {
    "tags": []
   },
   "outputs": [],
   "source": [
    "cursor.execute(\"USE sidfirst\")\n",
    "cursor.execute(\"SHOW TABLES\")"
   ]
  },
  {
   "cell_type": "code",
   "execution_count": 34,
   "id": "2586149d-2cbe-4e66-8ca6-5b43e42a87e8",
   "metadata": {
    "tags": []
   },
   "outputs": [
    {
     "data": {
      "text/plain": [
       "[('customer',),\n",
       " ('employee',),\n",
       " ('glassdata',),\n",
       " ('healthcaredata',),\n",
       " ('ineuron',),\n",
       " ('mysales',),\n",
       " ('orders',),\n",
       " ('sales',),\n",
       " ('sid1',),\n",
       " ('workers',)]"
      ]
     },
     "execution_count": 34,
     "metadata": {},
     "output_type": "execute_result"
    }
   ],
   "source": [
    "cursor.fetchall()"
   ]
  },
  {
   "cell_type": "code",
   "execution_count": 14,
   "id": "f29075b0-01c7-48ec-be1e-09eb3e3594b9",
   "metadata": {
    "tags": []
   },
   "outputs": [],
   "source": [
    "cursor.execute(\"\"\"\n",
    "INSERT INTO sidfirst.employee (employee_id, first_name, last_name, department_id, manager_id, salary, product_id, price, user_id, login_date, activity_date, activity_type, email)\n",
    "VALUES\n",
    "(1, 'John', 'Doe', 1, NULL, 120000.00, 101, 50.00, 1001, '2024-01-01', '2024-01-01', 'login', 'john.doe@example.com'),\n",
    "(2, 'Jane', 'Smith', 1, 1, 90000.00, 102, 75.00, 1002, '2024-01-02', '2024-01-02', 'login', 'jane.smith@example.com'),\n",
    "(3, 'Jim', 'Beam', 2, NULL, 150000.00, 103, 200.00, 1003, '2024-01-03', '2024-01-03', 'login', 'jim.beam@example.com'),\n",
    "(4, 'Jack', 'Daniels', 2, 3, 110000.00, 104, 150.00, 1001, '2024-01-04', '2024-01-04', 'login', 'jack.daniels@example.com'),\n",
    "(5, 'Jessica', 'Jones', 2, 3, 105000.00, 105, 175.00, 1002, '2024-01-05', '2024-01-05', 'login', 'jessica.jones@example.com'),\n",
    "(6, 'Jake', 'Johnson', 1, 1, 85000.00, 106, 90.00, 1003, '2024-01-06', '2024-01-06', 'login', 'jake.johnson@example.com'),\n",
    "(7, 'Joan', 'Holloway', 3, NULL, 95000.00, 107, 120.00, 1001, '2024-01-07', '2024-01-07', 'login', 'joan.holloway@example.com'),\n",
    "(8, 'John', 'Appleseed', 3, 7, 80000.00, 108, 110.00, 1002, '2024-01-08', '2024-01-08', 'login', 'john.appleseed@example.com'),\n",
    "(9, 'Jamie', 'Lannister', 3, 7, 88000.00, 109, 60.00, 1003, '2024-01-09', '2024-01-09', 'login', 'jamie.lannister@example.com'),\n",
    "(10, 'Jenna', 'Maroney', 1, 1, 95000.00, 110, 85.00, 1001, '2024-01-10', '2024-01-10', 'login', 'jenna.maroney@example.com'),\n",
    "(11, 'Arya', 'Stark', 1, 1, 75000.00, 111, 180.00, 1002, '2024-01-11', '2024-01-11', 'login', 'arya.stark@example.com'),\n",
    "(12, 'Ned', 'Stark', 1, NULL, 115000.00, 112, 240.00, 1003, '2024-01-12', '2024-01-12', 'login', 'ned.stark@example.com'),\n",
    "(13, 'Sansa', 'Stark', 1, 12, 100000.00, 113, 160.00, 1001, '2024-01-13', '2024-01-13', 'login', 'sansa.stark@example.com'),\n",
    "(14, 'Robert', 'Baratheon', 2, NULL, 145000.00, 114, 300.00, 1002, '2024-01-14', '2024-01-14', 'login', 'robert.baratheon@example.com'),\n",
    "(15, 'Stannis', 'Baratheon', 2, 14, 95000.00, 115, 170.00, 1003, '2024-01-15', '2024-01-15', 'login', 'stannis.baratheon@example.com'),\n",
    "(16, 'Renly', 'Baratheon', 2, 14, 85000.00, 116, 190.00, 1001, '2024-01-16', '2024-01-16', 'login', 'renly.baratheon@example.com'),\n",
    "(17, 'Tywin', 'Lannister', 3, NULL, 155000.00, 117, 400.00, 1002, '2024-01-17', '2024-01-17', 'login', 'tywin.lannister@example.com'),\n",
    "(18, 'Tyrion', 'Lannister', 3, 17, 120000.00, 118, 220.00, 1003, '2024-01-18', '2024-01-18', 'login', 'tyrion.lannister@example.com'),\n",
    "(19, 'Cersei', 'Lannister', 3, 17, 130000.00, 119, 210.00, 1001, '2024-01-19', '2024-01-19', 'login', 'cersei.lannister@example.com'),\n",
    "(20, 'Bran', 'Stark', 1, 12, 60000.00, 120, 70.00, 1002, '2024-01-20', '2024-01-20', 'login', 'bran.stark@example.com')\n",
    "\"\"\")"
   ]
  },
  {
   "cell_type": "code",
   "execution_count": 15,
   "id": "bc0c14e5-31fd-4e3c-abdb-78f2c4ef9afb",
   "metadata": {
    "tags": []
   },
   "outputs": [],
   "source": [
    "mydb.commit()"
   ]
  },
  {
   "cell_type": "code",
   "execution_count": 22,
   "id": "6157c389-ac37-4f37-94e6-67a7ac5680b7",
   "metadata": {
    "tags": []
   },
   "outputs": [],
   "source": [
    "cursor.execute(\"\"\"\n",
    "SELECT * FROM sidfirst.employee\n",
    "\"\"\")"
   ]
  },
  {
   "cell_type": "code",
   "execution_count": 28,
   "id": "6f3c90e5-b036-4ce9-9256-972166384d41",
   "metadata": {
    "scrolled": true,
    "tags": []
   },
   "outputs": [
    {
     "name": "stderr",
     "output_type": "stream",
     "text": [
      "C:\\Users\\admin\\AppData\\Local\\Temp\\ipykernel_2892\\4172192709.py:1: UserWarning: pandas only supports SQLAlchemy connectable (engine/connection) or database string URI or sqlite3 DBAPI2 connection. Other DBAPI2 objects are not tested. Please consider using SQLAlchemy.\n",
      "  pd.read_sql('select * from sidfirst.employee',mydb)\n"
     ]
    },
    {
     "data": {
      "text/html": [
       "<div>\n",
       "<style scoped>\n",
       "    .dataframe tbody tr th:only-of-type {\n",
       "        vertical-align: middle;\n",
       "    }\n",
       "\n",
       "    .dataframe tbody tr th {\n",
       "        vertical-align: top;\n",
       "    }\n",
       "\n",
       "    .dataframe thead th {\n",
       "        text-align: right;\n",
       "    }\n",
       "</style>\n",
       "<table border=\"1\" class=\"dataframe\">\n",
       "  <thead>\n",
       "    <tr style=\"text-align: right;\">\n",
       "      <th></th>\n",
       "      <th>employee_id</th>\n",
       "      <th>first_name</th>\n",
       "      <th>last_name</th>\n",
       "      <th>department_id</th>\n",
       "      <th>manager_id</th>\n",
       "      <th>salary</th>\n",
       "      <th>product_id</th>\n",
       "      <th>price</th>\n",
       "      <th>user_id</th>\n",
       "      <th>login_date</th>\n",
       "      <th>activity_date</th>\n",
       "      <th>activity_type</th>\n",
       "      <th>email</th>\n",
       "    </tr>\n",
       "  </thead>\n",
       "  <tbody>\n",
       "    <tr>\n",
       "      <th>0</th>\n",
       "      <td>1</td>\n",
       "      <td>John</td>\n",
       "      <td>Doe</td>\n",
       "      <td>1</td>\n",
       "      <td>NaN</td>\n",
       "      <td>120000.0</td>\n",
       "      <td>101</td>\n",
       "      <td>50.0</td>\n",
       "      <td>1001</td>\n",
       "      <td>2024-01-01</td>\n",
       "      <td>2024-01-01</td>\n",
       "      <td>login</td>\n",
       "      <td>john.doe@example.com</td>\n",
       "    </tr>\n",
       "    <tr>\n",
       "      <th>1</th>\n",
       "      <td>2</td>\n",
       "      <td>Jane</td>\n",
       "      <td>Smith</td>\n",
       "      <td>1</td>\n",
       "      <td>1.0</td>\n",
       "      <td>90000.0</td>\n",
       "      <td>102</td>\n",
       "      <td>75.0</td>\n",
       "      <td>1002</td>\n",
       "      <td>2024-01-02</td>\n",
       "      <td>2024-01-02</td>\n",
       "      <td>login</td>\n",
       "      <td>jane.smith@example.com</td>\n",
       "    </tr>\n",
       "    <tr>\n",
       "      <th>2</th>\n",
       "      <td>3</td>\n",
       "      <td>Jim</td>\n",
       "      <td>Beam</td>\n",
       "      <td>2</td>\n",
       "      <td>NaN</td>\n",
       "      <td>150000.0</td>\n",
       "      <td>103</td>\n",
       "      <td>200.0</td>\n",
       "      <td>1003</td>\n",
       "      <td>2024-01-03</td>\n",
       "      <td>2024-01-03</td>\n",
       "      <td>login</td>\n",
       "      <td>jim.beam@example.com</td>\n",
       "    </tr>\n",
       "    <tr>\n",
       "      <th>3</th>\n",
       "      <td>4</td>\n",
       "      <td>Jack</td>\n",
       "      <td>Daniels</td>\n",
       "      <td>2</td>\n",
       "      <td>3.0</td>\n",
       "      <td>110000.0</td>\n",
       "      <td>104</td>\n",
       "      <td>150.0</td>\n",
       "      <td>1001</td>\n",
       "      <td>2024-01-04</td>\n",
       "      <td>2024-01-04</td>\n",
       "      <td>login</td>\n",
       "      <td>jack.daniels@example.com</td>\n",
       "    </tr>\n",
       "    <tr>\n",
       "      <th>4</th>\n",
       "      <td>5</td>\n",
       "      <td>Jessica</td>\n",
       "      <td>Jones</td>\n",
       "      <td>2</td>\n",
       "      <td>3.0</td>\n",
       "      <td>105000.0</td>\n",
       "      <td>105</td>\n",
       "      <td>175.0</td>\n",
       "      <td>1002</td>\n",
       "      <td>2024-01-05</td>\n",
       "      <td>2024-01-05</td>\n",
       "      <td>login</td>\n",
       "      <td>jessica.jones@example.com</td>\n",
       "    </tr>\n",
       "    <tr>\n",
       "      <th>5</th>\n",
       "      <td>6</td>\n",
       "      <td>Jake</td>\n",
       "      <td>Johnson</td>\n",
       "      <td>1</td>\n",
       "      <td>1.0</td>\n",
       "      <td>85000.0</td>\n",
       "      <td>106</td>\n",
       "      <td>90.0</td>\n",
       "      <td>1003</td>\n",
       "      <td>2024-01-06</td>\n",
       "      <td>2024-01-06</td>\n",
       "      <td>login</td>\n",
       "      <td>jake.johnson@example.com</td>\n",
       "    </tr>\n",
       "    <tr>\n",
       "      <th>6</th>\n",
       "      <td>7</td>\n",
       "      <td>Joan</td>\n",
       "      <td>Holloway</td>\n",
       "      <td>3</td>\n",
       "      <td>NaN</td>\n",
       "      <td>95000.0</td>\n",
       "      <td>107</td>\n",
       "      <td>120.0</td>\n",
       "      <td>1001</td>\n",
       "      <td>2024-01-07</td>\n",
       "      <td>2024-01-07</td>\n",
       "      <td>login</td>\n",
       "      <td>joan.holloway@example.com</td>\n",
       "    </tr>\n",
       "    <tr>\n",
       "      <th>7</th>\n",
       "      <td>8</td>\n",
       "      <td>John</td>\n",
       "      <td>Appleseed</td>\n",
       "      <td>3</td>\n",
       "      <td>7.0</td>\n",
       "      <td>80000.0</td>\n",
       "      <td>108</td>\n",
       "      <td>110.0</td>\n",
       "      <td>1002</td>\n",
       "      <td>2024-01-08</td>\n",
       "      <td>2024-01-08</td>\n",
       "      <td>login</td>\n",
       "      <td>john.appleseed@example.com</td>\n",
       "    </tr>\n",
       "    <tr>\n",
       "      <th>8</th>\n",
       "      <td>9</td>\n",
       "      <td>Jamie</td>\n",
       "      <td>Lannister</td>\n",
       "      <td>3</td>\n",
       "      <td>7.0</td>\n",
       "      <td>88000.0</td>\n",
       "      <td>109</td>\n",
       "      <td>60.0</td>\n",
       "      <td>1003</td>\n",
       "      <td>2024-01-09</td>\n",
       "      <td>2024-01-09</td>\n",
       "      <td>login</td>\n",
       "      <td>jamie.lannister@example.com</td>\n",
       "    </tr>\n",
       "    <tr>\n",
       "      <th>9</th>\n",
       "      <td>10</td>\n",
       "      <td>Jenna</td>\n",
       "      <td>Maroney</td>\n",
       "      <td>1</td>\n",
       "      <td>1.0</td>\n",
       "      <td>95000.0</td>\n",
       "      <td>110</td>\n",
       "      <td>85.0</td>\n",
       "      <td>1001</td>\n",
       "      <td>2024-01-10</td>\n",
       "      <td>2024-01-10</td>\n",
       "      <td>login</td>\n",
       "      <td>jenna.maroney@example.com</td>\n",
       "    </tr>\n",
       "    <tr>\n",
       "      <th>10</th>\n",
       "      <td>11</td>\n",
       "      <td>Arya</td>\n",
       "      <td>Stark</td>\n",
       "      <td>1</td>\n",
       "      <td>1.0</td>\n",
       "      <td>75000.0</td>\n",
       "      <td>111</td>\n",
       "      <td>180.0</td>\n",
       "      <td>1002</td>\n",
       "      <td>2024-01-11</td>\n",
       "      <td>2024-01-11</td>\n",
       "      <td>login</td>\n",
       "      <td>arya.stark@example.com</td>\n",
       "    </tr>\n",
       "    <tr>\n",
       "      <th>11</th>\n",
       "      <td>12</td>\n",
       "      <td>Ned</td>\n",
       "      <td>Stark</td>\n",
       "      <td>1</td>\n",
       "      <td>NaN</td>\n",
       "      <td>115000.0</td>\n",
       "      <td>112</td>\n",
       "      <td>240.0</td>\n",
       "      <td>1003</td>\n",
       "      <td>2024-01-12</td>\n",
       "      <td>2024-01-12</td>\n",
       "      <td>login</td>\n",
       "      <td>ned.stark@example.com</td>\n",
       "    </tr>\n",
       "    <tr>\n",
       "      <th>12</th>\n",
       "      <td>13</td>\n",
       "      <td>Sansa</td>\n",
       "      <td>Stark</td>\n",
       "      <td>1</td>\n",
       "      <td>12.0</td>\n",
       "      <td>100000.0</td>\n",
       "      <td>113</td>\n",
       "      <td>160.0</td>\n",
       "      <td>1001</td>\n",
       "      <td>2024-01-13</td>\n",
       "      <td>2024-01-13</td>\n",
       "      <td>login</td>\n",
       "      <td>sansa.stark@example.com</td>\n",
       "    </tr>\n",
       "    <tr>\n",
       "      <th>13</th>\n",
       "      <td>14</td>\n",
       "      <td>Robert</td>\n",
       "      <td>Baratheon</td>\n",
       "      <td>2</td>\n",
       "      <td>NaN</td>\n",
       "      <td>145000.0</td>\n",
       "      <td>114</td>\n",
       "      <td>300.0</td>\n",
       "      <td>1002</td>\n",
       "      <td>2024-01-14</td>\n",
       "      <td>2024-01-14</td>\n",
       "      <td>login</td>\n",
       "      <td>robert.baratheon@example.com</td>\n",
       "    </tr>\n",
       "    <tr>\n",
       "      <th>14</th>\n",
       "      <td>15</td>\n",
       "      <td>Stannis</td>\n",
       "      <td>Baratheon</td>\n",
       "      <td>2</td>\n",
       "      <td>14.0</td>\n",
       "      <td>95000.0</td>\n",
       "      <td>115</td>\n",
       "      <td>170.0</td>\n",
       "      <td>1003</td>\n",
       "      <td>2024-01-15</td>\n",
       "      <td>2024-01-15</td>\n",
       "      <td>login</td>\n",
       "      <td>stannis.baratheon@example.com</td>\n",
       "    </tr>\n",
       "    <tr>\n",
       "      <th>15</th>\n",
       "      <td>16</td>\n",
       "      <td>Renly</td>\n",
       "      <td>Baratheon</td>\n",
       "      <td>2</td>\n",
       "      <td>14.0</td>\n",
       "      <td>85000.0</td>\n",
       "      <td>116</td>\n",
       "      <td>190.0</td>\n",
       "      <td>1001</td>\n",
       "      <td>2024-01-16</td>\n",
       "      <td>2024-01-16</td>\n",
       "      <td>login</td>\n",
       "      <td>renly.baratheon@example.com</td>\n",
       "    </tr>\n",
       "    <tr>\n",
       "      <th>16</th>\n",
       "      <td>17</td>\n",
       "      <td>Tywin</td>\n",
       "      <td>Lannister</td>\n",
       "      <td>3</td>\n",
       "      <td>NaN</td>\n",
       "      <td>155000.0</td>\n",
       "      <td>117</td>\n",
       "      <td>400.0</td>\n",
       "      <td>1002</td>\n",
       "      <td>2024-01-17</td>\n",
       "      <td>2024-01-17</td>\n",
       "      <td>login</td>\n",
       "      <td>tywin.lannister@example.com</td>\n",
       "    </tr>\n",
       "    <tr>\n",
       "      <th>17</th>\n",
       "      <td>18</td>\n",
       "      <td>Tyrion</td>\n",
       "      <td>Lannister</td>\n",
       "      <td>3</td>\n",
       "      <td>17.0</td>\n",
       "      <td>120000.0</td>\n",
       "      <td>118</td>\n",
       "      <td>220.0</td>\n",
       "      <td>1003</td>\n",
       "      <td>2024-01-18</td>\n",
       "      <td>2024-01-18</td>\n",
       "      <td>login</td>\n",
       "      <td>tyrion.lannister@example.com</td>\n",
       "    </tr>\n",
       "    <tr>\n",
       "      <th>18</th>\n",
       "      <td>19</td>\n",
       "      <td>Cersei</td>\n",
       "      <td>Lannister</td>\n",
       "      <td>3</td>\n",
       "      <td>17.0</td>\n",
       "      <td>130000.0</td>\n",
       "      <td>119</td>\n",
       "      <td>210.0</td>\n",
       "      <td>1001</td>\n",
       "      <td>2024-01-19</td>\n",
       "      <td>2024-01-19</td>\n",
       "      <td>login</td>\n",
       "      <td>cersei.lannister@example.com</td>\n",
       "    </tr>\n",
       "    <tr>\n",
       "      <th>19</th>\n",
       "      <td>20</td>\n",
       "      <td>Bran</td>\n",
       "      <td>Stark</td>\n",
       "      <td>1</td>\n",
       "      <td>12.0</td>\n",
       "      <td>60000.0</td>\n",
       "      <td>120</td>\n",
       "      <td>70.0</td>\n",
       "      <td>1002</td>\n",
       "      <td>2024-01-20</td>\n",
       "      <td>2024-01-20</td>\n",
       "      <td>login</td>\n",
       "      <td>bran.stark@example.com</td>\n",
       "    </tr>\n",
       "    <tr>\n",
       "      <th>20</th>\n",
       "      <td>1</td>\n",
       "      <td>John</td>\n",
       "      <td>Doe</td>\n",
       "      <td>1</td>\n",
       "      <td>NaN</td>\n",
       "      <td>120000.0</td>\n",
       "      <td>101</td>\n",
       "      <td>50.0</td>\n",
       "      <td>1001</td>\n",
       "      <td>2024-01-01</td>\n",
       "      <td>2024-01-01</td>\n",
       "      <td>login</td>\n",
       "      <td>john.doe@example.com</td>\n",
       "    </tr>\n",
       "    <tr>\n",
       "      <th>21</th>\n",
       "      <td>2</td>\n",
       "      <td>Jane</td>\n",
       "      <td>Smith</td>\n",
       "      <td>1</td>\n",
       "      <td>1.0</td>\n",
       "      <td>90000.0</td>\n",
       "      <td>102</td>\n",
       "      <td>75.0</td>\n",
       "      <td>1002</td>\n",
       "      <td>2024-01-02</td>\n",
       "      <td>2024-01-02</td>\n",
       "      <td>login</td>\n",
       "      <td>jane.smith@example.com</td>\n",
       "    </tr>\n",
       "    <tr>\n",
       "      <th>22</th>\n",
       "      <td>3</td>\n",
       "      <td>Jim</td>\n",
       "      <td>Beam</td>\n",
       "      <td>2</td>\n",
       "      <td>NaN</td>\n",
       "      <td>150000.0</td>\n",
       "      <td>103</td>\n",
       "      <td>200.0</td>\n",
       "      <td>1003</td>\n",
       "      <td>2024-01-03</td>\n",
       "      <td>2024-01-03</td>\n",
       "      <td>login</td>\n",
       "      <td>jim.beam@example.com</td>\n",
       "    </tr>\n",
       "    <tr>\n",
       "      <th>23</th>\n",
       "      <td>4</td>\n",
       "      <td>Jack</td>\n",
       "      <td>Daniels</td>\n",
       "      <td>2</td>\n",
       "      <td>3.0</td>\n",
       "      <td>110000.0</td>\n",
       "      <td>104</td>\n",
       "      <td>150.0</td>\n",
       "      <td>1001</td>\n",
       "      <td>2024-01-04</td>\n",
       "      <td>2024-01-04</td>\n",
       "      <td>login</td>\n",
       "      <td>jack.daniels@example.com</td>\n",
       "    </tr>\n",
       "    <tr>\n",
       "      <th>24</th>\n",
       "      <td>5</td>\n",
       "      <td>Jessica</td>\n",
       "      <td>Jones</td>\n",
       "      <td>2</td>\n",
       "      <td>3.0</td>\n",
       "      <td>105000.0</td>\n",
       "      <td>105</td>\n",
       "      <td>175.0</td>\n",
       "      <td>1002</td>\n",
       "      <td>2024-01-05</td>\n",
       "      <td>2024-01-05</td>\n",
       "      <td>login</td>\n",
       "      <td>jessica.jones@example.com</td>\n",
       "    </tr>\n",
       "    <tr>\n",
       "      <th>25</th>\n",
       "      <td>6</td>\n",
       "      <td>Jake</td>\n",
       "      <td>Johnson</td>\n",
       "      <td>1</td>\n",
       "      <td>1.0</td>\n",
       "      <td>85000.0</td>\n",
       "      <td>106</td>\n",
       "      <td>90.0</td>\n",
       "      <td>1003</td>\n",
       "      <td>2024-01-06</td>\n",
       "      <td>2024-01-06</td>\n",
       "      <td>login</td>\n",
       "      <td>jake.johnson@example.com</td>\n",
       "    </tr>\n",
       "    <tr>\n",
       "      <th>26</th>\n",
       "      <td>7</td>\n",
       "      <td>Joan</td>\n",
       "      <td>Holloway</td>\n",
       "      <td>3</td>\n",
       "      <td>NaN</td>\n",
       "      <td>95000.0</td>\n",
       "      <td>107</td>\n",
       "      <td>120.0</td>\n",
       "      <td>1001</td>\n",
       "      <td>2024-01-07</td>\n",
       "      <td>2024-01-07</td>\n",
       "      <td>login</td>\n",
       "      <td>joan.holloway@example.com</td>\n",
       "    </tr>\n",
       "    <tr>\n",
       "      <th>27</th>\n",
       "      <td>8</td>\n",
       "      <td>John</td>\n",
       "      <td>Appleseed</td>\n",
       "      <td>3</td>\n",
       "      <td>7.0</td>\n",
       "      <td>80000.0</td>\n",
       "      <td>108</td>\n",
       "      <td>110.0</td>\n",
       "      <td>1002</td>\n",
       "      <td>2024-01-08</td>\n",
       "      <td>2024-01-08</td>\n",
       "      <td>login</td>\n",
       "      <td>john.appleseed@example.com</td>\n",
       "    </tr>\n",
       "    <tr>\n",
       "      <th>28</th>\n",
       "      <td>9</td>\n",
       "      <td>Jamie</td>\n",
       "      <td>Lannister</td>\n",
       "      <td>3</td>\n",
       "      <td>7.0</td>\n",
       "      <td>88000.0</td>\n",
       "      <td>109</td>\n",
       "      <td>60.0</td>\n",
       "      <td>1003</td>\n",
       "      <td>2024-01-09</td>\n",
       "      <td>2024-01-09</td>\n",
       "      <td>login</td>\n",
       "      <td>jamie.lannister@example.com</td>\n",
       "    </tr>\n",
       "    <tr>\n",
       "      <th>29</th>\n",
       "      <td>10</td>\n",
       "      <td>Jenna</td>\n",
       "      <td>Maroney</td>\n",
       "      <td>1</td>\n",
       "      <td>1.0</td>\n",
       "      <td>95000.0</td>\n",
       "      <td>110</td>\n",
       "      <td>85.0</td>\n",
       "      <td>1001</td>\n",
       "      <td>2024-01-10</td>\n",
       "      <td>2024-01-10</td>\n",
       "      <td>login</td>\n",
       "      <td>jenna.maroney@example.com</td>\n",
       "    </tr>\n",
       "    <tr>\n",
       "      <th>30</th>\n",
       "      <td>11</td>\n",
       "      <td>Arya</td>\n",
       "      <td>Stark</td>\n",
       "      <td>1</td>\n",
       "      <td>1.0</td>\n",
       "      <td>75000.0</td>\n",
       "      <td>111</td>\n",
       "      <td>180.0</td>\n",
       "      <td>1002</td>\n",
       "      <td>2024-01-11</td>\n",
       "      <td>2024-01-11</td>\n",
       "      <td>login</td>\n",
       "      <td>arya.stark@example.com</td>\n",
       "    </tr>\n",
       "    <tr>\n",
       "      <th>31</th>\n",
       "      <td>12</td>\n",
       "      <td>Ned</td>\n",
       "      <td>Stark</td>\n",
       "      <td>1</td>\n",
       "      <td>NaN</td>\n",
       "      <td>115000.0</td>\n",
       "      <td>112</td>\n",
       "      <td>240.0</td>\n",
       "      <td>1003</td>\n",
       "      <td>2024-01-12</td>\n",
       "      <td>2024-01-12</td>\n",
       "      <td>login</td>\n",
       "      <td>ned.stark@example.com</td>\n",
       "    </tr>\n",
       "    <tr>\n",
       "      <th>32</th>\n",
       "      <td>13</td>\n",
       "      <td>Sansa</td>\n",
       "      <td>Stark</td>\n",
       "      <td>1</td>\n",
       "      <td>12.0</td>\n",
       "      <td>100000.0</td>\n",
       "      <td>113</td>\n",
       "      <td>160.0</td>\n",
       "      <td>1001</td>\n",
       "      <td>2024-01-13</td>\n",
       "      <td>2024-01-13</td>\n",
       "      <td>login</td>\n",
       "      <td>sansa.stark@example.com</td>\n",
       "    </tr>\n",
       "    <tr>\n",
       "      <th>33</th>\n",
       "      <td>14</td>\n",
       "      <td>Robert</td>\n",
       "      <td>Baratheon</td>\n",
       "      <td>2</td>\n",
       "      <td>NaN</td>\n",
       "      <td>145000.0</td>\n",
       "      <td>114</td>\n",
       "      <td>300.0</td>\n",
       "      <td>1002</td>\n",
       "      <td>2024-01-14</td>\n",
       "      <td>2024-01-14</td>\n",
       "      <td>login</td>\n",
       "      <td>robert.baratheon@example.com</td>\n",
       "    </tr>\n",
       "    <tr>\n",
       "      <th>34</th>\n",
       "      <td>15</td>\n",
       "      <td>Stannis</td>\n",
       "      <td>Baratheon</td>\n",
       "      <td>2</td>\n",
       "      <td>14.0</td>\n",
       "      <td>95000.0</td>\n",
       "      <td>115</td>\n",
       "      <td>170.0</td>\n",
       "      <td>1003</td>\n",
       "      <td>2024-01-15</td>\n",
       "      <td>2024-01-15</td>\n",
       "      <td>login</td>\n",
       "      <td>stannis.baratheon@example.com</td>\n",
       "    </tr>\n",
       "    <tr>\n",
       "      <th>35</th>\n",
       "      <td>16</td>\n",
       "      <td>Renly</td>\n",
       "      <td>Baratheon</td>\n",
       "      <td>2</td>\n",
       "      <td>14.0</td>\n",
       "      <td>85000.0</td>\n",
       "      <td>116</td>\n",
       "      <td>190.0</td>\n",
       "      <td>1001</td>\n",
       "      <td>2024-01-16</td>\n",
       "      <td>2024-01-16</td>\n",
       "      <td>login</td>\n",
       "      <td>renly.baratheon@example.com</td>\n",
       "    </tr>\n",
       "    <tr>\n",
       "      <th>36</th>\n",
       "      <td>17</td>\n",
       "      <td>Tywin</td>\n",
       "      <td>Lannister</td>\n",
       "      <td>3</td>\n",
       "      <td>NaN</td>\n",
       "      <td>155000.0</td>\n",
       "      <td>117</td>\n",
       "      <td>400.0</td>\n",
       "      <td>1002</td>\n",
       "      <td>2024-01-17</td>\n",
       "      <td>2024-01-17</td>\n",
       "      <td>login</td>\n",
       "      <td>tywin.lannister@example.com</td>\n",
       "    </tr>\n",
       "    <tr>\n",
       "      <th>37</th>\n",
       "      <td>18</td>\n",
       "      <td>Tyrion</td>\n",
       "      <td>Lannister</td>\n",
       "      <td>3</td>\n",
       "      <td>17.0</td>\n",
       "      <td>120000.0</td>\n",
       "      <td>118</td>\n",
       "      <td>220.0</td>\n",
       "      <td>1003</td>\n",
       "      <td>2024-01-18</td>\n",
       "      <td>2024-01-18</td>\n",
       "      <td>login</td>\n",
       "      <td>tyrion.lannister@example.com</td>\n",
       "    </tr>\n",
       "    <tr>\n",
       "      <th>38</th>\n",
       "      <td>19</td>\n",
       "      <td>Cersei</td>\n",
       "      <td>Lannister</td>\n",
       "      <td>3</td>\n",
       "      <td>17.0</td>\n",
       "      <td>130000.0</td>\n",
       "      <td>119</td>\n",
       "      <td>210.0</td>\n",
       "      <td>1001</td>\n",
       "      <td>2024-01-19</td>\n",
       "      <td>2024-01-19</td>\n",
       "      <td>login</td>\n",
       "      <td>cersei.lannister@example.com</td>\n",
       "    </tr>\n",
       "    <tr>\n",
       "      <th>39</th>\n",
       "      <td>20</td>\n",
       "      <td>Bran</td>\n",
       "      <td>Stark</td>\n",
       "      <td>1</td>\n",
       "      <td>12.0</td>\n",
       "      <td>60000.0</td>\n",
       "      <td>120</td>\n",
       "      <td>70.0</td>\n",
       "      <td>1002</td>\n",
       "      <td>2024-01-20</td>\n",
       "      <td>2024-01-20</td>\n",
       "      <td>login</td>\n",
       "      <td>bran.stark@example.com</td>\n",
       "    </tr>\n",
       "  </tbody>\n",
       "</table>\n",
       "</div>"
      ],
      "text/plain": [
       "    employee_id first_name  last_name  department_id  manager_id    salary  \\\n",
       "0             1       John        Doe              1         NaN  120000.0   \n",
       "1             2       Jane      Smith              1         1.0   90000.0   \n",
       "2             3        Jim       Beam              2         NaN  150000.0   \n",
       "3             4       Jack    Daniels              2         3.0  110000.0   \n",
       "4             5    Jessica      Jones              2         3.0  105000.0   \n",
       "5             6       Jake    Johnson              1         1.0   85000.0   \n",
       "6             7       Joan   Holloway              3         NaN   95000.0   \n",
       "7             8       John  Appleseed              3         7.0   80000.0   \n",
       "8             9      Jamie  Lannister              3         7.0   88000.0   \n",
       "9            10      Jenna    Maroney              1         1.0   95000.0   \n",
       "10           11       Arya      Stark              1         1.0   75000.0   \n",
       "11           12        Ned      Stark              1         NaN  115000.0   \n",
       "12           13      Sansa      Stark              1        12.0  100000.0   \n",
       "13           14     Robert  Baratheon              2         NaN  145000.0   \n",
       "14           15    Stannis  Baratheon              2        14.0   95000.0   \n",
       "15           16      Renly  Baratheon              2        14.0   85000.0   \n",
       "16           17      Tywin  Lannister              3         NaN  155000.0   \n",
       "17           18     Tyrion  Lannister              3        17.0  120000.0   \n",
       "18           19     Cersei  Lannister              3        17.0  130000.0   \n",
       "19           20       Bran      Stark              1        12.0   60000.0   \n",
       "20            1       John        Doe              1         NaN  120000.0   \n",
       "21            2       Jane      Smith              1         1.0   90000.0   \n",
       "22            3        Jim       Beam              2         NaN  150000.0   \n",
       "23            4       Jack    Daniels              2         3.0  110000.0   \n",
       "24            5    Jessica      Jones              2         3.0  105000.0   \n",
       "25            6       Jake    Johnson              1         1.0   85000.0   \n",
       "26            7       Joan   Holloway              3         NaN   95000.0   \n",
       "27            8       John  Appleseed              3         7.0   80000.0   \n",
       "28            9      Jamie  Lannister              3         7.0   88000.0   \n",
       "29           10      Jenna    Maroney              1         1.0   95000.0   \n",
       "30           11       Arya      Stark              1         1.0   75000.0   \n",
       "31           12        Ned      Stark              1         NaN  115000.0   \n",
       "32           13      Sansa      Stark              1        12.0  100000.0   \n",
       "33           14     Robert  Baratheon              2         NaN  145000.0   \n",
       "34           15    Stannis  Baratheon              2        14.0   95000.0   \n",
       "35           16      Renly  Baratheon              2        14.0   85000.0   \n",
       "36           17      Tywin  Lannister              3         NaN  155000.0   \n",
       "37           18     Tyrion  Lannister              3        17.0  120000.0   \n",
       "38           19     Cersei  Lannister              3        17.0  130000.0   \n",
       "39           20       Bran      Stark              1        12.0   60000.0   \n",
       "\n",
       "    product_id  price  user_id  login_date activity_date activity_type  \\\n",
       "0          101   50.0     1001  2024-01-01    2024-01-01         login   \n",
       "1          102   75.0     1002  2024-01-02    2024-01-02         login   \n",
       "2          103  200.0     1003  2024-01-03    2024-01-03         login   \n",
       "3          104  150.0     1001  2024-01-04    2024-01-04         login   \n",
       "4          105  175.0     1002  2024-01-05    2024-01-05         login   \n",
       "5          106   90.0     1003  2024-01-06    2024-01-06         login   \n",
       "6          107  120.0     1001  2024-01-07    2024-01-07         login   \n",
       "7          108  110.0     1002  2024-01-08    2024-01-08         login   \n",
       "8          109   60.0     1003  2024-01-09    2024-01-09         login   \n",
       "9          110   85.0     1001  2024-01-10    2024-01-10         login   \n",
       "10         111  180.0     1002  2024-01-11    2024-01-11         login   \n",
       "11         112  240.0     1003  2024-01-12    2024-01-12         login   \n",
       "12         113  160.0     1001  2024-01-13    2024-01-13         login   \n",
       "13         114  300.0     1002  2024-01-14    2024-01-14         login   \n",
       "14         115  170.0     1003  2024-01-15    2024-01-15         login   \n",
       "15         116  190.0     1001  2024-01-16    2024-01-16         login   \n",
       "16         117  400.0     1002  2024-01-17    2024-01-17         login   \n",
       "17         118  220.0     1003  2024-01-18    2024-01-18         login   \n",
       "18         119  210.0     1001  2024-01-19    2024-01-19         login   \n",
       "19         120   70.0     1002  2024-01-20    2024-01-20         login   \n",
       "20         101   50.0     1001  2024-01-01    2024-01-01         login   \n",
       "21         102   75.0     1002  2024-01-02    2024-01-02         login   \n",
       "22         103  200.0     1003  2024-01-03    2024-01-03         login   \n",
       "23         104  150.0     1001  2024-01-04    2024-01-04         login   \n",
       "24         105  175.0     1002  2024-01-05    2024-01-05         login   \n",
       "25         106   90.0     1003  2024-01-06    2024-01-06         login   \n",
       "26         107  120.0     1001  2024-01-07    2024-01-07         login   \n",
       "27         108  110.0     1002  2024-01-08    2024-01-08         login   \n",
       "28         109   60.0     1003  2024-01-09    2024-01-09         login   \n",
       "29         110   85.0     1001  2024-01-10    2024-01-10         login   \n",
       "30         111  180.0     1002  2024-01-11    2024-01-11         login   \n",
       "31         112  240.0     1003  2024-01-12    2024-01-12         login   \n",
       "32         113  160.0     1001  2024-01-13    2024-01-13         login   \n",
       "33         114  300.0     1002  2024-01-14    2024-01-14         login   \n",
       "34         115  170.0     1003  2024-01-15    2024-01-15         login   \n",
       "35         116  190.0     1001  2024-01-16    2024-01-16         login   \n",
       "36         117  400.0     1002  2024-01-17    2024-01-17         login   \n",
       "37         118  220.0     1003  2024-01-18    2024-01-18         login   \n",
       "38         119  210.0     1001  2024-01-19    2024-01-19         login   \n",
       "39         120   70.0     1002  2024-01-20    2024-01-20         login   \n",
       "\n",
       "                            email  \n",
       "0            john.doe@example.com  \n",
       "1          jane.smith@example.com  \n",
       "2            jim.beam@example.com  \n",
       "3        jack.daniels@example.com  \n",
       "4       jessica.jones@example.com  \n",
       "5        jake.johnson@example.com  \n",
       "6       joan.holloway@example.com  \n",
       "7      john.appleseed@example.com  \n",
       "8     jamie.lannister@example.com  \n",
       "9       jenna.maroney@example.com  \n",
       "10         arya.stark@example.com  \n",
       "11          ned.stark@example.com  \n",
       "12        sansa.stark@example.com  \n",
       "13   robert.baratheon@example.com  \n",
       "14  stannis.baratheon@example.com  \n",
       "15    renly.baratheon@example.com  \n",
       "16    tywin.lannister@example.com  \n",
       "17   tyrion.lannister@example.com  \n",
       "18   cersei.lannister@example.com  \n",
       "19         bran.stark@example.com  \n",
       "20           john.doe@example.com  \n",
       "21         jane.smith@example.com  \n",
       "22           jim.beam@example.com  \n",
       "23       jack.daniels@example.com  \n",
       "24      jessica.jones@example.com  \n",
       "25       jake.johnson@example.com  \n",
       "26      joan.holloway@example.com  \n",
       "27     john.appleseed@example.com  \n",
       "28    jamie.lannister@example.com  \n",
       "29      jenna.maroney@example.com  \n",
       "30         arya.stark@example.com  \n",
       "31          ned.stark@example.com  \n",
       "32        sansa.stark@example.com  \n",
       "33   robert.baratheon@example.com  \n",
       "34  stannis.baratheon@example.com  \n",
       "35    renly.baratheon@example.com  \n",
       "36    tywin.lannister@example.com  \n",
       "37   tyrion.lannister@example.com  \n",
       "38   cersei.lannister@example.com  \n",
       "39         bran.stark@example.com  "
      ]
     },
     "execution_count": 28,
     "metadata": {},
     "output_type": "execute_result"
    }
   ],
   "source": [
    "pd.read_sql('select * from sidfirst.employee',mydb)"
   ]
  },
  {
   "cell_type": "code",
   "execution_count": 32,
   "id": "4e3ec0be-96cb-4c17-9008-91d472fbc797",
   "metadata": {
    "tags": []
   },
   "outputs": [],
   "source": [
    "# Problem : 1 -- AMAZON\n",
    "# Write a query to find the second highest salary among the employees. \n",
    "# If there is no second highest salary, the query should return NULL.\n",
    "\n",
    "# solution : 1\n",
    "cursor.execute(\"\"\"\n",
    "SELECT MAX(salary) AS second_highest_salary\n",
    "FROM sidfirst.employee\n",
    "WHERE salary < (SELECT MAX(salary) FROM sidfirst.employee);\n",
    "\"\"\")"
   ]
  },
  {
   "cell_type": "code",
   "execution_count": 33,
   "id": "9d921c78-9dbd-4174-8d13-0fcccaf9eac0",
   "metadata": {
    "tags": []
   },
   "outputs": [
    {
     "name": "stdout",
     "output_type": "stream",
     "text": [
      "+-----------------------+\n",
      "| second_highest_salary |\n",
      "+-----------------------+\n",
      "|       150000.00       |\n",
      "+-----------------------+\n"
     ]
    }
   ],
   "source": [
    "print(tabulate(cursor.fetchall(),headers=[column[0] for column in cursor.description],tablefmt = 'pretty'))"
   ]
  },
  {
   "cell_type": "code",
   "execution_count": 4,
   "id": "add83f47-5ca3-4b11-89e1-d0f43899ed5a",
   "metadata": {
    "tags": []
   },
   "outputs": [],
   "source": [
    "# problem :2 --- GOOGLE\n",
    "# You have a table Employee with the following structure: Employee (employee_id, department_id, salary)\n",
    "# Write a query to find the department with the highest average salary.\n",
    "\n",
    "# Solution : 2\n",
    "cursor.execute(\"\"\"\n",
    "SELECT department_id\n",
    "FROM sidfirst.employee\n",
    "GROUP BY department_id\n",
    "ORDER BY AVG(salary) DESC\n",
    "LIMIT 1;\n",
    "\"\"\")"
   ]
  },
  {
   "cell_type": "code",
   "execution_count": 5,
   "id": "c00dde8a-b6a2-4f4f-b988-d7666af7c707",
   "metadata": {
    "tags": []
   },
   "outputs": [
    {
     "name": "stdout",
     "output_type": "stream",
     "text": [
      "+---------------+\n",
      "| department_id |\n",
      "+---------------+\n",
      "|       2       |\n",
      "+---------------+\n"
     ]
    }
   ],
   "source": [
    "print(tabulate(cursor.fetchall(),headers=[column[0] for column in cursor.description],tablefmt = 'pretty'))"
   ]
  },
  {
   "cell_type": "code",
   "execution_count": 6,
   "id": "837105b3-c52d-4910-95be-d9cbc4657a53",
   "metadata": {
    "tags": []
   },
   "outputs": [],
   "source": [
    "# problem : 3 --- MICROSOFT\n",
    "# find total number of employees earning a salary above avg salary\n",
    "\n",
    "# solution : 3\n",
    "\n",
    "cursor.execute(\"\"\"\n",
    "SELECT COUNT(*)\n",
    "FROM sidfirst.employee\n",
    "WHERE salary > (SELECT AVG(salary) FROM sidfirst.employee)\n",
    "\"\"\")"
   ]
  },
  {
   "cell_type": "code",
   "execution_count": 7,
   "id": "8b2b76fe-3ff0-4178-a9f9-c7d426cbe191",
   "metadata": {
    "tags": []
   },
   "outputs": [
    {
     "name": "stdout",
     "output_type": "stream",
     "text": [
      "+----------+\n",
      "| COUNT(*) |\n",
      "+----------+\n",
      "|    18    |\n",
      "+----------+\n"
     ]
    }
   ],
   "source": [
    "print(tabulate(cursor.fetchall(),headers=[column[0] for column in cursor.description],tablefmt = 'pretty'))"
   ]
  },
  {
   "cell_type": "code",
   "execution_count": 12,
   "id": "d68099dc-8676-4e9d-8539-0c296fdce36d",
   "metadata": {
    "tags": []
   },
   "outputs": [],
   "source": [
    "# problem : 4 -- APPLE\n",
    "# Given a table Employee with the following structure: Employee (employee_id, salary)\n",
    "# Write a query to find the top 3 highest distinct salaries.\n",
    "\n",
    "# solution : 4\n",
    "\n",
    "cursor.execute(\"\"\"\n",
    "SELECT DISTINCT salary\n",
    "FROM sidfirst.employee\n",
    "ORDER BY salary DESC\n",
    "LIMIT 3\n",
    "\"\"\")"
   ]
  },
  {
   "cell_type": "code",
   "execution_count": 13,
   "id": "21244690-1279-453f-8b53-74d42274427e",
   "metadata": {
    "tags": []
   },
   "outputs": [
    {
     "name": "stdout",
     "output_type": "stream",
     "text": [
      "+-----------+\n",
      "|  salary   |\n",
      "+-----------+\n",
      "| 155000.00 |\n",
      "| 150000.00 |\n",
      "| 145000.00 |\n",
      "+-----------+\n"
     ]
    }
   ],
   "source": [
    "print(tabulate(cursor.fetchall(),headers=[column[0] for column in cursor.description],tablefmt = 'pretty'))"
   ]
  },
  {
   "cell_type": "code",
   "execution_count": 14,
   "id": "6a4988de-3137-4262-8231-768e682fb4dd",
   "metadata": {
    "tags": []
   },
   "outputs": [],
   "source": [
    "# problem :5 -- GOOGLE\n",
    "# You have a table employee with the following structure: (user_id, email)\n",
    "# Write a query to find all duplicate email addresses in the table.\n",
    "\n",
    "# solution : 5\n",
    "cursor.execute(\"\"\"\n",
    "SELECT email\n",
    "FROM sidfirst.employee\n",
    "GROUP BY email\n",
    "HAVING COUNT(email) > 1 ;\n",
    "\"\"\")\n",
    "\n",
    "# Explaination\n",
    "# The GROUP BY groups the rows by email.\n",
    "# The HAVING COUNT(email) > 1 filters out emails that appear more than once,means duplicates."
   ]
  },
  {
   "cell_type": "code",
   "execution_count": 15,
   "id": "4340d355-bbd6-45cf-9854-d0b4fb4de69e",
   "metadata": {
    "tags": []
   },
   "outputs": [
    {
     "name": "stdout",
     "output_type": "stream",
     "text": [
      "+-------------------------------+\n",
      "|             email             |\n",
      "+-------------------------------+\n",
      "|     john.doe@example.com      |\n",
      "|    jane.smith@example.com     |\n",
      "|     jim.beam@example.com      |\n",
      "|   jack.daniels@example.com    |\n",
      "|   jessica.jones@example.com   |\n",
      "|   jake.johnson@example.com    |\n",
      "|   joan.holloway@example.com   |\n",
      "|  john.appleseed@example.com   |\n",
      "|  jamie.lannister@example.com  |\n",
      "|   jenna.maroney@example.com   |\n",
      "|    arya.stark@example.com     |\n",
      "|     ned.stark@example.com     |\n",
      "|    sansa.stark@example.com    |\n",
      "| robert.baratheon@example.com  |\n",
      "| stannis.baratheon@example.com |\n",
      "|  renly.baratheon@example.com  |\n",
      "|  tywin.lannister@example.com  |\n",
      "| tyrion.lannister@example.com  |\n",
      "| cersei.lannister@example.com  |\n",
      "|    bran.stark@example.com     |\n",
      "+-------------------------------+\n"
     ]
    }
   ],
   "source": [
    "print(tabulate(cursor.fetchall(),headers=[column[0] for column in cursor.description],tablefmt = 'pretty'))"
   ]
  },
  {
   "cell_type": "code",
   "execution_count": 22,
   "id": "9643b354-2241-440a-9459-73fa24bdece1",
   "metadata": {
    "tags": []
   },
   "outputs": [],
   "source": [
    "# creating 2 tables customer and orders to use then in problem : 6 \n",
    "cursor.execute(\"\"\"\n",
    "CREATE TABLE sidfirst.customer(customer_id INT PRIMARY KEY,name VARCHAR(100));\n",
    "\"\"\")"
   ]
  },
  {
   "cell_type": "code",
   "execution_count": 23,
   "id": "65882a6b-80ab-4d65-8bab-e4162b6f713d",
   "metadata": {
    "tags": []
   },
   "outputs": [],
   "source": [
    "cursor.execute(\"\"\"\n",
    "INSERT INTO sidfirst.customer (customer_id,name) VALUES\n",
    "(1,'tara'),\n",
    "(2,'diya'),\n",
    "(3,'sara'),\n",
    "(4,'kaya'),\n",
    "(5,'dhara'),\n",
    "(6,'raha'),\n",
    "(7,'maya'),\n",
    "(8,'riya'),\n",
    "(9,'kiara'),\n",
    "(10,'jiya')\n",
    "\"\"\")"
   ]
  },
  {
   "cell_type": "code",
   "execution_count": 24,
   "id": "772f9527-d980-4a9f-bc9f-e004bc81b1fb",
   "metadata": {
    "tags": []
   },
   "outputs": [],
   "source": [
    "mydb.commit()"
   ]
  },
  {
   "cell_type": "code",
   "execution_count": 30,
   "id": "f07506ea-8f7c-48ec-ba66-194f6294c60a",
   "metadata": {
    "tags": []
   },
   "outputs": [],
   "source": [
    "cursor.execute(\"\"\"\n",
    "CREATE TABLE sidfirst.orders(\n",
    "order_id INT PRIMARY KEY,\n",
    "customer_id INT,\n",
    "FOREIGN KEY (customer_id) REFERENCES sidfirst.customer(customer_id));\n",
    "\"\"\")"
   ]
  },
  {
   "cell_type": "code",
   "execution_count": 31,
   "id": "721a887e-f81e-4a60-ab34-14f7d8c2f0a2",
   "metadata": {
    "tags": []
   },
   "outputs": [],
   "source": [
    "mydb.commit()"
   ]
  },
  {
   "cell_type": "code",
   "execution_count": 35,
   "id": "4d3d4193-56ec-41d6-a232-01acfed85c95",
   "metadata": {
    "tags": []
   },
   "outputs": [],
   "source": [
    "cursor.execute(\"\"\"\n",
    "INSERT INTO sidfirst.orders (order_id,customer_id) VALUES\n",
    "(101, 1),\n",
    "(102, 2),\n",
    "(103, 3),\n",
    "(104, 4),\n",
    "(105, 3),\n",
    "(106, 8),\n",
    "(107, 5),\n",
    "(108, 6),\n",
    "(109, 3),\n",
    "(110, 10);\n",
    "\"\"\")  # here customer_id 3 is repeating 3 times so sara ordered 3 times."
   ]
  },
  {
   "cell_type": "code",
   "execution_count": 36,
   "id": "b972dbe2-80dd-4ec6-a19e-dc41a24488cf",
   "metadata": {
    "tags": []
   },
   "outputs": [],
   "source": [
    "mydb.commit()"
   ]
  },
  {
   "cell_type": "code",
   "execution_count": 37,
   "id": "76fd0d20-c981-4423-acbb-b6c751129d14",
   "metadata": {},
   "outputs": [],
   "source": [
    "# problem : 6 -- FACEBOOK\n",
    "# Given two tables Customer and Orders with the following structures:\n",
    "# Customer (customer_id, name) # Orders (order_id, customer_id)\n",
    "# write a query to find a customer with most orders\n",
    "\n",
    "# SOLUTION : 6\n",
    "cursor.execute (\"\"\"\n",
    "SELECT name\n",
    "FROM sidfirst.customer\n",
    "WHERE customer_id = (\n",
    "    SELECT customer_id\n",
    "    FROM sidfirst.orders\n",
    "    GROUP BY customer_id\n",
    "    ORDER BY COUNT(*) DESC\n",
    "    LIMIT 1\n",
    ");\n",
    "\"\"\")"
   ]
  },
  {
   "cell_type": "code",
   "execution_count": 38,
   "id": "74bafc48-dd58-48c2-a7dc-a9a5870292f1",
   "metadata": {
    "tags": []
   },
   "outputs": [
    {
     "name": "stdout",
     "output_type": "stream",
     "text": [
      "+------+\n",
      "| name |\n",
      "+------+\n",
      "| sara |\n",
      "+------+\n"
     ]
    }
   ],
   "source": [
    "print(tabulate(cursor.fetchall(),headers=[column[0] for column in cursor.description],tablefmt = 'pretty'))"
   ]
  },
  {
   "cell_type": "code",
   "execution_count": 5,
   "id": "b7a4a80e-35b8-40be-8d06-d9a08abc3a65",
   "metadata": {},
   "outputs": [],
   "source": [
    "# problem : 7 Netflix\n",
    "# You have a table with the following structure: (user_id,login_date)\n",
    "# Write a query to find the user with the longest continuous sequence of daily logins.\n",
    "\n",
    "# solution : 7 involved window functions"
   ]
  },
  {
   "cell_type": "code",
   "execution_count": null,
   "id": "aaff1816-b988-45ff-b1f0-b5b47c00b962",
   "metadata": {},
   "outputs": [],
   "source": [
    "# prblm : 8 twitter - median salary\n",
    "# You have a table Employee with the following structure: (employee_id,salary)\n",
    "# write a query to find median salary"
   ]
  },
  {
   "cell_type": "code",
   "execution_count": 12,
   "id": "284ad5f1-1e9a-4320-a6e7-fce3124f4579",
   "metadata": {
    "tags": []
   },
   "outputs": [],
   "source": [
    "# problem : 9 Tesla: Products with Price Greater Than All Other Products\n",
    "# Given a table Products with the following structure: Products (product_id, price)\n",
    "# Write a query to find the products with a price greater than all other products.\n",
    "\n",
    "# solution :\n",
    "cursor.execute(\"\"\"\n",
    "SELECT product_id\n",
    "FROM sidfirst.employee p1\n",
    "WHERE price > ALL (\n",
    "    SELECT price \n",
    "    FROM sidfirst.employee p2 \n",
    "    WHERE p2.product_id <> p1.product_id);\n",
    "\"\"\")\n"
   ]
  },
  {
   "cell_type": "code",
   "execution_count": null,
   "id": "ef973035-30eb-443d-acb4-b91c43d39027",
   "metadata": {},
   "outputs": [],
   "source": [
    "\"\"\"\n",
    "Explaination:\n",
    "The SELECT employee_id FROM sidfirst.employee e1 part selects the employee_id from the sidfirst.employee table, aliasing it as e1.\n",
    "The WHERE salary > ALL (...) condition checks whether the salary of the current employee_id in e1 is greater than the salaries of all other employees in the subquery.\n",
    "The subquery SELECT salary FROM sidfirst.employee e2 WHERE e2.employee_id <> e1.employee_id retrieves the salaries of all employees except the current one.\n",
    "\"\"\""
   ]
  },
  {
   "cell_type": "code",
   "execution_count": 13,
   "id": "bd90c475-2dec-4ccc-9a36-f43d2d108fca",
   "metadata": {
    "tags": []
   },
   "outputs": [
    {
     "name": "stdout",
     "output_type": "stream",
     "text": [
      "+------------+\n",
      "| product_id |\n",
      "+------------+\n",
      "|    117     |\n",
      "|    117     |\n",
      "+------------+\n"
     ]
    }
   ],
   "source": [
    "print(tabulate(cursor.fetchall(),headers=[column[0] for column in cursor.description],tablefmt = 'pretty'))"
   ]
  },
  {
   "cell_type": "code",
   "execution_count": 7,
   "id": "426c041c-8f32-4e29-8056-bab0c40b5679",
   "metadata": {
    "tags": []
   },
   "outputs": [],
   "source": [
    "# solution of prblm 9 with different approach\n",
    "cursor.execute(\"\"\"\n",
    "SELECT product_id FROM sidfirst.employee WHERE price = (SELECT MAX(price) FROM sidfirst.employee);\n",
    "\"\"\")"
   ]
  },
  {
   "cell_type": "code",
   "execution_count": 8,
   "id": "ce467362-7c1e-4a4a-95eb-6c56a66ab4c8",
   "metadata": {
    "tags": []
   },
   "outputs": [
    {
     "name": "stdout",
     "output_type": "stream",
     "text": [
      "+------------+\n",
      "| product_id |\n",
      "+------------+\n",
      "|    117     |\n",
      "|    117     |\n",
      "+------------+\n"
     ]
    }
   ],
   "source": [
    "print(tabulate(cursor.fetchall(),headers=[column[0] for column in cursor.description],tablefmt = 'pretty'))"
   ]
  },
  {
   "cell_type": "code",
   "execution_count": null,
   "id": "ff00510d-5cc0-4a63-a403-673ea43c1a00",
   "metadata": {},
   "outputs": [],
   "source": []
  }
 ],
 "metadata": {
  "kernelspec": {
   "display_name": "Python 3 (ipykernel)",
   "language": "python",
   "name": "python3"
  },
  "language_info": {
   "codemirror_mode": {
    "name": "ipython",
    "version": 3
   },
   "file_extension": ".py",
   "mimetype": "text/x-python",
   "name": "python",
   "nbconvert_exporter": "python",
   "pygments_lexer": "ipython3",
   "version": "3.11.5"
  }
 },
 "nbformat": 4,
 "nbformat_minor": 5
}
