{
 "cells": [
  {
   "cell_type": "code",
   "execution_count": null,
   "id": "457bde49-9f43-41d0-8841-a7d49535006e",
   "metadata": {},
   "outputs": [],
   "source": [
    "# 1.ESTABLISHMENT OF CONNECTION BETWEEN MYSQL AND PYTHON.\n",
    "# 2.SQL QUERIS : SHOW DATABASES, CREATE DATABASES,CREATE TABLE,INSERT DATA INTO TABLE,SELECT\n",
    "# 3.COMMANDS LEARNT : EXECUTE,FETCH,COMMIT,TABULATE COMMAND TO REPRESENT DATA OUTPUT *all columns, respresent data of few columns"
   ]
  },
  {
   "cell_type": "code",
   "execution_count": 1,
   "id": "491bda70-452a-47a1-aa11-d5621b49c53d",
   "metadata": {
    "tags": []
   },
   "outputs": [
    {
     "name": "stdout",
     "output_type": "stream",
     "text": [
      "Requirement already satisfied: mysql-connector-python in c:\\users\\admin\\anaconda3\\lib\\site-packages (8.3.0)\n",
      "Note: you may need to restart the kernel to use updated packages.\n"
     ]
    }
   ],
   "source": [
    "pip install mysql-connector-python"
   ]
  },
  {
   "cell_type": "code",
   "execution_count": 7,
   "id": "f4e78893-fd63-4044-b671-e2029c45240e",
   "metadata": {
    "tags": []
   },
   "outputs": [],
   "source": [
    "import mysql.connector as c\n",
    "from tabulate import tabulate"
   ]
  },
  {
   "cell_type": "code",
   "execution_count": 8,
   "id": "b73da223-c4eb-406b-928b-6dcf221e3625",
   "metadata": {
    "tags": []
   },
   "outputs": [],
   "source": [
    "mydb = c.connect(host =  'localhost', user = 'root', passwd = 'Loveumom@123')"
   ]
  },
  {
   "cell_type": "code",
   "execution_count": 10,
   "id": "2592bc9a-b5b4-4e51-8204-20a2ebd07d28",
   "metadata": {
    "tags": []
   },
   "outputs": [],
   "source": [
    "cursor = mydb.cursor()"
   ]
  },
  {
   "cell_type": "code",
   "execution_count": 11,
   "id": "5453e156-247a-4a0f-a045-0d002af083fd",
   "metadata": {
    "tags": []
   },
   "outputs": [
    {
     "data": {
      "text/plain": [
       "[('cardataset',),\n",
       " ('information_schema',),\n",
       " ('mysql',),\n",
       " ('performance_schema',),\n",
       " ('sidfirst',),\n",
       " ('sqlpractice1',),\n",
       " ('sys',)]"
      ]
     },
     "execution_count": 11,
     "metadata": {},
     "output_type": "execute_result"
    }
   ],
   "source": [
    "cursor.execute(\"show databases\") # showing all the databases present in mysql\n",
    "cursor.fetchall()\n"
   ]
  },
  {
   "cell_type": "code",
   "execution_count": null,
   "id": "884e56a6-762d-45ce-aa49-5ec39b80112f",
   "metadata": {
    "tags": []
   },
   "outputs": [],
   "source": [
    "cursor.execute(\"create database SQLPractice1\") # DATABASE CREATED WITH NAME SQLPractice1"
   ]
  },
  {
   "cell_type": "code",
   "execution_count": null,
   "id": "1e608fcc-aa7a-49c0-97f0-496ac7a73f84",
   "metadata": {
    "tags": []
   },
   "outputs": [],
   "source": [
    "cursor.execute\n",
    "(\"\"\"\n",
    "CREATE TABLE SQLPractice1.student(\n",
    "student_id INT AUTO_INCREMENT PRIMARY KEY,\n",
    "first_name VARCHAR(50),\n",
    "last_name VARCHAR(50),\n",
    "birth_date DATE,\n",
    "gender ENUM('M', 'F'),\n",
    "major VARCHAR(100),\n",
    "gpa DECIMAL(3, 2),\n",
    "email VARCHAR(100),\n",
    "phone_number VARCHAR(20))\n",
    "\"\"\")                              # created table student in database sqlpractice1"
   ]
  },
  {
   "cell_type": "code",
   "execution_count": 19,
   "id": "1e8c0297-6f5e-457f-96d1-36597b148d86",
   "metadata": {
    "tags": []
   },
   "outputs": [],
   "source": [
    "cursor.execute\n",
    "(\"\"\"\n",
    "INSERT INTO SQLPractice1.student (first_name, last_name, birth_date, gender, major, gpa, email, phone_number) VALUES\n",
    "('John', 'Doe', '2001-05-15', 'M', 'Computer Science', 3.5, 'john.doe@example.com', '555-1234'),\n",
    "('Jane', 'Smith', '2000-11-22', 'F', 'Mathematics', 3.8, 'jane.smith@example.com', '555-5678'),\n",
    "('Mike', 'Brown', '2002-03-03', 'M', 'Physics', 3.2, 'mike.brown@example.com', '555-8765'),\n",
    "('Emma', 'Davis', '1999-12-15', 'F', 'Biology', 3.7, 'emma.davis@example.com', '555-4321'),\n",
    "('Chris', 'Johnson', '2001-08-09', 'M', 'Chemistry', 3.1, 'chris.johnson@example.com', '555-6789'),\n",
    "('Olivia', 'Wilson', '2002-02-25', 'F', 'English', 3.9, 'olivia.wilson@example.com', '555-2345'),\n",
    "('James', 'Taylor', '2000-07-30', 'M', 'History', 3.4, 'james.taylor@example.com', '555-3456'),\n",
    "('Sophia', 'Thomas', '2001-04-12', 'F', 'Economics', 3.6, 'sophia.thomas@example.com', '555-4567'),\n",
    "('Liam', 'Anderson', '2002-10-05', 'M', 'Engineering', 3.3, 'liam.anderson@example.com', '555-5679'),\n",
    "('Ava', 'Martinez', '1999-09-18', 'F', 'Psychology', 3.8, 'ava.martinez@example.com', '555-6780'),\n",
    "('Ethan', 'Jackson', '2001-01-23', 'M', 'Philosophy', 3.0, 'ethan.jackson@example.com', '555-7891'),\n",
    "('Isabella', 'White', '2002-06-14', 'F', 'Sociology', 3.7, 'isabella.white@example.com', '555-8902'),\n",
    "('Alexander', 'Harris', '2000-10-27', 'M', 'Political Science', 3.5, 'alexander.harris@example.com', '555-9012'),\n",
    "('Mia', 'Martin', '2001-12-05', 'F', 'Art', 3.9, 'mia.martin@example.com', '555-0123'),\n",
    "('Noah', 'Thompson', '2002-04-18', 'M', 'Music', 3.2, 'noah.thompson@example.com', '555-1235'),\n",
    "('Emily', 'Garcia', '1999-11-11', 'F', 'Theater', 3.8, 'emily.garcia@example.com', '555-2346'),\n",
    "('Lucas', 'Martinez', '2001-09-21', 'M', 'Geology', 3.4, 'lucas.martinez@example.com', '555-3457'),\n",
    "('Amelia', 'Rodriguez', '2002-03-30', 'F', 'Linguistics', 3.6, 'amelia.rodriguez@example.com', '555-4568'),\n",
    "('Daniel', 'Lewis', '2000-05-07', 'M', 'Environmental Science', 3.1, 'daniel.lewis@example.com', '555-5670'),\n",
    "('Grace', 'Lee', '2001-08-13', 'F', 'Anthropology', 3.7, 'grace.lee@example.com', '555-6781')\n",
    "\"\"\")              # INSERT DATA INTO TABLE STUDENT"
   ]
  },
  {
   "cell_type": "code",
   "execution_count": 20,
   "id": "9bd72ecf-8692-4094-959c-7694afb79927",
   "metadata": {
    "tags": []
   },
   "outputs": [],
   "source": [
    "mydb.commit()"
   ]
  },
  {
   "cell_type": "code",
   "execution_count": 12,
   "id": "9d803c3e-12ae-49d3-a389-191b087e03cc",
   "metadata": {
    "tags": []
   },
   "outputs": [],
   "source": [
    "cursor.execute('select * from SQLpractice1.student')"
   ]
  },
  {
   "cell_type": "code",
   "execution_count": 13,
   "id": "abb19e77-8deb-4208-9013-7f15873323e2",
   "metadata": {
    "tags": []
   },
   "outputs": [
    {
     "name": "stdout",
     "output_type": "stream",
     "text": [
      "+------------+------------+-----------+------------+--------+-----------------------+------+------------------------------+--------------+\n",
      "| student_id | first_name | last_name | birth_date | gender |         major         | gpa  |            email             | phone_number |\n",
      "+------------+------------+-----------+------------+--------+-----------------------+------+------------------------------+--------------+\n",
      "|     1      |    John    |    Doe    | 2001-05-15 |   M    |         Music         | 3.50 |     john.doe@example.com     |   555-1234   |\n",
      "|     2      |    Jane    |   Smith   | 2000-11-22 |   F    |      Mathematics      | 3.80 |    jane.smith@example.com    |   555-5678   |\n",
      "|     3      |    Mike    |   Brown   | 2002-03-03 |   M    |        Physics        | 3.20 |    mike.brown@example.com    |   555-8765   |\n",
      "|     4      |    Emma    |   Davis   | 1999-12-15 |   F    |        Biology        | 3.70 |    emma.davis@example.com    |   555-4321   |\n",
      "|     5      |   Chris    |  Johnson  | 2001-08-09 |   M    |       Chemistry       | 3.10 |  chris.johnson@example.com   |   555-6789   |\n",
      "|     6      |   Olivia   |  Wilson   | 2002-02-25 |   F    |        English        | 3.90 |  olivia.wilson@example.com   |   555-2345   |\n",
      "|     7      |   James    |  Taylor   | 2000-07-30 |   M    |        History        | 3.40 |   james.taylor@example.com   |   555-3456   |\n",
      "|     8      |   Sophia   |  Thomas   | 2001-04-12 |   F    |       Economics       | 3.60 |  sophia.thomas@example.com   |   555-4567   |\n",
      "|     9      |    Liam    | Anderson  | 2002-10-05 |   M    |      Engineering      | 3.30 |  liam.anderson@example.com   |   555-5679   |\n",
      "|     10     |    Ava     | Martinez  | 1999-09-18 |   F    |      Psychology       | 3.80 |   ava.martinez@example.com   |   555-6780   |\n",
      "|     11     |   Ethan    |  Jackson  | 2001-01-23 |   M    |      Philosophy       | 3.00 |  ethan.jackson@example.com   |   555-7891   |\n",
      "|     12     |  Isabella  |   White   | 2002-06-14 |   F    |       Sociology       | 3.70 |  isabella.white@example.com  |   555-8902   |\n",
      "|     13     | Alexander  |  Harris   | 2000-10-27 |   M    |   Political Science   | 3.50 | alexander.harris@example.com |   555-9012   |\n",
      "|     14     |    Mia     |  Martin   | 2001-12-05 |   F    |          Art          | 3.90 |    mia.martin@example.com    |   555-0123   |\n",
      "|     15     |    Noah    | Thompson  | 2002-04-18 |   M    |         Music         | 3.20 |  noah.thompson@example.com   |   555-1235   |\n",
      "|     16     |   Emily    |  Garcia   | 1999-11-11 |   F    |        Theater        | 3.80 |   emily.garcia@example.com   |   555-2346   |\n",
      "|     17     |   Lucas    | Martinez  | 2001-09-21 |   M    |        Geology        | 3.40 |  lucas.martinez@example.com  |   555-3457   |\n",
      "|     18     |   Amelia   | Rodriguez | 2002-03-30 |   F    |      Linguistics      | 3.60 | amelia.rodriguez@example.com |   555-4568   |\n",
      "|     19     |   Daniel   |   Lewis   | 2000-05-07 |   M    | Environmental Science | 3.10 |   daniel.lewis@example.com   |   555-5670   |\n",
      "|     20     |   Grace    |    Lee    | 2001-08-13 |   F    |     Anthropology      | 3.70 |    grace.lee@example.com     |   555-6781   |\n",
      "+------------+------------+-----------+------------+--------+-----------------------+------+------------------------------+--------------+\n"
     ]
    }
   ],
   "source": [
    "\"\"\"\n",
    "The command columns = [column[0] for column in cursor.description] is a Python list comprehension \n",
    "that extracts the column names from the cursor's description attribute. \n",
    "Here's a detailed breakdown of what this command does:\n",
    "\n",
    "Breakdown of the Command\n",
    "cursor.description: This attribute of the cursor object provides metadata \n",
    "about the columns of the result set returned by executing a query. \n",
    "It is a sequence of 7-item tuples, where each tuple contains information about one column. \n",
    "The first item (column[0]) in each tuple is the column name.\n",
    "\n",
    "List Comprehension: [column[0] for column in cursor.description] is a list comprehension \n",
    "that iterates over each tuple in cursor.description and extracts the first item of each tuple (which is the column name).\n",
    "columns = [column[0] for column in cursor.description] retrieves the column names from the cursor description.\n",
    "\n",
    "# below instead of columns we can manually # columns = [\"ID\", \"First Name\", \"Last Name\", \"Date of Birth\", \"Gender\", \"Major\", \"GPA\", \"Email\", \"Phone\"]\n",
    "\"\"\"\n",
    "results = cursor.fetchall()\n",
    "columns = [column[0] for column in cursor.description] \n",
    "print(tabulate(results, headers=columns, tablefmt='pretty'))\n"
   ]
  },
  {
   "cell_type": "code",
   "execution_count": 15,
   "id": "8d7ed42f-50e4-4cd2-a9bf-ad3c2c857f4d",
   "metadata": {},
   "outputs": [],
   "source": [
    "# WHERE clause "
   ]
  },
  {
   "cell_type": "code",
   "execution_count": 25,
   "id": "eb8758ba-a418-43a6-9334-3156e0b5a7ad",
   "metadata": {
    "tags": []
   },
   "outputs": [
    {
     "name": "stdout",
     "output_type": "stream",
     "text": [
      "+---------+\n",
      "|  major  |\n",
      "+---------+\n",
      "| Geology |\n",
      "+---------+\n"
     ]
    }
   ],
   "source": [
    "# task : run a query using where clause to check--> what is the major of lucas?\n",
    "\n",
    "cursor.execute(\"SELECT major FROM SQLPractice1.student WHERE first_name = 'Lucas'\")\n",
    "results = cursor.fetchall()\n",
    "columns = [column[0] for column in cursor.description] \n",
    "print(tabulate(results, headers=columns, tablefmt='pretty'))"
   ]
  },
  {
   "cell_type": "code",
   "execution_count": 24,
   "id": "bfde9479-1478-47a0-ab87-f0a838dd39fa",
   "metadata": {
    "tags": []
   },
   "outputs": [],
   "source": [
    "# UPDATE data\n",
    "# used to update data that is already loaded in the table\n",
    "# task is to update john doe 's major from Music to computer science\n",
    "\n",
    "cursor.execute(\"UPDATE SQLPractice1.student SET major = 'Computer Science' WHERE first_name = 'john'\")\n",
    "mydb.commit()"
   ]
  },
  {
   "cell_type": "code",
   "execution_count": 25,
   "id": "93ccf049-ae01-425f-b09a-2e6a927fcf18",
   "metadata": {
    "tags": []
   },
   "outputs": [],
   "source": [
    "cursor.execute('select first_name,major from SQLPractice1.student') # here we selected only 2 colums to see changes we made using update"
   ]
  },
  {
   "cell_type": "code",
   "execution_count": 26,
   "id": "d0e33ab6-cbb7-4f78-8f90-d98c3c5f9d9c",
   "metadata": {
    "tags": []
   },
   "outputs": [
    {
     "name": "stdout",
     "output_type": "stream",
     "text": [
      "+------------+-----------------------+\n",
      "| first_name |         major         |\n",
      "+------------+-----------------------+\n",
      "|    John    |   Computer Science    |\n",
      "|    Jane    |      Mathematics      |\n",
      "|    Mike    |        Physics        |\n",
      "|    Emma    |        Biology        |\n",
      "|   Chris    |       Chemistry       |\n",
      "|   Olivia   |        English        |\n",
      "|   James    |        History        |\n",
      "|   Sophia   |       Economics       |\n",
      "|    Liam    |      Engineering      |\n",
      "|    Ava     |      Psychology       |\n",
      "|   Ethan    |      Philosophy       |\n",
      "|  Isabella  |       Sociology       |\n",
      "| Alexander  |   Political Science   |\n",
      "|    Mia     |          Art          |\n",
      "|    Noah    |         Music         |\n",
      "|   Emily    |        Theater        |\n",
      "|   Lucas    |        Geology        |\n",
      "|   Amelia   |      Linguistics      |\n",
      "|   Daniel   | Environmental Science |\n",
      "|   Grace    |     Anthropology      |\n",
      "+------------+-----------------------+\n"
     ]
    }
   ],
   "source": [
    "rows = cursor.fetchall()\n",
    "#columns = [column[0] for column in cursor.description]\n",
    "print(tabulate(rows,headers=['first_name','major'],tablefmt='pretty')) # in headers we need to specify column names"
   ]
  },
  {
   "cell_type": "code",
   "execution_count": null,
   "id": "c56e285e-b078-42bb-a871-fa2203a55a89",
   "metadata": {},
   "outputs": [],
   "source": []
  }
 ],
 "metadata": {
  "kernelspec": {
   "display_name": "Python 3 (ipykernel)",
   "language": "python",
   "name": "python3"
  },
  "language_info": {
   "codemirror_mode": {
    "name": "ipython",
    "version": 3
   },
   "file_extension": ".py",
   "mimetype": "text/x-python",
   "name": "python",
   "nbconvert_exporter": "python",
   "pygments_lexer": "ipython3",
   "version": "3.11.5"
  }
 },
 "nbformat": 4,
 "nbformat_minor": 5
}
