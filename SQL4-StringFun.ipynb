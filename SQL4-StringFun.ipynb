{
 "cells": [
  {
   "cell_type": "code",
   "execution_count": 1,
   "id": "82f919ae-bca4-4877-b33d-0f96f5a5f49a",
   "metadata": {},
   "outputs": [],
   "source": [
    "# SQL BUILT IN FUNCTIONS\n",
    "\n",
    "# SCALAR FUNCTIONS - FUNCTIONS # 1.string Functions..\n",
    "\n",
    "# String Functions : UPPER, LOWER, CONCAT, REPLACE, TRIM, SUBSTR, INSTR,LENGTH"
   ]
  },
  {
   "cell_type": "code",
   "execution_count": 2,
   "id": "10f59098-c1af-4611-9d51-b9cfa2ff8871",
   "metadata": {
    "tags": []
   },
   "outputs": [
    {
     "name": "stdout",
     "output_type": "stream",
     "text": [
      "Requirement already satisfied: mysql-connector-python in c:\\users\\admin\\anaconda3\\lib\\site-packages (8.3.0)\n",
      "Note: you may need to restart the kernel to use updated packages.\n"
     ]
    }
   ],
   "source": [
    "pip install mysql-connector-python"
   ]
  },
  {
   "cell_type": "code",
   "execution_count": 3,
   "id": "ba6c6f84-3da5-4ee2-aacd-b387409a1cd7",
   "metadata": {
    "tags": []
   },
   "outputs": [],
   "source": [
    "import mysql.connector as d\n",
    "from tabulate import tabulate\n",
    "mydb = d.connect(host = 'localhost', user = 'root', passwd = 'Loveumom@123')\n",
    "cursor = mydb.cursor()"
   ]
  },
  {
   "cell_type": "code",
   "execution_count": 4,
   "id": "6da56aed-3877-4a4f-a01c-3f0dfae95ffe",
   "metadata": {
    "tags": []
   },
   "outputs": [
    {
     "name": "stdout",
     "output_type": "stream",
     "text": [
      "+--------------------+\n",
      "|     DATABASES      |\n",
      "+--------------------+\n",
      "|     cardataset     |\n",
      "| information_schema |\n",
      "|       mysql        |\n",
      "| performance_schema |\n",
      "|      sidfirst      |\n",
      "|    sqlpractice1    |\n",
      "|        sys         |\n",
      "+--------------------+\n"
     ]
    }
   ],
   "source": [
    "cursor.execute(\"SHOW DATABASES\")\n",
    "print(tabulate(cursor.fetchall(), headers = ['DATABASES'],tablefmt = 'pretty'))"
   ]
  },
  {
   "cell_type": "code",
   "execution_count": 5,
   "id": "9a4532a7-0492-4927-8f86-bcb110326ad0",
   "metadata": {
    "tags": []
   },
   "outputs": [
    {
     "name": "stdout",
     "output_type": "stream",
     "text": [
      "+--------------------+\n",
      "| TABLES in sidfirst |\n",
      "+--------------------+\n",
      "|     glassdata      |\n",
      "|   healthcaredata   |\n",
      "|      ineuron       |\n",
      "|      mysales       |\n",
      "|       sales        |\n",
      "|        sid1        |\n",
      "|      workers       |\n",
      "+--------------------+\n"
     ]
    }
   ],
   "source": [
    "cursor.execute(\"USE sidfirst\")\n",
    "cursor.execute(\"SHOW TABLES\")\n",
    "print(tabulate(cursor.fetchall(),headers=['TABLES in sidfirst'],tablefmt = 'pretty'))"
   ]
  },
  {
   "cell_type": "code",
   "execution_count": 11,
   "id": "4efc9e8d-d1e8-4177-b621-63feb02c048f",
   "metadata": {
    "tags": []
   },
   "outputs": [],
   "source": [
    "cursor.execute(\"\"\"\n",
    "CREATE TABLE sidfirst.healthcaredata(\n",
    "id INT PRIMARY KEY,\n",
    "patient_name VARCHAR(255),\n",
    "diagnosis VARCHAR(255),\n",
    "treatment VARCHAR (255));\n",
    "\"\"\")"
   ]
  },
  {
   "cell_type": "code",
   "execution_count": 17,
   "id": "438c5df2-eb3b-4426-8a15-83848f38840d",
   "metadata": {
    "tags": []
   },
   "outputs": [],
   "source": [
    "cursor.execute(\"\"\"\n",
    "INSERT INTO sidfirst.healthcaredata(id,patient_name,diagnosis,treatment)VALUES\n",
    "(1, 'John Doe', 'Hypertension', 'Medication'),\n",
    "(2, 'Jane Smith', 'Diabetes', 'Insulin'),\n",
    "(3, 'Robert Brown', 'Asthma', 'Inhaler'),\n",
    "(4, 'Emily Davis', 'Flu', 'Rest and fluids'),\n",
    "(5, 'Michael Johnson', 'Hypertension', 'Lifestyle changes'),\n",
    "(6, 'Sarah Wilson', 'Anxiety', 'Therapy'),\n",
    "(7, 'David Martinez', 'Back Pain', 'Physical therapy'),\n",
    "(8, 'Laura Garcia', 'Flu', 'Medication'),\n",
    "(9, 'James Rodriguez', 'Diabetes', 'Diet control'),\n",
    "(10, 'Mary Hernandez', 'Asthma', 'Medication'),\n",
    "(11, 'Daniel Lopez', 'Hypertension', 'Medication'),\n",
    "(12, 'Linda Gonzalez', 'Flu', 'Rest and fluids'),\n",
    "(13, 'Joseph Perez', 'Anxiety', 'Medication'),\n",
    "(14, 'Karen Lee', 'Back Pain', 'Painkillers'),\n",
    "(15, 'Thomas White', 'Diabetes', 'Exercise'),\n",
    "(16, 'Jessica Harris', 'Asthma', 'Inhaler'),\n",
    "(17, 'Christopher Clark', 'Hypertension', 'Medication'),\n",
    "(18, 'Patricia Lewis', 'Anxiety', 'Meditation'),\n",
    "(19, 'Matthew Walker', 'Flu', 'Medication'),\n",
    "(20, 'Lisa Hall', 'Back Pain', 'Surgery');\n",
    "\"\"\")"
   ]
  },
  {
   "cell_type": "code",
   "execution_count": 18,
   "id": "dd216069-15af-46f6-864f-608d31b1623e",
   "metadata": {
    "tags": []
   },
   "outputs": [],
   "source": [
    "mydb.commit()"
   ]
  },
  {
   "cell_type": "code",
   "execution_count": 19,
   "id": "c1ea7646-feb2-413e-9325-67f559429a6f",
   "metadata": {
    "tags": []
   },
   "outputs": [],
   "source": [
    "cursor.execute(\"SELECT * FROM sidfirst.healthcaredata\")"
   ]
  },
  {
   "cell_type": "code",
   "execution_count": 20,
   "id": "bbedd336-fc80-40e8-91a2-664fa53931ec",
   "metadata": {
    "tags": []
   },
   "outputs": [
    {
     "name": "stdout",
     "output_type": "stream",
     "text": [
      "+----+-------------------+--------------+-------------------+\n",
      "| id |   patient_name    |  diagnosis   |     treatment     |\n",
      "+----+-------------------+--------------+-------------------+\n",
      "| 1  |     John Doe      | Hypertension |    Medication     |\n",
      "| 2  |    Jane Smith     |   Diabetes   |      Insulin      |\n",
      "| 3  |   Robert Brown    |    Asthma    |      Inhaler      |\n",
      "| 4  |    Emily Davis    |     Flu      |  Rest and fluids  |\n",
      "| 5  |  Michael Johnson  | Hypertension | Lifestyle changes |\n",
      "| 6  |   Sarah Wilson    |   Anxiety    |      Therapy      |\n",
      "| 7  |  David Martinez   |  Back Pain   | Physical therapy  |\n",
      "| 8  |   Laura Garcia    |     Flu      |    Medication     |\n",
      "| 9  |  James Rodriguez  |   Diabetes   |   Diet control    |\n",
      "| 10 |  Mary Hernandez   |    Asthma    |    Medication     |\n",
      "| 11 |   Daniel Lopez    | Hypertension |    Medication     |\n",
      "| 12 |  Linda Gonzalez   |     Flu      |  Rest and fluids  |\n",
      "| 13 |   Joseph Perez    |   Anxiety    |    Medication     |\n",
      "| 14 |     Karen Lee     |  Back Pain   |    Painkillers    |\n",
      "| 15 |   Thomas White    |   Diabetes   |     Exercise      |\n",
      "| 16 |  Jessica Harris   |    Asthma    |      Inhaler      |\n",
      "| 17 | Christopher Clark | Hypertension |    Medication     |\n",
      "| 18 |  Patricia Lewis   |   Anxiety    |    Meditation     |\n",
      "| 19 |  Matthew Walker   |     Flu      |    Medication     |\n",
      "| 20 |     Lisa Hall     |  Back Pain   |      Surgery      |\n",
      "+----+-------------------+--------------+-------------------+\n"
     ]
    }
   ],
   "source": [
    "results = cursor.fetchall()\n",
    "columns = [column[0] for column in cursor.description]\n",
    "print(tabulate(results,headers = columns,tablefmt = 'pretty'))"
   ]
  },
  {
   "cell_type": "code",
   "execution_count": 21,
   "id": "6ced9298-7c8c-4465-aa97-33c1636d1e8b",
   "metadata": {
    "tags": []
   },
   "outputs": [],
   "source": [
    "# 1. UPPER function : to convert string to upper case\n",
    "\n",
    "cursor.execute(\"\"\"\n",
    "SELECT id,patient_name, UPPER(patient_name) AS UPPERCASE_NAMES FROM sidfirst.healthcaredata\n",
    "\"\"\")"
   ]
  },
  {
   "cell_type": "code",
   "execution_count": 22,
   "id": "6042b3bd-a33b-4fe9-9b42-0fcaa1a4d128",
   "metadata": {
    "tags": []
   },
   "outputs": [
    {
     "name": "stdout",
     "output_type": "stream",
     "text": [
      "+----+-------------------+-------------------+\n",
      "| id |   patient_name    |  UPPERCASE_NAMES  |\n",
      "+----+-------------------+-------------------+\n",
      "| 1  |     John Doe      |     JOHN DOE      |\n",
      "| 2  |    Jane Smith     |    JANE SMITH     |\n",
      "| 3  |   Robert Brown    |   ROBERT BROWN    |\n",
      "| 4  |    Emily Davis    |    EMILY DAVIS    |\n",
      "| 5  |  Michael Johnson  |  MICHAEL JOHNSON  |\n",
      "| 6  |   Sarah Wilson    |   SARAH WILSON    |\n",
      "| 7  |  David Martinez   |  DAVID MARTINEZ   |\n",
      "| 8  |   Laura Garcia    |   LAURA GARCIA    |\n",
      "| 9  |  James Rodriguez  |  JAMES RODRIGUEZ  |\n",
      "| 10 |  Mary Hernandez   |  MARY HERNANDEZ   |\n",
      "| 11 |   Daniel Lopez    |   DANIEL LOPEZ    |\n",
      "| 12 |  Linda Gonzalez   |  LINDA GONZALEZ   |\n",
      "| 13 |   Joseph Perez    |   JOSEPH PEREZ    |\n",
      "| 14 |     Karen Lee     |     KAREN LEE     |\n",
      "| 15 |   Thomas White    |   THOMAS WHITE    |\n",
      "| 16 |  Jessica Harris   |  JESSICA HARRIS   |\n",
      "| 17 | Christopher Clark | CHRISTOPHER CLARK |\n",
      "| 18 |  Patricia Lewis   |  PATRICIA LEWIS   |\n",
      "| 19 |  Matthew Walker   |  MATTHEW WALKER   |\n",
      "| 20 |     Lisa Hall     |     LISA HALL     |\n",
      "+----+-------------------+-------------------+\n"
     ]
    }
   ],
   "source": [
    "print(tabulate(cursor.fetchall(),headers = [column[0] for column in cursor.description], tablefmt = 'pretty'))"
   ]
  },
  {
   "cell_type": "code",
   "execution_count": 26,
   "id": "9cc7105b-5bea-4863-8fcc-c684fb5c47c0",
   "metadata": {
    "tags": []
   },
   "outputs": [],
   "source": [
    "# 2. LOWER function : to covert string to lower case\n",
    "cursor.execute(\"\"\"\n",
    "SELECT id, patient_name, LOWER(patient_name) AS LOWERCASE_NAMES FROM sidfirst.healthcaredata\n",
    "\"\"\")"
   ]
  },
  {
   "cell_type": "code",
   "execution_count": 27,
   "id": "46216a37-ac1f-44a6-9c0c-8cdd22971a3e",
   "metadata": {
    "tags": []
   },
   "outputs": [
    {
     "name": "stdout",
     "output_type": "stream",
     "text": [
      "+----+-------------------+-------------------+\n",
      "| id |   patient_name    |  LOWERCASE_NAMES  |\n",
      "+----+-------------------+-------------------+\n",
      "| 1  |     John Doe      |     john doe      |\n",
      "| 2  |    Jane Smith     |    jane smith     |\n",
      "| 3  |   Robert Brown    |   robert brown    |\n",
      "| 4  |    Emily Davis    |    emily davis    |\n",
      "| 5  |  Michael Johnson  |  michael johnson  |\n",
      "| 6  |   Sarah Wilson    |   sarah wilson    |\n",
      "| 7  |  David Martinez   |  david martinez   |\n",
      "| 8  |   Laura Garcia    |   laura garcia    |\n",
      "| 9  |  James Rodriguez  |  james rodriguez  |\n",
      "| 10 |  Mary Hernandez   |  mary hernandez   |\n",
      "| 11 |   Daniel Lopez    |   daniel lopez    |\n",
      "| 12 |  Linda Gonzalez   |  linda gonzalez   |\n",
      "| 13 |   Joseph Perez    |   joseph perez    |\n",
      "| 14 |     Karen Lee     |     karen lee     |\n",
      "| 15 |   Thomas White    |   thomas white    |\n",
      "| 16 |  Jessica Harris   |  jessica harris   |\n",
      "| 17 | Christopher Clark | christopher clark |\n",
      "| 18 |  Patricia Lewis   |  patricia lewis   |\n",
      "| 19 |  Matthew Walker   |  matthew walker   |\n",
      "| 20 |     Lisa Hall     |     lisa hall     |\n",
      "+----+-------------------+-------------------+\n"
     ]
    }
   ],
   "source": [
    "print(tabulate(cursor.fetchall(),headers = [column[0] for column in cursor.description],tablefmt = 'pretty'))"
   ]
  },
  {
   "cell_type": "code",
   "execution_count": 35,
   "id": "68a3d252-6bea-4cc8-bb59-b8b6c84dfbac",
   "metadata": {
    "tags": []
   },
   "outputs": [],
   "source": [
    "#3.CONCAT function : to concatenates two or more strings\n",
    "# syntax : select CONCAT (string1,strinng2.string3,...)\n",
    "\n",
    "cursor.execute(\"\"\"\n",
    "SELECT id,patient_name, CONCAT('diagno : ',diagnosis,'--> tratment : ',treatment) AS diagnosis_treatment FROM sidfirst.healthcaredata\n",
    "\"\"\")"
   ]
  },
  {
   "cell_type": "code",
   "execution_count": 36,
   "id": "b3dcf385-51da-4ef9-b3b3-4b2bf0c2b64f",
   "metadata": {
    "tags": []
   },
   "outputs": [
    {
     "name": "stdout",
     "output_type": "stream",
     "text": [
      "+----+-------------------+-------------------------------------------------------+\n",
      "| id |   patient_name    |                  diagnosis_treatment                  |\n",
      "+----+-------------------+-------------------------------------------------------+\n",
      "| 1  |     John Doe      |    diagno : Hypertension--> tratment : Medication     |\n",
      "| 2  |    Jane Smith     |        diagno : Diabetes--> tratment : Insulin        |\n",
      "| 3  |   Robert Brown    |         diagno : Asthma--> tratment : Inhaler         |\n",
      "| 4  |    Emily Davis    |      diagno : Flu--> tratment : Rest and fluids       |\n",
      "| 5  |  Michael Johnson  | diagno : Hypertension--> tratment : Lifestyle changes |\n",
      "| 6  |   Sarah Wilson    |        diagno : Anxiety--> tratment : Therapy         |\n",
      "| 7  |  David Martinez   |   diagno : Back Pain--> tratment : Physical therapy   |\n",
      "| 8  |   Laura Garcia    |         diagno : Flu--> tratment : Medication         |\n",
      "| 9  |  James Rodriguez  |     diagno : Diabetes--> tratment : Diet control      |\n",
      "| 10 |  Mary Hernandez   |       diagno : Asthma--> tratment : Medication        |\n",
      "| 11 |   Daniel Lopez    |    diagno : Hypertension--> tratment : Medication     |\n",
      "| 12 |  Linda Gonzalez   |      diagno : Flu--> tratment : Rest and fluids       |\n",
      "| 13 |   Joseph Perez    |       diagno : Anxiety--> tratment : Medication       |\n",
      "| 14 |     Karen Lee     |     diagno : Back Pain--> tratment : Painkillers      |\n",
      "| 15 |   Thomas White    |       diagno : Diabetes--> tratment : Exercise        |\n",
      "| 16 |  Jessica Harris   |         diagno : Asthma--> tratment : Inhaler         |\n",
      "| 17 | Christopher Clark |    diagno : Hypertension--> tratment : Medication     |\n",
      "| 18 |  Patricia Lewis   |       diagno : Anxiety--> tratment : Meditation       |\n",
      "| 19 |  Matthew Walker   |         diagno : Flu--> tratment : Medication         |\n",
      "| 20 |     Lisa Hall     |       diagno : Back Pain--> tratment : Surgery        |\n",
      "+----+-------------------+-------------------------------------------------------+\n"
     ]
    }
   ],
   "source": [
    "print(tabulate(cursor.fetchall(),headers = [column[0] for column in cursor.description],tablefmt = 'pretty'))"
   ]
  },
  {
   "cell_type": "code",
   "execution_count": 13,
   "id": "1cdaab1a-1766-4acb-881a-167d892805f9",
   "metadata": {},
   "outputs": [],
   "source": [
    "#3. REPLACE \n",
    "# it replaces substring in a given string with new string-- substring --> part of string. example: string--> \"SQL fundamentals\" then substring--> \"SQL\" or \"Fundamentals\"\n",
    "# syntax: REPLACE (string, old string, new string) --> ( \"SQL Fundamentals\", \"SQL\", \"PYTHON\" ) --> replacing SQL with PYTHON\n",
    "\n",
    "# REPLACING Flu --> with ---> Fever\n",
    "\n",
    "cursor.execute(\"\"\"\n",
    "SELECT id, diagnosis, REPLACE(diagnosis,\"Flu\",\"Feverr\") AS New_diagnosis FROM sidfirst.healthcaredata\n",
    "\"\"\")"
   ]
  },
  {
   "cell_type": "code",
   "execution_count": 14,
   "id": "b9563d9a-9344-4bdf-852e-597c19a4e1c3",
   "metadata": {
    "tags": []
   },
   "outputs": [
    {
     "name": "stdout",
     "output_type": "stream",
     "text": [
      "+----+--------------+---------------+\n",
      "| id |  diagnosis   | New_diagnosis |\n",
      "+----+--------------+---------------+\n",
      "| 1  | Hypertension | Hypertension  |\n",
      "| 2  |   Diabetes   |   Diabetes    |\n",
      "| 3  |    Asthma    |    Asthma     |\n",
      "| 4  |     Flu      |    Feverr     |\n",
      "| 5  | Hypertension | Hypertension  |\n",
      "| 6  |   Anxiety    |    Anxiety    |\n",
      "| 7  |  Back Pain   |   Back Pain   |\n",
      "| 8  |     Flu      |    Feverr     |\n",
      "| 9  |   Diabetes   |   Diabetes    |\n",
      "| 10 |    Asthma    |    Asthma     |\n",
      "| 11 | Hypertension | Hypertension  |\n",
      "| 12 |     Flu      |    Feverr     |\n",
      "| 13 |   Anxiety    |    Anxiety    |\n",
      "| 14 |  Back Pain   |   Back Pain   |\n",
      "| 15 |   Diabetes   |   Diabetes    |\n",
      "| 16 |    Asthma    |    Asthma     |\n",
      "| 17 | Hypertension | Hypertension  |\n",
      "| 18 |   Anxiety    |    Anxiety    |\n",
      "| 19 |     Flu      |    Feverr     |\n",
      "| 20 |  Back Pain   |   Back Pain   |\n",
      "+----+--------------+---------------+\n"
     ]
    }
   ],
   "source": [
    "print(tabulate(cursor.fetchall(),headers = [column[0] for column in cursor.description],tablefmt = \"pretty\"))"
   ]
  },
  {
   "cell_type": "code",
   "execution_count": 25,
   "id": "9deaba98-c51c-4679-9d09-f35d3a0a8586",
   "metadata": {
    "tags": []
   },
   "outputs": [],
   "source": [
    "#4. TRIM FUNCTION : Removes trailing and leading spaces-- syntax--> TRIM(String)\n",
    "cursor.execute(\"\"\"\n",
    "SELECT id, TRIM(patient_name) AS Trimmed_Name FROM sidfirst.healthcaredata\n",
    "\"\"\")"
   ]
  },
  {
   "cell_type": "code",
   "execution_count": 26,
   "id": "06de2119-8c93-4e85-924d-3116a6f7b63a",
   "metadata": {
    "tags": []
   },
   "outputs": [
    {
     "name": "stdout",
     "output_type": "stream",
     "text": [
      "+----+-------------------+\n",
      "| id |   Trimmed_Name    |\n",
      "+----+-------------------+\n",
      "| 1  |     John Doe      |\n",
      "| 2  |    Jane Smith     |\n",
      "| 3  |   Robert Brown    |\n",
      "| 4  |    Emily Davis    |\n",
      "| 5  |  Michael Johnson  |\n",
      "| 6  |   Sarah Wilson    |\n",
      "| 7  |  David Martinez   |\n",
      "| 8  |   Laura Garcia    |\n",
      "| 9  |  James Rodriguez  |\n",
      "| 10 |  Mary Hernandez   |\n",
      "| 11 |   Daniel Lopez    |\n",
      "| 12 |  Linda Gonzalez   |\n",
      "| 13 |   Joseph Perez    |\n",
      "| 14 |     Karen Lee     |\n",
      "| 15 |   Thomas White    |\n",
      "| 16 |  Jessica Harris   |\n",
      "| 17 | Christopher Clark |\n",
      "| 18 |  Patricia Lewis   |\n",
      "| 19 |  Matthew Walker   |\n",
      "| 20 |     Lisa Hall     |\n",
      "+----+-------------------+\n"
     ]
    }
   ],
   "source": [
    "print(tabulate(cursor.fetchall(),headers=[column[0] for column in cursor.description],tablefmt = 'pretty'))"
   ]
  },
  {
   "cell_type": "code",
   "execution_count": 33,
   "id": "87d7fe08-28fc-4263-b451-bc6720c54418",
   "metadata": {
    "tags": []
   },
   "outputs": [],
   "source": [
    "# 5. SUBSTR --> extracts a substring from a string, syntax : SUBSTR(string,start,length) -- length is optional\n",
    "\n",
    "cursor.execute(\"\"\"\n",
    "SELECT id,patient_name, SUBSTR(patient_name,1,5) AS Short_names FROM sidfirst.healthcaredata\n",
    "\"\"\")"
   ]
  },
  {
   "cell_type": "code",
   "execution_count": 34,
   "id": "85fb79f7-5bc8-4a27-91b1-d72e01dcb225",
   "metadata": {
    "tags": []
   },
   "outputs": [
    {
     "name": "stdout",
     "output_type": "stream",
     "text": [
      "+----+-------------------+-------------+\n",
      "| id |   patient_name    | Short_names |\n",
      "+----+-------------------+-------------+\n",
      "| 1  |     John Doe      |    John     |\n",
      "| 2  |    Jane Smith     |    Jane     |\n",
      "| 3  |   Robert Brown    |    Rober    |\n",
      "| 4  |    Emily Davis    |    Emily    |\n",
      "| 5  |  Michael Johnson  |    Micha    |\n",
      "| 6  |   Sarah Wilson    |    Sarah    |\n",
      "| 7  |  David Martinez   |    David    |\n",
      "| 8  |   Laura Garcia    |    Laura    |\n",
      "| 9  |  James Rodriguez  |    James    |\n",
      "| 10 |  Mary Hernandez   |    Mary     |\n",
      "| 11 |   Daniel Lopez    |    Danie    |\n",
      "| 12 |  Linda Gonzalez   |    Linda    |\n",
      "| 13 |   Joseph Perez    |    Josep    |\n",
      "| 14 |     Karen Lee     |    Karen    |\n",
      "| 15 |   Thomas White    |    Thoma    |\n",
      "| 16 |  Jessica Harris   |    Jessi    |\n",
      "| 17 | Christopher Clark |    Chris    |\n",
      "| 18 |  Patricia Lewis   |    Patri    |\n",
      "| 19 |  Matthew Walker   |    Matth    |\n",
      "| 20 |     Lisa Hall     |    Lisa     |\n",
      "+----+-------------------+-------------+\n"
     ]
    }
   ],
   "source": [
    "print(tabulate(cursor.fetchall(),headers = [column[0] for column in cursor.description],tablefmt = 'pretty'))"
   ]
  },
  {
   "cell_type": "code",
   "execution_count": 6,
   "id": "3dadc835-f578-4064-a49f-180c6d1917bb",
   "metadata": {},
   "outputs": [],
   "source": [
    "# 6. Length : length of string or text or column values\n",
    "cursor.execute(\"\"\"\n",
    "SELECT id,patient_name,LENGTH(patient_name) AS Lenght_name FROM sidfirst.healthcaredata\n",
    "\"\"\")"
   ]
  },
  {
   "cell_type": "code",
   "execution_count": 7,
   "id": "30a7fbc2-1772-4d02-8e3b-18c9362d8703",
   "metadata": {
    "tags": []
   },
   "outputs": [
    {
     "name": "stdout",
     "output_type": "stream",
     "text": [
      "+----+-------------------+-------------+\n",
      "| id |   patient_name    | Lenght_name |\n",
      "+----+-------------------+-------------+\n",
      "| 1  |     John Doe      |      8      |\n",
      "| 2  |    Jane Smith     |     10      |\n",
      "| 3  |   Robert Brown    |     12      |\n",
      "| 4  |    Emily Davis    |     11      |\n",
      "| 5  |  Michael Johnson  |     15      |\n",
      "| 6  |   Sarah Wilson    |     12      |\n",
      "| 7  |  David Martinez   |     14      |\n",
      "| 8  |   Laura Garcia    |     12      |\n",
      "| 9  |  James Rodriguez  |     15      |\n",
      "| 10 |  Mary Hernandez   |     14      |\n",
      "| 11 |   Daniel Lopez    |     12      |\n",
      "| 12 |  Linda Gonzalez   |     14      |\n",
      "| 13 |   Joseph Perez    |     12      |\n",
      "| 14 |     Karen Lee     |      9      |\n",
      "| 15 |   Thomas White    |     12      |\n",
      "| 16 |  Jessica Harris   |     14      |\n",
      "| 17 | Christopher Clark |     17      |\n",
      "| 18 |  Patricia Lewis   |     14      |\n",
      "| 19 |  Matthew Walker   |     14      |\n",
      "| 20 |     Lisa Hall     |      9      |\n",
      "+----+-------------------+-------------+\n"
     ]
    }
   ],
   "source": [
    "print(tabulate(cursor.fetchall(),headers = [column [0] for column in cursor.description],tablefmt = 'pretty'))"
   ]
  },
  {
   "cell_type": "code",
   "execution_count": null,
   "id": "750a0615-eb8a-43a4-b11f-4334056d94fe",
   "metadata": {},
   "outputs": [],
   "source": []
  }
 ],
 "metadata": {
  "kernelspec": {
   "display_name": "Python 3 (ipykernel)",
   "language": "python",
   "name": "python3"
  },
  "language_info": {
   "codemirror_mode": {
    "name": "ipython",
    "version": 3
   },
   "file_extension": ".py",
   "mimetype": "text/x-python",
   "name": "python",
   "nbconvert_exporter": "python",
   "pygments_lexer": "ipython3",
   "version": "3.11.5"
  }
 },
 "nbformat": 4,
 "nbformat_minor": 5
}
