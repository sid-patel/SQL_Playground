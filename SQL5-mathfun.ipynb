{
 "cells": [
  {
   "cell_type": "code",
   "execution_count": 1,
   "id": "87ba5b4c-09f2-4fa2-a764-07d6c0fd1fb3",
   "metadata": {
    "tags": []
   },
   "outputs": [
    {
     "name": "stdout",
     "output_type": "stream",
     "text": [
      "Requirement already satisfied: mysql-connector-python in c:\\users\\admin\\anaconda3\\lib\\site-packages (8.3.0)\n",
      "Note: you may need to restart the kernel to use updated packages.\n"
     ]
    }
   ],
   "source": [
    "pip install mysql-connector-python"
   ]
  },
  {
   "cell_type": "code",
   "execution_count": 2,
   "id": "aeb9bfc7-aa0a-4300-b678-070a9f40ca1d",
   "metadata": {
    "tags": []
   },
   "outputs": [],
   "source": [
    "import mysql.connector as d\n",
    "from tabulate import tabulate\n",
    "mydb = d.connect(host = 'localhost', user = 'root', passwd = 'Loveumom@123')\n",
    "cursor = mydb.cursor()"
   ]
  },
  {
   "cell_type": "code",
   "execution_count": 3,
   "id": "a88310a4-2a8f-4799-a924-c1cf9cb315cb",
   "metadata": {
    "tags": []
   },
   "outputs": [
    {
     "name": "stdout",
     "output_type": "stream",
     "text": [
      "+--------------------+\n",
      "|     DATABASES      |\n",
      "+--------------------+\n",
      "|     cardataset     |\n",
      "| information_schema |\n",
      "|       mysql        |\n",
      "| performance_schema |\n",
      "|      sidfirst      |\n",
      "|    sqlpractice1    |\n",
      "|        sys         |\n",
      "+--------------------+\n"
     ]
    }
   ],
   "source": [
    "cursor.execute('SHOW DATABASES')\n",
    "print(tabulate(cursor.fetchall(),headers=['DATABASES'],tablefmt = 'pretty'))"
   ]
  },
  {
   "cell_type": "code",
   "execution_count": 4,
   "id": "734c699d-ce13-4f01-8638-2cb2473918fa",
   "metadata": {},
   "outputs": [],
   "source": [
    "cursor.execute('USE sidfirst')\n",
    "cursor.execute('SHOW TABLES')"
   ]
  },
  {
   "cell_type": "code",
   "execution_count": 5,
   "id": "532d4b2e-1ec2-406e-a9ca-7c7e2b927137",
   "metadata": {
    "tags": []
   },
   "outputs": [
    {
     "data": {
      "text/plain": [
       "[('glassdata',),\n",
       " ('healthcaredata',),\n",
       " ('ineuron',),\n",
       " ('mysales',),\n",
       " ('sales',),\n",
       " ('sid1',),\n",
       " ('workers',)]"
      ]
     },
     "execution_count": 5,
     "metadata": {},
     "output_type": "execute_result"
    }
   ],
   "source": [
    "cursor.fetchall()"
   ]
  },
  {
   "cell_type": "code",
   "execution_count": null,
   "id": "a92643c8-76ee-49a0-92e5-11ce627ca6ff",
   "metadata": {},
   "outputs": [],
   "source": []
  }
 ],
 "metadata": {
  "kernelspec": {
   "display_name": "Python 3 (ipykernel)",
   "language": "python",
   "name": "python3"
  },
  "language_info": {
   "codemirror_mode": {
    "name": "ipython",
    "version": 3
   },
   "file_extension": ".py",
   "mimetype": "text/x-python",
   "name": "python",
   "nbconvert_exporter": "python",
   "pygments_lexer": "ipython3",
   "version": "3.11.5"
  }
 },
 "nbformat": 4,
 "nbformat_minor": 5
}
